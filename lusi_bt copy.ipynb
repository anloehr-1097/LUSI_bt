{
 "cells": [
  {
   "cell_type": "markdown",
   "id": "03574cb7-e4b5-4229-b5fa-7ca7cee3794a",
   "metadata": {},
   "source": [
    "# Learning Using Statistical Invariants"
   ]
  },
  {
   "cell_type": "markdown",
   "id": "d9383a3b-d3fd-4706-979e-705f326590a5",
   "metadata": {},
   "source": [
    "author: Andreas Loehr"
   ]
  },
  {
   "cell_type": "markdown",
   "id": "28af1c59-f538-40f4-b0b4-334e16e33634",
   "metadata": {},
   "source": [
    "## Imports"
   ]
  },
  {
   "cell_type": "code",
   "execution_count": 1,
   "id": "76b74297-4729-4f3b-b8e9-7d4f71fb4179",
   "metadata": {},
   "outputs": [],
   "source": [
    "import tensorflow as tf\n",
    "from tensorflow.keras.datasets import mnist\n",
    "from tensorflow import keras\n",
    "from tensorflow.keras import layers\n",
    "import matplotlib.pyplot as plt\n",
    "import numpy as np"
   ]
  },
  {
   "cell_type": "code",
   "execution_count": 2,
   "id": "d35cc17c-9082-4792-93f3-f01c4ddb4ef5",
   "metadata": {},
   "outputs": [],
   "source": [
    "import pandas as pd"
   ]
  },
  {
   "cell_type": "markdown",
   "id": "fafa4497-2879-4ad5-92e6-8906d91e5491",
   "metadata": {},
   "source": [
    "## Load MNIST data"
   ]
  },
  {
   "cell_type": "code",
   "execution_count": 3,
   "id": "ec9e254b-34a0-4a02-9e92-a4a64ba68b54",
   "metadata": {},
   "outputs": [],
   "source": [
    "(x_train, y_train), (x_test,y_test) = mnist.load_data()"
   ]
  },
  {
   "cell_type": "code",
   "execution_count": 4,
   "id": "15d0f298-924b-4a5e-b11c-752732541ed4",
   "metadata": {},
   "outputs": [],
   "source": [
    "# TODO: Illustrate some MNIST samples in grid structure"
   ]
  },
  {
   "cell_type": "code",
   "execution_count": 5,
   "id": "d0631dbc-bab9-4486-a17b-a479ff4ca0d6",
   "metadata": {},
   "outputs": [
    {
     "data": {
      "text/plain": [
       "<matplotlib.image.AxesImage at 0x19b5ab610>"
      ]
     },
     "execution_count": 5,
     "metadata": {},
     "output_type": "execute_result"
    },
    {
     "data": {
      "image/png": "[encoded data removed]",
      "text/plain": [
       "<Figure size 432x288 with 1 Axes>"
      ]
     },
     "metadata": {
      "needs_background": "light"
     },
     "output_type": "display_data"
    }
   ],
   "source": [
    "plt.imshow(x_train[14])\n",
    "# shape: (28,28)"
   ]
  },
  {
   "cell_type": "markdown",
   "id": "37d66f63-8027-4241-b679-82046039df05",
   "metadata": {},
   "source": [
    "## A simple neural network"
   ]
  },
  {
   "cell_type": "code",
   "execution_count": 167,
   "id": "1c932824-d46b-41e7-8fad-0fa91a02bb89",
   "metadata": {},
   "outputs": [],
   "source": [
    "# Define a simple neural network with one hidden layer and one output layer\n",
    "nn_simple = keras.Sequential(\n",
    "    [\n",
    "        layers.Flatten(input_shape=(28,28), name=\"flatten_input\"),  # declare shape of one input beforehand\n",
    "        layers.Dense(500, activation=\"relu\", name=\"hidden_layer_01\"),\n",
    "        # layers.Dense(10, name=\"output_layer\"),\n",
    "        layers.Dense(10, name=\"output_layer\"),\n",
    "    ]\n",
    ")\n",
    "# Call model on a test input\n",
    "x = tf.ones((2,28,28))\n",
    "y = nn_simple(x)"
   ]
  },
  {
   "cell_type": "code",
   "execution_count": 168,
   "id": "3a87ce13-9282-40df-ad7f-d7ed0dcde74c",
   "metadata": {},
   "outputs": [
    {
     "name": "stdout",
     "output_type": "stream",
     "text": [
      "Model: \"sequential\"\n",
      "_________________________________________________________________\n",
      " Layer (type)                Output Shape              Param #   \n",
      "=================================================================\n",
      " flatten_input (Flatten)     (None, 784)               0         \n",
      "                                                                 \n",
      " hidden_layer_01 (Dense)     (None, 500)               392500    \n",
      "                                                                 \n",
      " output_layer (Dense)        (None, 10)                5010      \n",
      "                                                                 \n",
      "=================================================================\n",
      "Total params: 397,510\n",
      "Trainable params: 397,510\n",
      "Non-trainable params: 0\n",
      "_________________________________________________________________\n"
     ]
    }
   ],
   "source": [
    "nn_simple.summary()"
   ]
  },
  {
   "cell_type": "code",
   "execution_count": 184,
   "id": "7080d44a-9da1-4ee6-a4a0-41c115faa134",
   "metadata": {},
   "outputs": [],
   "source": [
    "nn_simple.compile(\n",
    "    optimizer=keras.optimizers.RMSprop(learning_rate=1e-3),\n",
    "    # loss=keras.losses.SparseCategoricalCrossentropy(),\n",
    "    loss=keras.losses.MeanSquaredError(),\n",
    "    metrics=[keras.metrics.SparseCategoricalAccuracy()],\n",
    ")"
   ]
  },
  {
   "cell_type": "code",
   "execution_count": null,
   "id": "e0845f03-ea0c-463d-9f5e-f6d46cf33604",
   "metadata": {},
   "outputs": [],
   "source": []
  },
  {
   "cell_type": "markdown",
   "id": "0c74939e-888e-41d2-badb-4afb74d741a8",
   "metadata": {},
   "source": [
    "## Preprocessing data"
   ]
  },
  {
   "cell_type": "code",
   "execution_count": 6,
   "id": "bb7db192-c4d4-440b-a528-490d3e05953a",
   "metadata": {},
   "outputs": [],
   "source": [
    "# Preprocess the data (these are NumPy arrays)\n",
    "# x_train = x_train.reshape(60000, 784).astype(\"float32\") / 255\n",
    "# x_test = x_test.reshape(10000, 784).astype(\"float32\") / 255\n",
    "\n",
    "x_train = x_train.astype(\"float32\") / 255\n",
    "x_test = x_test.astype(\"float32\") / 255\n",
    "\n",
    "y_train = y_train.astype(\"float32\")\n",
    "y_test = y_test.astype(\"float32\")\n",
    "\n",
    "# Reserve 10,000 samples for validation\n",
    "x_val = x_train[-10000:]\n",
    "y_val = y_train[-10000:]\n",
    "x_train = x_train[:-10000]\n",
    "y_train = y_train[:-10000]"
   ]
  },
  {
   "cell_type": "code",
   "execution_count": 186,
   "id": "09f49c80-e0bf-428c-a2d2-526dec47963e",
   "metadata": {},
   "outputs": [
    {
     "ename": "LookupError",
     "evalue": "No gradient defined for operation'IteratorGetNext' (op type: IteratorGetNext). In general every operation must have an associated `@tf.RegisterGradient` for correct autodiff, which this op is lacking. If you want to pretend this operation is a constant in your program, you may insert `tf.stop_gradient`. This can be useful to silence the error in cases where you know gradients are not needed, e.g. the forward pass of tf.custom_gradient. Please see more details in https://www.tensorflow.org/api_docs/python/tf/custom_gradient.",
     "output_type": "error",
     "traceback": [
      "\u001b[0;31m---------------------------------------------------------------------------\u001b[0m",
      "\u001b[0;31mLookupError\u001b[0m                               Traceback (most recent call last)",
      "Input \u001b[0;32mIn [186]\u001b[0m, in \u001b[0;36m<cell line: 2>\u001b[0;34m()\u001b[0m\n\u001b[1;32m      2\u001b[0m \u001b[38;5;28;01mwith\u001b[39;00m tf\u001b[38;5;241m.\u001b[39mGradientTape() \u001b[38;5;28;01mas\u001b[39;00m g:\n\u001b[1;32m      3\u001b[0m     g\u001b[38;5;241m.\u001b[39mwatch(x)\n\u001b[0;32m----> 4\u001b[0m     y \u001b[38;5;241m=\u001b[39m \u001b[43mnn_simple\u001b[49m\u001b[38;5;241;43m.\u001b[39;49m\u001b[43mpredict\u001b[49m\u001b[43m(\u001b[49m\u001b[43mx_train\u001b[49m\u001b[43m)\u001b[49m\n\u001b[1;32m      5\u001b[0m dy_dx \u001b[38;5;241m=\u001b[39m g\u001b[38;5;241m.\u001b[39mgradient(y, nn_simple\u001b[38;5;241m.\u001b[39mweights)\n\u001b[1;32m      6\u001b[0m \u001b[38;5;28mprint\u001b[39m(dy_dx)\n",
      "File \u001b[0;32m~/opt/anaconda3/envs/lusi/lib/python3.10/site-packages/keras/utils/traceback_utils.py:67\u001b[0m, in \u001b[0;36mfilter_traceback.<locals>.error_handler\u001b[0;34m(*args, **kwargs)\u001b[0m\n\u001b[1;32m     65\u001b[0m \u001b[38;5;28;01mexcept\u001b[39;00m \u001b[38;5;167;01mException\u001b[39;00m \u001b[38;5;28;01mas\u001b[39;00m e:  \u001b[38;5;66;03m# pylint: disable=broad-except\u001b[39;00m\n\u001b[1;32m     66\u001b[0m   filtered_tb \u001b[38;5;241m=\u001b[39m _process_traceback_frames(e\u001b[38;5;241m.\u001b[39m__traceback__)\n\u001b[0;32m---> 67\u001b[0m   \u001b[38;5;28;01mraise\u001b[39;00m e\u001b[38;5;241m.\u001b[39mwith_traceback(filtered_tb) \u001b[38;5;28;01mfrom\u001b[39;00m \u001b[38;5;28mNone\u001b[39m\n\u001b[1;32m     68\u001b[0m \u001b[38;5;28;01mfinally\u001b[39;00m:\n\u001b[1;32m     69\u001b[0m   \u001b[38;5;28;01mdel\u001b[39;00m filtered_tb\n",
      "File \u001b[0;32m~/opt/anaconda3/envs/lusi/lib/python3.10/site-packages/tensorflow/python/ops/gradients_util.py:626\u001b[0m, in \u001b[0;36m_GradientsHelper\u001b[0;34m(ys, xs, grad_ys, name, colocate_gradients_with_ops, gate_gradients, aggregation_method, stop_gradients, unconnected_gradients, src_graph)\u001b[0m\n\u001b[1;32m    624\u001b[0m       grad_fn \u001b[38;5;241m=\u001b[39m func_call\u001b[38;5;241m.\u001b[39mpython_grad_func\n\u001b[1;32m    625\u001b[0m     \u001b[38;5;28;01melse\u001b[39;00m:\n\u001b[0;32m--> 626\u001b[0m       \u001b[38;5;28;01mraise\u001b[39;00m \u001b[38;5;167;01mLookupError\u001b[39;00m(\n\u001b[1;32m    627\u001b[0m           \u001b[38;5;124m\"\u001b[39m\u001b[38;5;124mNo gradient defined for operation\u001b[39m\u001b[38;5;124m\"\u001b[39m\n\u001b[1;32m    628\u001b[0m           \u001b[38;5;124mf\u001b[39m\u001b[38;5;124m\"\u001b[39m\u001b[38;5;124m'\u001b[39m\u001b[38;5;132;01m{\u001b[39;00mop\u001b[38;5;241m.\u001b[39mname\u001b[38;5;132;01m}\u001b[39;00m\u001b[38;5;124m'\u001b[39m\u001b[38;5;124m (op type: \u001b[39m\u001b[38;5;132;01m{\u001b[39;00mop\u001b[38;5;241m.\u001b[39mtype\u001b[38;5;132;01m}\u001b[39;00m\u001b[38;5;124m). \u001b[39m\u001b[38;5;124m\"\u001b[39m\n\u001b[1;32m    629\u001b[0m           \u001b[38;5;124m\"\u001b[39m\u001b[38;5;124mIn general every operation must have an associated \u001b[39m\u001b[38;5;124m\"\u001b[39m\n\u001b[1;32m    630\u001b[0m           \u001b[38;5;124m\"\u001b[39m\u001b[38;5;124m`@tf.RegisterGradient` for correct autodiff, which this \u001b[39m\u001b[38;5;124m\"\u001b[39m\n\u001b[1;32m    631\u001b[0m           \u001b[38;5;124m\"\u001b[39m\u001b[38;5;124mop is lacking. If you want to pretend this \u001b[39m\u001b[38;5;124m\"\u001b[39m\n\u001b[1;32m    632\u001b[0m           \u001b[38;5;124m\"\u001b[39m\u001b[38;5;124moperation is a constant in your program, you may insert \u001b[39m\u001b[38;5;124m\"\u001b[39m\n\u001b[1;32m    633\u001b[0m           \u001b[38;5;124m\"\u001b[39m\u001b[38;5;124m`tf.stop_gradient`. This can be useful to silence the \u001b[39m\u001b[38;5;124m\"\u001b[39m\n\u001b[1;32m    634\u001b[0m           \u001b[38;5;124m\"\u001b[39m\u001b[38;5;124merror in cases where you know gradients are not needed, \u001b[39m\u001b[38;5;124m\"\u001b[39m\n\u001b[1;32m    635\u001b[0m           \u001b[38;5;124m\"\u001b[39m\u001b[38;5;124me.g. the forward pass of tf.custom_gradient. \u001b[39m\u001b[38;5;124m\"\u001b[39m\n\u001b[1;32m    636\u001b[0m           \u001b[38;5;124m\"\u001b[39m\u001b[38;5;124mPlease see more details in \u001b[39m\u001b[38;5;124m\"\u001b[39m\n\u001b[1;32m    637\u001b[0m           \u001b[38;5;124m\"\u001b[39m\u001b[38;5;124mhttps://www.tensorflow.org/api_docs/python/tf/custom_gradient.\u001b[39m\u001b[38;5;124m\"\u001b[39m)  \u001b[38;5;66;03m# pylint: disable=line-too-long\u001b[39;00m\n\u001b[1;32m    638\u001b[0m \u001b[38;5;28;01mif\u001b[39;00m loop_state:\n\u001b[1;32m    639\u001b[0m   loop_state\u001b[38;5;241m.\u001b[39mEnterGradWhileContext(op, before\u001b[38;5;241m=\u001b[39m\u001b[38;5;28;01mFalse\u001b[39;00m)\n",
      "\u001b[0;31mLookupError\u001b[0m: No gradient defined for operation'IteratorGetNext' (op type: IteratorGetNext). In general every operation must have an associated `@tf.RegisterGradient` for correct autodiff, which this op is lacking. If you want to pretend this operation is a constant in your program, you may insert `tf.stop_gradient`. This can be useful to silence the error in cases where you know gradients are not needed, e.g. the forward pass of tf.custom_gradient. Please see more details in https://www.tensorflow.org/api_docs/python/tf/custom_gradient."
     ]
    }
   ],
   "source": [
    "x = tf.constant(x_train)\n",
    "with tf.GradientTape() as g:\n",
    "    g.watch(x)\n",
    "    y = nn_simple.predict(x_train)\n",
    "dy_dx = g.gradient(y, nn_simple.weights)\n",
    "print(dy_dx)"
   ]
  },
  {
   "cell_type": "code",
   "execution_count": 185,
   "id": "e3963fe2-13bf-4d5c-8751-4792a819f178",
   "metadata": {},
   "outputs": [
    {
     "name": "stdout",
     "output_type": "stream",
     "text": [
      "Epoch 1/15\n",
      "782/782 [==============================] - 3s 3ms/step - loss: 0.3038 - sparse_categorical_accuracy: 0.1025\n",
      "Epoch 2/15\n",
      "782/782 [==============================] - 3s 4ms/step - loss: 0.2838 - sparse_categorical_accuracy: 0.1041\n",
      "Epoch 3/15\n",
      "782/782 [==============================] - 3s 3ms/step - loss: 0.2714 - sparse_categorical_accuracy: 0.1052\n",
      "Epoch 4/15\n",
      "782/782 [==============================] - 3s 3ms/step - loss: 0.2609 - sparse_categorical_accuracy: 0.1032\n",
      "Epoch 5/15\n",
      "782/782 [==============================] - 3s 3ms/step - loss: 0.2506 - sparse_categorical_accuracy: 0.1044\n",
      "Epoch 6/15\n",
      "782/782 [==============================] - 3s 4ms/step - loss: 0.2389 - sparse_categorical_accuracy: 0.0996\n",
      "Epoch 7/15\n",
      "782/782 [==============================] - 3s 4ms/step - loss: 0.2308 - sparse_categorical_accuracy: 0.0975\n",
      "Epoch 8/15\n",
      "782/782 [==============================] - 3s 4ms/step - loss: 0.2199 - sparse_categorical_accuracy: 0.0958\n",
      "Epoch 9/15\n",
      "782/782 [==============================] - 3s 4ms/step - loss: 0.2127 - sparse_categorical_accuracy: 0.0942\n",
      "Epoch 10/15\n",
      "782/782 [==============================] - 3s 4ms/step - loss: 0.2064 - sparse_categorical_accuracy: 0.0921\n",
      "Epoch 11/15\n",
      "782/782 [==============================] - 3s 4ms/step - loss: 0.1987 - sparse_categorical_accuracy: 0.0928\n",
      "Epoch 12/15\n",
      "782/782 [==============================] - 3s 4ms/step - loss: 0.1933 - sparse_categorical_accuracy: 0.0915\n",
      "Epoch 13/15\n",
      "782/782 [==============================] - 3s 4ms/step - loss: 0.1872 - sparse_categorical_accuracy: 0.0982\n",
      "Epoch 14/15\n",
      "782/782 [==============================] - 4s 4ms/step - loss: 0.1803 - sparse_categorical_accuracy: 0.0963\n",
      "Epoch 15/15\n",
      "782/782 [==============================] - 3s 4ms/step - loss: 0.1756 - sparse_categorical_accuracy: 0.0980\n"
     ]
    }
   ],
   "source": [
    "hist_nn_simple = nn_simple.fit(\n",
    "    x_train,\n",
    "    y_train,\n",
    "    batch_size=64,\n",
    "    epochs=15\n",
    "    #validation_data=(x_val, y_val)  add argument\n",
    ")"
   ]
  },
  {
   "cell_type": "markdown",
   "id": "f956a033-ddd8-4339-960b-7022324c7355",
   "metadata": {},
   "source": [
    "### Modifying loss"
   ]
  },
  {
   "cell_type": "markdown",
   "id": "7394bda1-3140-4543-9496-0f5486660f38",
   "metadata": {},
   "source": [
    "custom loss function: https://www.tensorflow.org/guide/keras/train_and_evaluate/"
   ]
  },
  {
   "cell_type": "code",
   "execution_count": 100,
   "id": "a8928d4e-00fc-4169-b670-6ca76be9dcce",
   "metadata": {},
   "outputs": [],
   "source": [
    "class LusiMSE(keras.losses.Loss):\n",
    "    def __init__(self, alpha, beta, predicate_x, name=\"erm_lusi_mse\"):\n",
    "        super()._init__(name=name)\n",
    "        self.alpha = alpha\n",
    "        self.beta = beta\n",
    "        self.predicate_x = predicate_x\n",
    "        \n",
    "    def call(self, y_true, y_pred):\n",
    "        mse = tf.math.reduce_mean(tf.square(y_true - y_pred))\n",
    "        lusi_loss = tf.math.reduce_mean(predicate_x * (y_true - y_pred))\n",
    "        \n",
    "        return self.alpha * mse + self.beta * lusi_loss\n",
    "\n",
    "# Does not make sense to pass predicate values like this, as this requires to pass predicate values upon compilation of model.\n",
    "# Should only pass values once model is fitted.\n"
   ]
  },
  {
   "cell_type": "markdown",
   "id": "53222a25-14e5-47a6-a79d-7666b2902780",
   "metadata": {},
   "source": [
    "## Visualizing Statistical Invariants\n",
    "invariants to consider:\n",
    "- vertical symmetry\n",
    "- horizontal symmetry"
   ]
  },
  {
   "cell_type": "code",
   "execution_count": 174,
   "id": "b8ab6cea-2fdc-4e8c-9faf-21313ce7bad8",
   "metadata": {},
   "outputs": [],
   "source": [
    "test_img = x_train[7]"
   ]
  },
  {
   "cell_type": "code",
   "execution_count": 175,
   "id": "141f7325-144f-4ed7-b0ec-18731faa2653",
   "metadata": {},
   "outputs": [
    {
     "data": {
      "text/plain": [
       "<matplotlib.image.AxesImage at 0x1aaed7280>"
      ]
     },
     "execution_count": 175,
     "metadata": {},
     "output_type": "execute_result"
    },
    {
     "data": {
      "image/png": "[encoded data removed]",
      "text/plain": [
       "<Figure size 432x288 with 1 Axes>"
      ]
     },
     "metadata": {
      "needs_background": "light"
     },
     "output_type": "display_data"
    }
   ],
   "source": [
    "plt.imshow(np.fliplr(test_img))"
   ]
  },
  {
   "cell_type": "code",
   "execution_count": 176,
   "id": "9b0a8650-6789-4ef8-a453-ff58dc08e808",
   "metadata": {},
   "outputs": [
    {
     "data": {
      "text/plain": [
       "<matplotlib.image.AxesImage at 0x1aae92170>"
      ]
     },
     "execution_count": 176,
     "metadata": {},
     "output_type": "execute_result"
    },
    {
     "data": {
      "image/png": "[encoded data removed]",
      "text/plain": [
       "<Figure size 432x288 with 1 Axes>"
      ]
     },
     "metadata": {
      "needs_background": "light"
     },
     "output_type": "display_data"
    }
   ],
   "source": [
    "plt.imshow(test_img)"
   ]
  },
  {
   "cell_type": "code",
   "execution_count": 170,
   "id": "14b0ac04-3c16-4ee8-8af0-677ea440dffc",
   "metadata": {},
   "outputs": [
    {
     "data": {
      "text/plain": [
       "numpy.ndarray"
      ]
     },
     "execution_count": 170,
     "metadata": {},
     "output_type": "execute_result"
    }
   ],
   "source": [
    "type(test_img)"
   ]
  },
  {
   "cell_type": "code",
   "execution_count": 142,
   "id": "f73c28ad-10d1-42ee-9e7f-f3cd8b97c2ae",
   "metadata": {},
   "outputs": [
    {
     "data": {
      "text/plain": [
       "1.0"
      ]
     },
     "execution_count": 142,
     "metadata": {},
     "output_type": "execute_result"
    }
   ],
   "source": [
    "np.max(test_img)"
   ]
  },
  {
   "cell_type": "code",
   "execution_count": 115,
   "id": "e7726210-96d4-43ed-ad12-7160e1b4e84c",
   "metadata": {},
   "outputs": [],
   "source": [
    "t_ar = np.arange(16).reshape(4,4)"
   ]
  },
  {
   "cell_type": "code",
   "execution_count": 117,
   "id": "e464f986-9ef5-404f-92ff-bced30e04976",
   "metadata": {},
   "outputs": [
    {
     "data": {
      "text/plain": [
       "array([[ 0,  1,  2,  3],\n",
       "       [ 4,  5,  6,  7],\n",
       "       [ 8,  9, 10, 11],\n",
       "       [12, 13, 14, 15]])"
      ]
     },
     "execution_count": 117,
     "metadata": {},
     "output_type": "execute_result"
    }
   ],
   "source": [
    "t_ar"
   ]
  },
  {
   "cell_type": "code",
   "execution_count": 116,
   "id": "b8d4e09b-08cb-4158-89e4-5c8d3ad43eba",
   "metadata": {},
   "outputs": [
    {
     "data": {
      "text/plain": [
       "array([[ 3,  2,  1,  0],\n",
       "       [ 7,  6,  5,  4],\n",
       "       [11, 10,  9,  8],\n",
       "       [15, 14, 13, 12]])"
      ]
     },
     "execution_count": 116,
     "metadata": {},
     "output_type": "execute_result"
    }
   ],
   "source": [
    "np.fliplr(t_ar)"
   ]
  },
  {
   "cell_type": "code",
   "execution_count": 174,
   "id": "dbcd18ee-562e-444f-bf35-90d01fbea089",
   "metadata": {},
   "outputs": [],
   "source": [
    "def symmetry(img, axis=\"vertical\"):\n",
    "    \"\"\"Calculate a vertical symmetry score for normalized pictures.\n",
    "    \n",
    "    Parameters:\n",
    "    img :: np.array\n",
    "        Numpy array representing image. Pixel values in range [0,1]\n",
    "    \n",
    "    Returns:\n",
    "    \n",
    "    sym_score :: float \n",
    "        Value representing symmetrie score between 0 (not symmetric) and 1 (symmetric).\n",
    "    \"\"\"\n",
    "    \n",
    "    \n",
    "    \n",
    "    if axis == \"vertical\":\n",
    "        flipped_img = np.fliplr(img)\n",
    "\n",
    "    elif axis == \"horizontal\":\n",
    "        flipped_img = np.flipud(img)\n",
    "    \n",
    "    else:\n",
    "        # diagonal\n",
    "        flipped_img = np.flipud(np.fliplr(img))\n",
    "    \n",
    "\n",
    "    sym_score = 1 - np.mean(np.abs(img - flipped_img))\n",
    "    \n",
    "    \n",
    "    return sym_score\n",
    "    \n",
    "    \n",
    "    "
   ]
  },
  {
   "cell_type": "code",
   "execution_count": 196,
   "id": "5fa5c83d-a47f-44c4-8e43-a7911dd00175",
   "metadata": {},
   "outputs": [
    {
     "data": {
      "text/plain": [
       "0.8168767392635345"
      ]
     },
     "execution_count": 196,
     "metadata": {},
     "output_type": "execute_result"
    }
   ],
   "source": [
    "symmetry(test_img, \"horizontal\")"
   ]
  },
  {
   "cell_type": "code",
   "execution_count": 240,
   "id": "d7d365a4-905f-47cd-a6cc-d506a79c8d07",
   "metadata": {},
   "outputs": [],
   "source": [
    "eight_indices = np.where(y_train==8)\n",
    "four_indices =  np.where(y_train==4)\n",
    "six_indices =  np.where(y_train==4)\n",
    "eight_training_samples = x_train[eight_indices]\n",
    "four_training_samples = x_train[four_indices]\n",
    "six_training_samples = x_train[six_indices]"
   ]
  },
  {
   "cell_type": "code",
   "execution_count": 105,
   "id": "53401f6d-dfdd-4c17-9484-9e0aaee12f3c",
   "metadata": {},
   "outputs": [],
   "source": [
    "def symmetry(imgs, axis=\"both\"):\n",
    "    \"\"\"Calculate a symmetry score for normalized pictures.\n",
    "    \n",
    "    Parameters:\n",
    "    img :: np.array\n",
    "        Numpy array representing images. Pixel values in range [0,1]\n",
    "    \n",
    "    Returns:\n",
    "    \n",
    "    sym_score :: float \n",
    "        Value representing symmetrie score between 0 (not symmetric) and 1 (symmetric).\n",
    "    \"\"\"\n",
    "    \n",
    "    # crop image to area of non-zero pixels only\n",
    "    \n",
    "    # TODO\n",
    "    \n",
    "    if len(imgs.shape) < 3:\n",
    "        # only single image passed -> expand dims\n",
    "        imgs = np.expand_dims(imgs, axis=0)\n",
    "    \n",
    "    if len(imgs.shape) < 4:\n",
    "        # no channel for images -> add channel dim\n",
    "        imgs = np.expand_dims(imgs, axis=3)\n",
    "    \n",
    "    # print(imgs.shape)\n",
    "    if axis == \"vertical\":\n",
    "        # print(\"vertical\")\n",
    "        flipped_imgs = tf.image.flip_left_right(imgs)\n",
    "\n",
    "    elif axis == \"horizontal\":\n",
    "        # print(\"horizontal\")\n",
    "        flipped_imgs = tf.image.flip_up_down(imgs)\n",
    "    \n",
    "    else:\n",
    "        # diagonal\n",
    "        # print(\"both v. and h.\")\n",
    "        flipped_imgs = tf.image.flip_up_down(tf.image.flip_left_right(imgs))\n",
    "    \n",
    "    # print(tf.reduce_mean(tf.abs(flipped_imgs - imgs), axis=[1, 2, 3]).shape)\n",
    "    sym_score = tf.reduce_mean(1 - tf.reduce_mean(tf.abs(flipped_imgs - imgs), axis=[1, 2, 3]))\n",
    "    \n",
    "    return sym_score\n",
    "    \n",
    "    \n",
    "    "
   ]
  },
  {
   "cell_type": "code",
   "execution_count": 302,
   "id": "cdcac2ed-80c2-44c6-96de-6c4bc921423f",
   "metadata": {},
   "outputs": [
    {
     "name": "stdout",
     "output_type": "stream",
     "text": [
      "(4859, 28, 28, 1)\n",
      "vertical\n",
      "(4859,)\n"
     ]
    },
    {
     "data": {
      "text/plain": [
       "<tf.Tensor: shape=(), dtype=float32, numpy=0.87357384>"
      ]
     },
     "execution_count": 302,
     "metadata": {},
     "output_type": "execute_result"
    }
   ],
   "source": [
    "symmetry(six_training_samples)"
   ]
  },
  {
   "cell_type": "code",
   "execution_count": 303,
   "id": "4b6d2e75-3015-4eee-b690-ef9c4776f68c",
   "metadata": {},
   "outputs": [
    {
     "name": "stdout",
     "output_type": "stream",
     "text": [
      "(4842, 28, 28, 1)\n",
      "vertical\n",
      "(4842,)\n"
     ]
    },
    {
     "data": {
      "text/plain": [
       "<tf.Tensor: shape=(), dtype=float32, numpy=0.8471952>"
      ]
     },
     "execution_count": 303,
     "metadata": {},
     "output_type": "execute_result"
    }
   ],
   "source": [
    "symmetry(eight_training_samples)"
   ]
  },
  {
   "cell_type": "markdown",
   "id": "2cfdedb6-df12-47a4-b218-bf5eceb94944",
   "metadata": {},
   "source": [
    "### Intermediate Results 02.04.2022\n",
    "- Symmetry is highly senesitive to small translations of images, thus not really reliable in the way it is implemented.\n",
    "- the concept of symmetry is hard though, so not really a way to improve on above-mentioned issue though"
   ]
  },
  {
   "cell_type": "code",
   "execution_count": null,
   "id": "404e18c1-f60b-4e37-a785-edd7ccdb5b54",
   "metadata": {},
   "outputs": [],
   "source": []
  },
  {
   "cell_type": "markdown",
   "id": "3699173d-06fa-48e5-9e75-a6fd44368cdb",
   "metadata": {},
   "source": [
    "## Session 14.04.2022"
   ]
  },
  {
   "cell_type": "code",
   "execution_count": 167,
   "id": "e3e47b42-e7a9-4183-83c3-e47a8dc10ebc",
   "metadata": {},
   "outputs": [],
   "source": [
    "def determine_box(img):\n",
    "    \"\"\"Determine non-black area of image.\n",
    "    \n",
    "    Provide coordinates for cropping images to area which is filled.\n",
    "    \n",
    "    Parameters: \n",
    "    \n",
    "    img :: np.ndarray\n",
    "    \"\"\"\n",
    "    \n",
    "    hc = np.where(img!=0)[0]\n",
    "    wc = np.where(img!=0)[1]\n",
    "    ul = (np.min(hc), np.min(wc))\n",
    "    lr = (np.max(hc), np.max(wc))\n",
    "    cropped_img = img[ul[0]:lr[0], ul[1]:lr[1]]\n",
    "    \n",
    "    return cropped_img"
   ]
  },
  {
   "cell_type": "code",
   "execution_count": 185,
   "id": "a60ad208-e3b2-42aa-973c-702ef8ebe0bb",
   "metadata": {},
   "outputs": [
    {
     "data": {
      "text/plain": [
       "array([], dtype=float64)"
      ]
     },
     "execution_count": 185,
     "metadata": {},
     "output_type": "execute_result"
    }
   ],
   "source": []
  },
  {
   "cell_type": "code",
   "execution_count": 19,
   "id": "71b11718-0cb0-44df-8f51-e9c72f4fc250",
   "metadata": {},
   "outputs": [],
   "source": [
    "def determine_box(imgs):\n",
    "    \"\"\"Determine non-black area of image.\n",
    "    \n",
    "    Provide coordinates for cropping images to area which is filled.\n",
    "    \n",
    "    Parameters: \n",
    "    \n",
    "    img :: np.ndarray\n",
    "    \"\"\"\n",
    "    \n",
    "    if not len(imgs.shape) == 3:\n",
    "        raise Exception(\"Check dimensions.\")\n",
    "    \n",
    "    cropped_imgs = []\n",
    "    for i in range(imgs.shape[0]):\n",
    "        img = imgs[i, :, :]\n",
    "        hc = np.where(img!=0)[0]\n",
    "        wc = np.where(img!=0)[1]\n",
    "        ul = (np.min(hc),np.min(wc))\n",
    "        lr = (np.max(hc), np.max(wc))\n",
    "        cropped_imgs.append(np.expand_dims(img[ul[0]:lr[0], ul[1]:lr[1]], axis=(0,3)))\n",
    "    return cropped_imgs"
   ]
  },
  {
   "cell_type": "code",
   "execution_count": 20,
   "id": "5838591a-ca80-4361-9a12-9a46d7f75471",
   "metadata": {},
   "outputs": [],
   "source": [
    "temp = determine_box(x_train)"
   ]
  },
  {
   "cell_type": "code",
   "execution_count": 23,
   "id": "f7686c84-b305-4947-928b-3d5520033be9",
   "metadata": {},
   "outputs": [],
   "source": [
    "excerpt = temp[:2]"
   ]
  },
  {
   "cell_type": "code",
   "execution_count": 24,
   "id": "3e29782a-e85c-401e-92e8-7bec8c3ae838",
   "metadata": {},
   "outputs": [
    {
     "name": "stderr",
     "output_type": "stream",
     "text": [
      "2022-04-15 19:08:18.809572: I tensorflow/core/platform/cpu_feature_guard.cc:151] This TensorFlow binary is optimized with oneAPI Deep Neural Network Library (oneDNN) to use the following CPU instructions in performance-critical operations:  SSE4.1 SSE4.2 AVX AVX2 FMA\n",
      "To enable them in other operations, rebuild TensorFlow with the appropriate compiler flags.\n"
     ]
    },
    {
     "ename": "ValueError",
     "evalue": "Can't convert non-rectangular Python sequence to Tensor.",
     "output_type": "error",
     "traceback": [
      "\u001b[0;31m---------------------------------------------------------------------------\u001b[0m",
      "\u001b[0;31mValueError\u001b[0m                                Traceback (most recent call last)",
      "Input \u001b[0;32mIn [24]\u001b[0m, in \u001b[0;36m<cell line: 1>\u001b[0;34m()\u001b[0m\n\u001b[0;32m----> 1\u001b[0m \u001b[43mtf\u001b[49m\u001b[38;5;241;43m.\u001b[39;49m\u001b[43mimage\u001b[49m\u001b[38;5;241;43m.\u001b[39;49m\u001b[43mflip_left_right\u001b[49m\u001b[43m(\u001b[49m\u001b[43mexcerpt\u001b[49m\u001b[43m)\u001b[49m\n",
      "File \u001b[0;32m~/opt/anaconda3/envs/lusi/lib/python3.10/site-packages/tensorflow/python/util/traceback_utils.py:153\u001b[0m, in \u001b[0;36mfilter_traceback.<locals>.error_handler\u001b[0;34m(*args, **kwargs)\u001b[0m\n\u001b[1;32m    151\u001b[0m \u001b[38;5;28;01mexcept\u001b[39;00m \u001b[38;5;167;01mException\u001b[39;00m \u001b[38;5;28;01mas\u001b[39;00m e:\n\u001b[1;32m    152\u001b[0m   filtered_tb \u001b[38;5;241m=\u001b[39m _process_traceback_frames(e\u001b[38;5;241m.\u001b[39m__traceback__)\n\u001b[0;32m--> 153\u001b[0m   \u001b[38;5;28;01mraise\u001b[39;00m e\u001b[38;5;241m.\u001b[39mwith_traceback(filtered_tb) \u001b[38;5;28;01mfrom\u001b[39;00m \u001b[38;5;28mNone\u001b[39m\n\u001b[1;32m    154\u001b[0m \u001b[38;5;28;01mfinally\u001b[39;00m:\n\u001b[1;32m    155\u001b[0m   \u001b[38;5;28;01mdel\u001b[39;00m filtered_tb\n",
      "File \u001b[0;32m~/opt/anaconda3/envs/lusi/lib/python3.10/site-packages/tensorflow/python/framework/constant_op.py:106\u001b[0m, in \u001b[0;36mconvert_to_eager_tensor\u001b[0;34m(value, ctx, dtype)\u001b[0m\n\u001b[1;32m    104\u001b[0m     dtype \u001b[38;5;241m=\u001b[39m dtypes\u001b[38;5;241m.\u001b[39mas_dtype(dtype)\u001b[38;5;241m.\u001b[39mas_datatype_enum\n\u001b[1;32m    105\u001b[0m ctx\u001b[38;5;241m.\u001b[39mensure_initialized()\n\u001b[0;32m--> 106\u001b[0m \u001b[38;5;28;01mreturn\u001b[39;00m \u001b[43mops\u001b[49m\u001b[38;5;241;43m.\u001b[39;49m\u001b[43mEagerTensor\u001b[49m\u001b[43m(\u001b[49m\u001b[43mvalue\u001b[49m\u001b[43m,\u001b[49m\u001b[43m \u001b[49m\u001b[43mctx\u001b[49m\u001b[38;5;241;43m.\u001b[39;49m\u001b[43mdevice_name\u001b[49m\u001b[43m,\u001b[49m\u001b[43m \u001b[49m\u001b[43mdtype\u001b[49m\u001b[43m)\u001b[49m\n",
      "\u001b[0;31mValueError\u001b[0m: Can't convert non-rectangular Python sequence to Tensor."
     ]
    }
   ],
   "source": [
    "tf.image.flip_left_right(excerpt)"
   ]
  },
  {
   "cell_type": "code",
   "execution_count": 7,
   "id": "c1cc9dcf-c4fc-4f96-9a1d-6f39be32bf58",
   "metadata": {},
   "outputs": [],
   "source": [
    "el = []\n",
    "for i in range(10):\n",
    "    el.append(np.ones(i))"
   ]
  },
  {
   "cell_type": "code",
   "execution_count": 13,
   "id": "3c46acad-16f4-4012-a9f8-718ccc7b2d09",
   "metadata": {},
   "outputs": [
    {
     "data": {
      "text/plain": [
       "array([array([], dtype=float64), array([1.]), array([1., 1.]),\n",
       "       array([1., 1., 1.]), array([1., 1., 1., 1.]),\n",
       "       array([1., 1., 1., 1., 1.]), array([1., 1., 1., 1., 1., 1.]),\n",
       "       array([1., 1., 1., 1., 1., 1., 1.]),\n",
       "       array([1., 1., 1., 1., 1., 1., 1., 1.]),\n",
       "       array([1., 1., 1., 1., 1., 1., 1., 1., 1.])], dtype=object)"
      ]
     },
     "execution_count": 13,
     "metadata": {},
     "output_type": "execute_result"
    }
   ],
   "source": [
    "np.asarray(el, dtype='object')"
   ]
  },
  {
   "cell_type": "code",
   "execution_count": null,
   "id": "0ecc2e94-6dda-4f0a-92f7-bad99dc74f5f",
   "metadata": {},
   "outputs": [],
   "source": []
  },
  {
   "cell_type": "code",
   "execution_count": 170,
   "id": "fdc714ac-3cea-4590-8f3f-6631d1da774e",
   "metadata": {},
   "outputs": [
    {
     "data": {
      "text/plain": [
       "(59999, 27, 28)"
      ]
     },
     "execution_count": 170,
     "metadata": {},
     "output_type": "execute_result"
    }
   ],
   "source": [
    "determine_box(x_train).shape"
   ]
  },
  {
   "cell_type": "code",
   "execution_count": 172,
   "id": "d3690d9c-a06c-4b69-b989-daee31cc719e",
   "metadata": {},
   "outputs": [
    {
     "data": {
      "text/plain": [
       "TensorShape([8994156, 3])"
      ]
     },
     "execution_count": 172,
     "metadata": {},
     "output_type": "execute_result"
    }
   ],
   "source": [
    "tf.where(x_train != 0).shape"
   ]
  },
  {
   "cell_type": "code",
   "execution_count": 173,
   "id": "ca13e511-6127-4285-8506-8fe61335deb9",
   "metadata": {},
   "outputs": [
    {
     "data": {
      "text/plain": [
       "(60000, 28, 28)"
      ]
     },
     "execution_count": 173,
     "metadata": {},
     "output_type": "execute_result"
    }
   ],
   "source": [
    "x_train.shape"
   ]
  },
  {
   "cell_type": "code",
   "execution_count": null,
   "id": "5ce4c07d-6554-4adf-bae0-2e77161a5468",
   "metadata": {},
   "outputs": [
    {
     "data": {
      "text/plain": [
       "<matplotlib.image.AxesImage at 0x1a571fd00>"
      ]
     },
     "execution_count": 165,
     "metadata": {},
     "output_type": "execute_result"
    },
    {
     "data": {
      "image/png": "[encoded data removed]",
      "text/plain": [
       "<Figure size 432x288 with 1 Axes>"
      ]
     },
     "metadata": {
      "needs_background": "light"
     },
     "output_type": "display_data"
    }
   ],
   "source": [
    "plt.imshow(x_train[55])"
   ]
  },
  {
   "cell_type": "code",
   "execution_count": 166,
   "id": "a9b148db-b4ae-4a63-a958-a88bc90901c6",
   "metadata": {},
   "outputs": [
    {
     "data": {
      "text/plain": [
       "<matplotlib.image.AxesImage at 0x1a5793100>"
      ]
     },
     "execution_count": 166,
     "metadata": {},
     "output_type": "execute_result"
    },
    {
     "data": {
      "image/png": "[encoded data removed]",
      "text/plain": [
       "<Figure size 432x288 with 1 Axes>"
      ]
     },
     "metadata": {
      "needs_background": "light"
     },
     "output_type": "display_data"
    }
   ],
   "source": [
    "plt.imshow(determine_box(x_train[55]))"
   ]
  },
  {
   "cell_type": "code",
   "execution_count": 70,
   "id": "e069c26c-dfeb-4298-8e62-c4bb711ac376",
   "metadata": {},
   "outputs": [],
   "source": [
    "# tangent distance might be a solution to determine symmetry. Use it over the std. euclidean distance"
   ]
  },
  {
   "cell_type": "code",
   "execution_count": 116,
   "id": "0644a3c2-1245-4c7e-9cd8-a77bfb06c874",
   "metadata": {},
   "outputs": [
    {
     "name": "stdout",
     "output_type": "stream",
     "text": [
      "(1, 19, 17, 1)\n",
      "vertical\n",
      "(1,)\n",
      "Symmetry:  tf.Tensor(0.5933709706792933, shape=(), dtype=float64)\n"
     ]
    }
   ],
   "source": [
    "print(\"Symmetry: \", symmetry(determine_box(x_train[55]/255).astype(\"float\")))"
   ]
  },
  {
   "cell_type": "code",
   "execution_count": 151,
   "id": "f5a892d9-8e31-4781-b6bf-7a52aa22725e",
   "metadata": {},
   "outputs": [
    {
     "name": "stdout",
     "output_type": "stream",
     "text": [
      "(1, 19, 4, 1)\n",
      "vertical\n",
      "(1,)\n",
      "Symmetry:  tf.Tensor(0.1944272445820432, shape=(), dtype=float64)\n",
      "(1, 19, 4, 1)\n",
      "horizontal\n",
      "(1,)\n",
      "Symmetry:  tf.Tensor(0.8518059855521156, shape=(), dtype=float64)\n",
      "(1, 19, 4, 1)\n",
      "both v. and h.\n",
      "(1,)\n",
      "Symmetry:  tf.Tensor(0.18658410732714126, shape=(), dtype=float64)\n"
     ]
    }
   ],
   "source": [
    "print(\"Symmetry: \", symmetry(determine_box(one/255).astype(\"float\"), axis=\"vertical\"))\n",
    "print(\"Symmetry: \", symmetry(determine_box(one/255).astype(\"float\"), axis=\"horizontal\"))\n",
    "print(\"Symmetry: \", symmetry(determine_box(one/255).astype(\"float\")))"
   ]
  },
  {
   "cell_type": "code",
   "execution_count": 152,
   "id": "fbb1373b-267c-4b46-8783-4f8f67f19808",
   "metadata": {},
   "outputs": [
    {
     "name": "stdout",
     "output_type": "stream",
     "text": [
      "(1, 19, 17, 1)\n",
      "vertical\n",
      "(1,)\n",
      "Symmetry:  tf.Tensor(0.5933709706792933, shape=(), dtype=float64)\n",
      "(1, 19, 17, 1)\n",
      "horizontal\n",
      "(1,)\n",
      "Symmetry:  tf.Tensor(0.5651065379712257, shape=(), dtype=float64)\n",
      "(1, 19, 17, 1)\n",
      "both v. and h.\n",
      "(1,)\n",
      "Symmetry:  tf.Tensor(0.6717537789109452, shape=(), dtype=float64)\n"
     ]
    }
   ],
   "source": [
    "print(\"Symmetry: \", symmetry(determine_box(x_train[55]/255).astype(\"float\"), axis=\"vertical\"))\n",
    "print(\"Symmetry: \", symmetry(determine_box(x_train[55]/255).astype(\"float\"), axis=\"horizontal\"))\n",
    "print(\"Symmetry: \", symmetry(determine_box(x_train[55]/255).astype(\"float\")))"
   ]
  },
  {
   "cell_type": "code",
   "execution_count": 164,
   "id": "6904ac64-1afc-4d44-887f-ece83b2bd0cb",
   "metadata": {},
   "outputs": [
    {
     "name": "stdout",
     "output_type": "stream",
     "text": [
      "(1, 13, 19, 1)\n",
      "vertical\n",
      "(1,)\n",
      "Symmetry:  tf.Tensor(0.6274668571882195, shape=(), dtype=float64)\n",
      "(1, 13, 19, 1)\n",
      "horizontal\n",
      "(1,)\n",
      "Symmetry:  tf.Tensor(0.6374057315233785, shape=(), dtype=float64)\n",
      "(1, 13, 19, 1)\n",
      "both v. and h.\n",
      "(1,)\n",
      "Symmetry:  tf.Tensor(0.7679765023418275, shape=(), dtype=float64)\n"
     ]
    }
   ],
   "source": [
    "print(\"Symmetry: \", symmetry(determine_box(x_train[11]/255).astype(\"float\"), axis=\"vertical\"))\n",
    "print(\"Symmetry: \", symmetry(determine_box(x_train[11]/255).astype(\"float\"), axis=\"horizontal\"))\n",
    "print(\"Symmetry: \", symmetry(determine_box(x_train[11]/255).astype(\"float\")))"
   ]
  },
  {
   "cell_type": "markdown",
   "id": "2c1c15e4-01f4-4d65-b300-454bcf9f4be4",
   "metadata": {},
   "source": [
    "### Status 15.04.2022:\n",
    "- Die Box Methode scheint einen verlässlicheren Score zu geben, allerdings ist sie nicht einfach andwendbar auf batches, da jedes Bild individuell eine Größe hat. DAmit ist die Handhabung in Batches nicht möglich. "
   ]
  },
  {
   "cell_type": "code",
   "execution_count": 26,
   "id": "82555ecf-2308-4fc6-b32c-193059a24465",
   "metadata": {},
   "outputs": [
    {
     "data": {
      "text/plain": [
       "<tf.Tensor: shape=(60000,), dtype=uint8, numpy=array([35, 39, 24, ..., 28, 26, 26], dtype=uint8)>"
      ]
     },
     "execution_count": 26,
     "metadata": {},
     "output_type": "execute_result"
    }
   ],
   "source": [
    "tf.reduce_mean(x_train, axis=[1,2])"
   ]
  },
  {
   "cell_type": "code",
   "execution_count": 40,
   "id": "49a1b914-79be-4ada-a554-276db47ea65b",
   "metadata": {},
   "outputs": [],
   "source": [
    "def avg_pixel_intensity(img_tensor, batch_mean=False):\n",
    "    \"\"\"Calculate avg. pixel intensity.\n",
    "    \n",
    "    img_tensor :: array of 3 dim, pixel value between 0 and 1.\n",
    "    \"\"\"\n",
    "    if batch_mean: \n",
    "        return tf.reduce_mean(tf.reduce_mean(img_tensor, axis=[1,2]), axis=0)\n",
    "        \n",
    "    \n",
    "    return tf.reduce_mean(img_tensor, axis=[1,2])\n",
    "\n",
    "    \n",
    "    "
   ]
  },
  {
   "cell_type": "code",
   "execution_count": 33,
   "id": "45f6f103-28ac-497e-9ed6-f81756fd5132",
   "metadata": {},
   "outputs": [
    {
     "data": {
      "text/plain": [
       "<tf.Tensor: shape=(60000,), dtype=float64, numpy=\n",
       "array([0.13768007, 0.15553721, 0.0972539 , ..., 0.11070428, 0.10218087,\n",
       "       0.10464186])>"
      ]
     },
     "execution_count": 33,
     "metadata": {},
     "output_type": "execute_result"
    }
   ],
   "source": [
    "avg_pixel_intensity(x_train/255)"
   ]
  },
  {
   "cell_type": "code",
   "execution_count": 120,
   "id": "0335cdf9-001b-4611-9ac9-2df2933851fe",
   "metadata": {},
   "outputs": [],
   "source": [
    "ones = x_train[y_train==1]\n",
    "twos = x_train[y_train==2]\n",
    "threes = x_train[y_train==3]\n",
    "fours = x_train[y_train==4]\n",
    "fives = x_train[y_train==5]\n",
    "sixes = x_train[y_train==6]\n",
    "sevens = x_train[y_train==7]\n",
    "eights = x_train[y_train==8]\n",
    "nines = x_train[y_train==9]\n",
    "zeroes = x_train[y_train==0]"
   ]
  },
  {
   "cell_type": "code",
   "execution_count": null,
   "id": "831193bc",
   "metadata": {},
   "outputs": [],
   "source": []
  },
  {
   "cell_type": "code",
   "execution_count": 121,
   "id": "305ffdb3-d7e7-4969-a1ee-322460b6b649",
   "metadata": {},
   "outputs": [],
   "source": [
    "y_ones = y_train[y_train==1]\n",
    "y_twos = y_train[y_train==2]\n",
    "y_threes = y_train[y_train==3]\n",
    "y_fours = y_train[y_train==4]\n",
    "y_fives = y_train[y_train==5]\n",
    "y_sixes = y_train[y_train==6]\n",
    "y_sevens = y_train[y_train==7]\n",
    "y_eights = y_train[y_train==8]\n",
    "y_nines = y_train[y_train==9]\n",
    "y_zeroes = y_train[y_train==0]"
   ]
  },
  {
   "cell_type": "code",
   "execution_count": 41,
   "id": "3a869a76-2197-4f59-acb0-00aefbd231c0",
   "metadata": {},
   "outputs": [
    {
     "data": {
      "text/plain": [
       "<tf.Tensor: shape=(), dtype=float64, numpy=0.1306604762738429>"
      ]
     },
     "execution_count": 41,
     "metadata": {},
     "output_type": "execute_result"
    }
   ],
   "source": [
    "avg_pixel_intensity(x_train/255, batch_mean=True)"
   ]
  },
  {
   "cell_type": "code",
   "execution_count": 48,
   "id": "b1ece68b-b6d5-4181-a4ca-aaad4a912563",
   "metadata": {},
   "outputs": [
    {
     "name": "stdout",
     "output_type": "stream",
     "text": [
      "tf.Tensor(0.17339932511920858, shape=(), dtype=float64)\n",
      "tf.Tensor(0.07599864255996082, shape=(), dtype=float64)\n",
      "tf.Tensor(0.14897512882292896, shape=(), dtype=float64)\n",
      "tf.Tensor(0.14153014329202565, shape=(), dtype=float64)\n",
      "tf.Tensor(0.12136559091284581, shape=(), dtype=float64)\n",
      "tf.Tensor(0.1287493940575677, shape=(), dtype=float64)\n",
      "tf.Tensor(0.13730177522174802, shape=(), dtype=float64)\n",
      "tf.Tensor(0.11452769775108769, shape=(), dtype=float64)\n",
      "tf.Tensor(0.15015598189369747, shape=(), dtype=float64)\n",
      "tf.Tensor(0.12258994285224596, shape=(), dtype=float64)\n"
     ]
    }
   ],
   "source": [
    "print(avg_pixel_intensity(zeroes/255, batch_mean=True))\n",
    "print(avg_pixel_intensity(ones/255, batch_mean=True))\n",
    "print(avg_pixel_intensity(twos/255, batch_mean=True))\n",
    "print(avg_pixel_intensity(threes/255, batch_mean=True))\n",
    "print(avg_pixel_intensity(fours/255, batch_mean=True))\n",
    "print(avg_pixel_intensity(fives/255, batch_mean=True))\n",
    "print(avg_pixel_intensity(sixes/255, batch_mean=True))\n",
    "print(avg_pixel_intensity(sevens/255, batch_mean=True))\n",
    "print(avg_pixel_intensity(eights/255, batch_mean=True))\n",
    "print(avg_pixel_intensity(nines/255, batch_mean=True))"
   ]
  },
  {
   "cell_type": "markdown",
   "id": "dc84991a-851f-49f1-9649-dc25790c6a82",
   "metadata": {},
   "source": [
    "Mögliche weitere Prädikate sind:\n",
    "- 'lokale' Pixelintensität in einem Bereich\n"
   ]
  },
  {
   "cell_type": "code",
   "execution_count": 49,
   "id": "42ed1c8a-3ed5-41d1-b97b-d686457e262c",
   "metadata": {},
   "outputs": [],
   "source": [
    "# - random functions\n",
    "# - Erwartungswerte abh. von funktio f(x,u) übr Verteilung von u durch Monte Carlo approximieren als Auswertung"
   ]
  },
  {
   "cell_type": "markdown",
   "id": "66d0ed3f-dad4-444c-bdf6-facd0c0db065",
   "metadata": {},
   "source": [
    "### 20.04.2022"
   ]
  },
  {
   "cell_type": "code",
   "execution_count": 114,
   "id": "98bc4571-2e27-49e6-bf55-92d46024fb8c",
   "metadata": {},
   "outputs": [],
   "source": [
    "def symmetry_boxed(imgs):\n",
    "    # Asumme [0,1]-valued pixels\n",
    "    cropped_imgs = determine_box(imgs)\n",
    "    sym_scores = np.zeros(len(cropped_imgs))\n",
    "    for j in range(len(imgs)):\n",
    "        sym_scores[j] = symmetry(cropped_imgs[j])\n",
    "    return sym_scores\n",
    "    "
   ]
  },
  {
   "cell_type": "code",
   "execution_count": 131,
   "id": "9f23e224-ef52-4cd6-80bd-6903c59c70e6",
   "metadata": {},
   "outputs": [],
   "source": [
    "sym_zeroes = symmetry_boxed(zeroes/255)\n",
    "sym_ones = symmetry_boxed(ones/255)\n",
    "sym_twos = symmetry_boxed(twos/255)\n",
    "sym_threes = symmetry_boxed(threes/255)\n",
    "sym_fours = symmetry_boxed(fours/255)\n",
    "sym_fives = symmetry_boxed(fives/255)\n",
    "sym_sixes = symmetry_boxed(sixes/255)\n",
    "sym_sevens = symmetry_boxed(sevens/255)\n",
    "sym_eights = symmetry_boxed(eights/255)\n",
    "sym_nines = symmetry_boxed(nines/255)"
   ]
  },
  {
   "cell_type": "code",
   "execution_count": 154,
   "id": "78c244b7-47b6-4c58-8370-558f167fae92",
   "metadata": {},
   "outputs": [
    {
     "data": {
      "image/png": "[encoded data removed]",
      "text/plain": [
       "<Figure size 1440x1440 with 10 Axes>"
      ]
     },
     "metadata": {
      "needs_background": "light"
     },
     "output_type": "display_data"
    }
   ],
   "source": [
    "fig, axs = plt.subplots(2, 5, figsize=(20, 20))\n",
    "axs[0, 0].hist(sym_zeroes, bins=50)\n",
    "axs[0,0].title.set_text(\"Symmetry 0 \")\n",
    "axs[1, 0].hist(sym_ones, bins=50)\n",
    "axs[1, 0].title.set_text(\"Symmetry 1 \")\n",
    "axs[0, 1].hist(sym_twos, bins=50)\n",
    "axs[0, 1].title.set_text(\"Symmetry 2 \")\n",
    "axs[1, 1].hist(sym_threes, bins=50)\n",
    "axs[1, 1].title.set_text(\"Symmetry 3 \")\n",
    "axs[0, 2].hist(sym_fours, bins=50)\n",
    "axs[0, 2].title.set_text(\"Symmetry 4 \")\n",
    "axs[1, 2].hist(sym_fives, bins=50)\n",
    "axs[1, 2].title.set_text(\"Symmetry 5 \")\n",
    "axs[0, 3].hist(sym_sixes, bins=50)\n",
    "axs[0, 3].title.set_text(\"Symmetry 6 \")\n",
    "axs[1, 3].hist(sym_sevens, bins=50)\n",
    "axs[1, 3].title.set_text(\"Symmetry 7 \")\n",
    "axs[0, 4].hist(sym_eights, bins=50)\n",
    "axs[0, 4].title.set_text(\"Symmetry 8 \")\n",
    "axs[1, 4].hist(sym_nines, bins=50)\n",
    "axs[1, 4].axvline(np.mean(sym_nines), 0, 1.0, c='red')\n",
    "axs[1, 4].title.set_text(\"Symmetry 9 \")"
   ]
  },
  {
   "cell_type": "code",
   "execution_count": 130,
   "id": "74a59ae4-a48c-4e7b-a0b0-79cf5df69894",
   "metadata": {},
   "outputs": [
    {
     "data": {
      "text/plain": [
       "0.006017600296697623"
      ]
     },
     "execution_count": 130,
     "metadata": {},
     "output_type": "execute_result"
    }
   ],
   "source": [
    "np.max(abs(b - sym_ones))sym_threes"
   ]
  },
  {
   "cell_type": "code",
   "execution_count": null,
   "id": "ba5a1a77-7c69-4975-96ea-9e8389ed2b55",
   "metadata": {},
   "outputs": [],
   "source": [
    "twos_cropped = determine_box(twos/255)\n",
    "sym_twos = np.zeros(len(twos_cropped))\n",
    "for j in range(len(twos_cropped)):\n",
    "    sym_twos[j] = symmetry(twos_cropped[j].astype('float16'))"
   ]
  },
  {
   "cell_type": "code",
   "execution_count": 99,
   "id": "22b1ca0a-e1ee-467c-96b9-99be4ef3b0f0",
   "metadata": {},
   "outputs": [
    {
     "data": {
      "text/plain": [
       "(array([  3.,   1.,   1.,   6.,   3.,   7.,   8.,  17.,  29.,  35.,  51.,\n",
       "         69.,  78., 112., 130., 179., 181., 249., 272., 324., 311., 372.,\n",
       "        343., 403., 361., 343., 306., 256., 232., 196., 177., 162., 140.,\n",
       "         99.,  89.,  73.,  72.,  64.,  53.,  40.,  27.,  22.,  19.,  13.,\n",
       "         15.,   4.,   5.,   3.,   2.,   1.]),\n",
       " array([0.31298828, 0.32483398, 0.33667969, 0.34852539, 0.36037109,\n",
       "        0.3722168 , 0.3840625 , 0.3959082 , 0.40775391, 0.41959961,\n",
       "        0.43144531, 0.44329102, 0.45513672, 0.46698242, 0.47882813,\n",
       "        0.49067383, 0.50251953, 0.51436523, 0.52621094, 0.53805664,\n",
       "        0.54990234, 0.56174805, 0.57359375, 0.58543945, 0.59728516,\n",
       "        0.60913086, 0.62097656, 0.63282227, 0.64466797, 0.65651367,\n",
       "        0.66835938, 0.68020508, 0.69205078, 0.70389648, 0.71574219,\n",
       "        0.72758789, 0.73943359, 0.7512793 , 0.763125  , 0.7749707 ,\n",
       "        0.78681641, 0.79866211, 0.81050781, 0.82235352, 0.83419922,\n",
       "        0.84604492, 0.85789063, 0.86973633, 0.88158203, 0.89342773,\n",
       "        0.90527344]),\n",
       " <BarContainer object of 50 artists>)"
      ]
     },
     "execution_count": 99,
     "metadata": {},
     "output_type": "execute_result"
    },
    {
     "data": {
      "image/png": "[encoded data removed]",
      "text/plain": [
       "<Figure size 432x288 with 1 Axes>"
      ]
     },
     "metadata": {
      "needs_background": "light"
     },
     "output_type": "display_data"
    }
   ],
   "source": [
    "plt.hist(sym_twos, bins=50)"
   ]
  },
  {
   "cell_type": "code",
   "execution_count": 60,
   "id": "fbf3711e-d575-4816-a76d-2249a5e29170",
   "metadata": {},
   "outputs": [
    {
     "data": {
      "text/plain": [
       "(1, 28, 28)"
      ]
     },
     "execution_count": 60,
     "metadata": {},
     "output_type": "execute_result"
    }
   ],
   "source": [
    "np.expand_dims(x_train[768]/255, axis=0).shape"
   ]
  },
  {
   "cell_type": "code",
   "execution_count": 92,
   "id": "6ab5a0c0-bd9f-4b97-9f01-c03f4ded735f",
   "metadata": {},
   "outputs": [],
   "source": [
    "ones_cropped = determine_box(ones/255)"
   ]
  },
  {
   "cell_type": "code",
   "execution_count": 93,
   "id": "9aa871c9-80c3-415f-bc20-4b2d53c7f2f5",
   "metadata": {},
   "outputs": [
    {
     "data": {
      "text/plain": [
       "(1, 19, 13, 1)"
      ]
     },
     "execution_count": 93,
     "metadata": {},
     "output_type": "execute_result"
    }
   ],
   "source": [
    "ones_cropped[0].shape"
   ]
  },
  {
   "cell_type": "code",
   "execution_count": 78,
   "id": "d0b8e4f1-d22e-48ba-8fb8-e68e19bc04e2",
   "metadata": {},
   "outputs": [],
   "source": [
    "sym_ones = np.zeros(len(ones_cropped))"
   ]
  },
  {
   "cell_type": "code",
   "execution_count": 86,
   "id": "8a70a329-a042-4d8c-8c0d-5b497410f804",
   "metadata": {},
   "outputs": [
    {
     "data": {
      "text/plain": [
       "(array([  1.,   1.,   3.,   5.,  11.,  16.,  10.,  19.,  25.,  31.,  40.,\n",
       "         44.,  51.,  56.,  81.,  83.,  91., 105., 118., 130., 118., 150.,\n",
       "        146., 152., 163., 211., 201., 216., 244., 231., 243., 256., 261.,\n",
       "        247., 280., 254., 212., 283., 249., 206., 206., 207., 215., 191.,\n",
       "        202., 180., 164.,  74.,  49.,  10.]),\n",
       " array([0.12744141, 0.14430664, 0.16117187, 0.17803711, 0.19490234,\n",
       "        0.21176758, 0.22863281, 0.24549805, 0.26236328, 0.27922852,\n",
       "        0.29609375, 0.31295898, 0.32982422, 0.34668945, 0.36355469,\n",
       "        0.38041992, 0.39728516, 0.41415039, 0.43101563, 0.44788086,\n",
       "        0.46474609, 0.48161133, 0.49847656, 0.5153418 , 0.53220703,\n",
       "        0.54907227, 0.5659375 , 0.58280273, 0.59966797, 0.6165332 ,\n",
       "        0.63339844, 0.65026367, 0.66712891, 0.68399414, 0.70085937,\n",
       "        0.71772461, 0.73458984, 0.75145508, 0.76832031, 0.78518555,\n",
       "        0.80205078, 0.81891602, 0.83578125, 0.85264648, 0.86951172,\n",
       "        0.88637695, 0.90324219, 0.92010742, 0.93697266, 0.95383789,\n",
       "        0.97070312]),\n",
       " <BarContainer object of 50 artists>)"
      ]
     },
     "execution_count": 86,
     "metadata": {},
     "output_type": "execute_result"
    },
    {
     "data": {
      "image/png": "[encoded data removed]",
      "text/plain": [
       "<Figure size 432x288 with 1 Axes>"
      ]
     },
     "metadata": {
      "needs_background": "light"
     },
     "output_type": "display_data"
    }
   ],
   "source": [
    "plt.hist(sym_ones, bins=50)"
   ]
  },
  {
   "cell_type": "code",
   "execution_count": 149,
   "id": "d97a6fc0-8fdd-4ddc-9dae-10c84e19c91e",
   "metadata": {},
   "outputs": [],
   "source": [
    "for j in range(len(ones_cropped)):\n",
    "    sym_ones[j] = symmetry(ones_cropped[j].astype('float16'))"
   ]
  },
  {
   "cell_type": "code",
   "execution_count": 155,
   "id": "113e3e01-65ec-46b7-8239-de6adc80ff3c",
   "metadata": {},
   "outputs": [
    {
     "data": {
      "text/plain": [
       "numpy.ndarray"
      ]
     },
     "execution_count": 155,
     "metadata": {},
     "output_type": "execute_result"
    }
   ],
   "source": [
    "type(x_train)"
   ]
  },
  {
   "cell_type": "code",
   "execution_count": 164,
   "id": "0854ee61-7446-4e34-91ee-54a4cc951720",
   "metadata": {},
   "outputs": [],
   "source": [
    "# for e in tf.data.Dataset.from_tensor_slices(x_train):\n",
    "#     print(e)"
   ]
  },
  {
   "cell_type": "markdown",
   "id": "6f87026a-fd88-4de5-8e56-6a06061e1cc2",
   "metadata": {},
   "source": [
    "## 22.04.2022"
   ]
  },
  {
   "cell_type": "markdown",
   "id": "6b60318e-0933-48d7-842c-9775f2a8e195",
   "metadata": {},
   "source": [
    "TF docu implementation"
   ]
  },
  {
   "cell_type": "code",
   "execution_count": null,
   "id": "83826963-48f1-4dcc-abfc-5db012dd4f46",
   "metadata": {},
   "outputs": [],
   "source": [
    "loss_object = tf.keras.losses.SparseCategoricalCrossentropy(from_logits=True)\n",
    "\n",
    "def loss(model, x, y, training):\n",
    "  # training=training is needed only if there are layers with different\n",
    "  # behavior during training versus inference (e.g. Dropout).\n",
    "    y_ = model(x, training=training)\n",
    "\n",
    "    return loss_object(y_true=y, y_pred=y_)\n",
    "\n",
    "l = loss(model, features, labels, training=False)\n",
    "print(\"Loss test: {}\".format(l))"
   ]
  },
  {
   "cell_type": "markdown",
   "id": "82c20803-e5c2-488b-9d4b-047bb34ba374",
   "metadata": {},
   "source": [
    "Der LUSI Loss $S(\\theta, \\mathcal{D}_n)$ ist wie folgt gegeben, falls nur faktorisierende Prädikate $\\phi(x) \\odot \\tau(y)$ betrachtet werden:\n",
    "$$ \\begin{align*}\n",
    "    S(\\theta, \\mathcal{D}_n) = \\left \\lVert\\frac{1}{n}\\sum_{j=1}^{n}\\phi(x_j) \\odot [\\tau(y_j) - \\tau(f_{\\theta}(x_j)]\\right \\rVert_W^{2}.\n",
    "    \\end{align*}$$"
   ]
  },
  {
   "cell_type": "markdown",
   "id": "8a7d1768-3a26-4f25-b5de-a6c2e333604e",
   "metadata": {},
   "source": [
    "Ein Schätzer von $\\nabla_{\\theta}S(\\theta, \\mathcal{D}_n)$ basierend auf Batches $J, J \\prime$ der Größe $B, B\\prime$ ist gegeben durch:\n",
    "$$\\begin{align*}\n",
    "       \\left [\\frac{1}{B} \\sum_{j \\in J} \\phi(x_j) \\odot \\frac{\\partial \\tau(f_{\\theta}(x_j))}{\\partial \\theta}\\right ]^T \\cdot \\left [W +            W^T \\right ] \\cdot \\left [\\frac{1}{B \\prime} \\sum_{j\\prime \\in J\\prime}^n \\phi(x_{j\\prime})\\odot[\\tau(f_{\\theta}(x_{j\\prime})) -              \\tau(y_{j\\prime})]\\right ] \\text{.}\n",
    "    \\end{align*}$$"
   ]
  },
  {
   "cell_type": "markdown",
   "id": "0cddeb43-8349-4ba2-8090-74164902f0c1",
   "metadata": {},
   "source": [
    "Insbesondere lassen sich die Werte $\\phi(x_j)$ vorberechnen."
   ]
  },
  {
   "cell_type": "code",
   "execution_count": 38,
   "id": "28fb8cad-193e-4092-9c50-84d36e8fe15f",
   "metadata": {},
   "outputs": [],
   "source": [
    "def dot(a,b,W):\n",
    "    \"\"\"Calculate a^T W b.\"\"\"\n",
    "    return np.dot(a, np.matmul(W, b))"
   ]
  },
  {
   "cell_type": "code",
   "execution_count": 228,
   "id": "1c0010dc",
   "metadata": {},
   "outputs": [
    {
     "data": {
      "text/plain": [
       "array([[1, 0, 0],\n",
       "       [0, 1, 0],\n",
       "       [0, 0, 1]])"
      ]
     },
     "execution_count": 228,
     "metadata": {},
     "output_type": "execute_result"
    }
   ],
   "source": []
  },
  {
   "cell_type": "code",
   "execution_count": 241,
   "id": "d6eeef31",
   "metadata": {},
   "outputs": [
    {
     "data": {
      "text/plain": [
       "<tf.Tensor: shape=(1, 1), dtype=float64, numpy=array([[20.]])>"
      ]
     },
     "execution_count": 241,
     "metadata": {},
     "output_type": "execute_result"
    }
   ],
   "source": [
    "v_1 = tf.constant([1,2,3], dtype=tf.float64, shape=[1,3])\n",
    "v_2 = tf.constant([2,3,4], dtype=tf.float64, shape=[3,1])\n",
    "# tf.tensordot(v_1, v_2, 1)\n",
    "w_matrix = tf.constant(np.diag([1,1,1]), dtype=tf.float64)\n",
    "tf.tensordot(v_1, tf.matmul(w_matrix, v_2), 1)\n",
    "\n",
    "#tf.multiply(tf.convert_to_tensor(np.array([1,2,3])), tf.transpose(np.array([2,3,4])))"
   ]
  },
  {
   "cell_type": "code",
   "execution_count": 240,
   "id": "ccd884d0",
   "metadata": {},
   "outputs": [
    {
     "data": {
      "text/plain": [
       "tensorflow.python.framework.ops.EagerTensor"
      ]
     },
     "execution_count": 240,
     "metadata": {},
     "output_type": "execute_result"
    }
   ],
   "source": [
    "type(v_1)"
   ]
  },
  {
   "cell_type": "code",
   "execution_count": 243,
   "id": "8535e659",
   "metadata": {},
   "outputs": [],
   "source": [
    "def dot(a, b, W):\n",
    "    \"\"\"Calculate dot product between a, b using W as weight matrix.\n",
    "    \n",
    "    \n",
    "    a :: tensor of dtype tf.float64\n",
    "    transposed vector\n",
    "    b :: tensor of dtype tf.float64\n",
    "    non-transposed vector\n",
    "    W :: tensor of dtype tf.float64\n",
    "    matrix.\n",
    "    \"\"\"\n",
    "    \n",
    "    return tf.tensordot(a, tf.matmul(W, b), 1)   \n"
   ]
  },
  {
   "cell_type": "code",
   "execution_count": 244,
   "id": "75f4d8f5",
   "metadata": {},
   "outputs": [
    {
     "data": {
      "text/plain": [
       "<tf.Tensor: shape=(1, 1), dtype=float64, numpy=array([[20.]])>"
      ]
     },
     "execution_count": 244,
     "metadata": {},
     "output_type": "execute_result"
    }
   ],
   "source": [
    "dot(v_1, v_2, w_matrix)"
   ]
  },
  {
   "cell_type": "code",
   "execution_count": 260,
   "id": "c929d14a-1567-4d6f-9b1b-3a1789705c86",
   "metadata": {},
   "outputs": [],
   "source": [
    "class LusiLossBasic(tf.losses.Loss):\n",
    "    # for now, let tau = id\n",
    "    def __init__(self, phi, W):\n",
    "        \n",
    "        \"\"\"Initialize Loss object given predicates and weight matrix.\n",
    "        \n",
    "        Parameters:\n",
    "            phi :: array of dim batch_size x (no. of predicates each mapping to R)\n",
    "            The part of the predicate acting on X, already evaluated\n",
    "            \n",
    "            tau :: array of dim batch_size x (no. of predicates each mapping to R)\n",
    "            The part of the predicate acting on Y, as functions\n",
    "            \n",
    "            W :: weight matrix of adequate dimensions.\n",
    "            \n",
    "        \"\"\"\n",
    "        # Assume that predicates are factorizing, that is of form phi(x)tau(y)\n",
    "        super.__init__()\n",
    "        self.phi = phi\n",
    "        self.W = W\n",
    "        \n",
    "    def call(self, y_pred, y_true):\n",
    "        return dot(self.phi * (y - y_pred), self.W, self.phi * (y - y_pred))\n",
    "        "
   ]
  },
  {
   "cell_type": "code",
   "execution_count": 7,
   "id": "224566a7-a908-4e5b-8199-306f90e02d6b",
   "metadata": {},
   "outputs": [
    {
     "name": "stderr",
     "output_type": "stream",
     "text": [
      "2022-05-02 16:20:11.908883: I tensorflow/core/platform/cpu_feature_guard.cc:151] This TensorFlow binary is optimized with oneAPI Deep Neural Network Library (oneDNN) to use the following CPU instructions in performance-critical operations:  SSE4.1 SSE4.2 AVX AVX2 FMA\n",
      "To enable them in other operations, rebuild TensorFlow with the appropriate compiler flags.\n"
     ]
    }
   ],
   "source": [
    "# Define a simple neural network with one hidden layer and one output layer\n",
    "nn_bin_class = keras.Sequential(\n",
    "    [\n",
    "        layers.Flatten(input_shape=(28,28), name=\"flatten_input\"),  # declare shape of one input beforehand\n",
    "        layers.Dense(500, activation=\"relu\", name=\"hidden_layer_01\"),\n",
    "        layers.Dense(1, name=\"output_layer\", activation=\"sigmoid\"), # interpret output as prob. for class 1\n",
    "    ]\n",
    ")\n",
    "# Call model on a test input\n",
    "x = tf.ones((2,28,28))\n",
    "\n",
    "y = nn_bin_class(x)\n",
    "\n",
    "\n"
   ]
  },
  {
   "cell_type": "code",
   "execution_count": 8,
   "id": "3130d36c-825c-4f18-8ce9-88b963e19a2c",
   "metadata": {},
   "outputs": [
    {
     "data": {
      "text/plain": [
       "<tf.Tensor: shape=(2, 1), dtype=float32, numpy=\n",
       "array([[0.4028263],\n",
       "       [0.4028263]], dtype=float32)>"
      ]
     },
     "execution_count": 8,
     "metadata": {},
     "output_type": "execute_result"
    }
   ],
   "source": [
    "y"
   ]
  },
  {
   "cell_type": "code",
   "execution_count": 9,
   "id": "9ae26bbd-5765-4e10-829b-1bebd8f2155d",
   "metadata": {},
   "outputs": [],
   "source": [
    "\n",
    "nn_bin_class.compile(\n",
    "    optimizer=keras.optimizers.RMSprop(learning_rate=1e-3),\n",
    "    loss=keras.losses.SparseCategoricalCrossentropy(),\n",
    "    metrics=[keras.metrics.SparseCategoricalAccuracy()],\n",
    ")"
   ]
  },
  {
   "cell_type": "markdown",
   "id": "851705d4-bed2-498b-bb9e-6b02e325a8a4",
   "metadata": {},
   "source": [
    "### Learnings"
   ]
  },
  {
   "cell_type": "markdown",
   "id": "aa86ac9e-b725-4764-b96f-a4677c0e9d17",
   "metadata": {},
   "source": [
    "Die Loss Funktion kann nicht von den Prädikaten abhängen in diesem einfachen Sinne, wie für LusiLossBasic definiert.\n",
    "Wenn ich neue Daten habe, kann ich diese ja nicht nachträglich mit in den Loss schieben....\n",
    "\n",
    "-> Ich muss also rein theoretisch die Prädikate mit in die Klasse aufnehmen als Funktionen.\n",
    "Problem: Dann muss ich auch die zu den Labels gehörenden X-Daten mit aufnehmen. NIcht plausibel, siehe **LusiLossBasic2nd\n",
    "\n",
    "-> From scratch Implementierung in tensorflow notwendig?"
   ]
  },
  {
   "cell_type": "code",
   "execution_count": 261,
   "id": "16709c7c-5d1a-40d2-af9d-c48c1594f5b8",
   "metadata": {},
   "outputs": [],
   "source": [
    "# Neuer Versuch\n",
    "class LusiLossBasic2nd(tf.losses.Loss):\n",
    "    # for now, let tau = id\n",
    "    def __init__(self, phi, tau, W):\n",
    "        \n",
    "        \"\"\"Initialize Loss object given predicates and weight matrix.\n",
    "        \n",
    "        Parameters:\n",
    "            phi :: list\n",
    "            array of predicates over X space.\n",
    "            \n",
    "            \n",
    "            tau :: list\n",
    "            array of predicates over Y space.\n",
    "            \n",
    "            W :: weight matrix of adequate dimensions.\n",
    "            \n",
    "        \"\"\"\n",
    "        # Assume that predicates are factorizing, that is of form phi(x)tau(y)\n",
    "        \n",
    "        # Check if dims are ok\n",
    "        if not (len(phi) == W.shape[0] and len(tau) == w.shape[0] and W.shape[0] == W.shape[1]):\n",
    "            raise Exception(\"Check dims.\")\n",
    "\n",
    "        # if dims are ok, continue\n",
    "        super.__init__()\n",
    "        self.phi = phi\n",
    "        self.tau = tau\n",
    "        self.W = W\n",
    "    \n",
    "    \n",
    "    def call(self, y_pred, y_true):\n",
    "        return dot(self.phi * (y - y_pred), self.W, self.phi * (y - y_pred))\n",
    "        "
   ]
  },
  {
   "cell_type": "markdown",
   "id": "0e613ce9-4147-468e-a3fd-bf328510586f",
   "metadata": {},
   "source": [
    "### From Scratch Implementierung"
   ]
  },
  {
   "cell_type": "markdown",
   "id": "9451f66c-6cd9-4959-91c3-6047ebdf082b",
   "metadata": {},
   "source": [
    "see this <a href=\"https://medium.com/analytics-vidhya/how-to-write-a-neural-network-in-tensorflow-from-scratch-without-using-keras-e056bb143d78\">link</a> for an implementation of a neural net in tensorflow without keras from scratch."
   ]
  },
  {
   "cell_type": "code",
   "execution_count": 358,
   "id": "54ac910d-12f9-4770-ba41-057e0aed4af5",
   "metadata": {},
   "outputs": [],
   "source": [
    "batch_size = 32\n",
    "# Prepare the training dataset.\n",
    "train_dataset = tf.data.Dataset.from_tensor_slices((x_train, y_train))\n",
    "# train_dataset = train_dataset.shuffle(buffer_size=1024).batch(batch_size)"
   ]
  },
  {
   "cell_type": "code",
   "execution_count": 272,
   "id": "ad18204d-27d8-43d2-ae6d-da80b8ca69c0",
   "metadata": {},
   "outputs": [
    {
     "name": "stdout",
     "output_type": "stream",
     "text": [
      "0 (32, 28, 28) (32,)\n",
      "1 (32, 28, 28) (32,)\n",
      "2 (32, 28, 28) (32,)\n",
      "3 (32, 28, 28) (32,)\n",
      "4 (32, 28, 28) (32,)\n",
      "5 (32, 28, 28) (32,)\n",
      "6 (32, 28, 28) (32,)\n",
      "7 (32, 28, 28) (32,)\n",
      "8 (32, 28, 28) (32,)\n",
      "9 (32, 28, 28) (32,)\n"
     ]
    }
   ],
   "source": [
    "for (i,j) in enumerate(train_dataset):\n",
    "    if i < 10:\n",
    "        print(i, j[0].shape,j[1].shape)"
   ]
  },
  {
   "cell_type": "markdown",
   "id": "261090ac-a3b6-4476-b484-c888c6316d95",
   "metadata": {},
   "source": [
    "Eine Strategie könnte daraus bestehen, die tf Dataset Klasse zu überarbeiten und mehrere Batches auf einmal auszugeben -> neue Klasse"
   ]
  },
  {
   "cell_type": "code",
   "execution_count": 279,
   "id": "9b8fc9a7-1e15-48b2-887e-ba51ef12ddc4",
   "metadata": {},
   "outputs": [],
   "source": [
    "from tensorflow.python.framework import ops\n",
    "from tensorflow.python.framework import tensor_util"
   ]
  },
  {
   "cell_type": "code",
   "execution_count": 278,
   "id": "823c7275-32a3-400f-b73f-90a0adf7b4f4",
   "metadata": {},
   "outputs": [],
   "source": [
    "t_bool = ops.convert_to_tensor(True)"
   ]
  },
  {
   "cell_type": "code",
   "execution_count": 281,
   "id": "ce0d3baf-8c65-443f-b7fc-83dfd87d6aa8",
   "metadata": {},
   "outputs": [],
   "source": [
    "t_bool_const = tensor_util.constant_value(t_bool)"
   ]
  },
  {
   "cell_type": "code",
   "execution_count": 283,
   "id": "87ad9442-fe9c-474c-9bd8-b5eb545549c4",
   "metadata": {},
   "outputs": [
    {
     "data": {
      "text/plain": [
       "numpy.bool_"
      ]
     },
     "execution_count": 283,
     "metadata": {},
     "output_type": "execute_result"
    }
   ],
   "source": [
    "\n",
    "type(t_bool_const)"
   ]
  },
  {
   "cell_type": "code",
   "execution_count": 285,
   "id": "062df216-85a0-44ae-9707-523a2179116e",
   "metadata": {},
   "outputs": [
    {
     "data": {
      "text/plain": [
       "numpy.bool_"
      ]
     },
     "execution_count": 285,
     "metadata": {},
     "output_type": "execute_result"
    }
   ],
   "source": [
    "type(np.True_)"
   ]
  },
  {
   "cell_type": "code",
   "execution_count": 288,
   "id": "aa0f340b-87d8-4fe3-93c8-d6eb928831b3",
   "metadata": {},
   "outputs": [
    {
     "data": {
      "text/plain": [
       "numpy.int32"
      ]
     },
     "execution_count": 288,
     "metadata": {},
     "output_type": "execute_result"
    }
   ],
   "source": [
    "type(tensor_util.constant_value(ops.convert_to_tensor(64)))"
   ]
  },
  {
   "cell_type": "code",
   "execution_count": 290,
   "id": "775721a8-681a-4799-83f6-7dddd27d60bb",
   "metadata": {},
   "outputs": [],
   "source": [
    "from tensorflow.python.util import _pywrap_utils"
   ]
  },
  {
   "cell_type": "code",
   "execution_count": 303,
   "id": "3d43f5f8-c0a9-4415-9b94-50b8e3211d7d",
   "metadata": {},
   "outputs": [
    {
     "name": "stdout",
     "output_type": "stream",
     "text": [
      "Help on built-in function FlattenForData in module tensorflow.python.util._pywrap_utils:\n",
      "\n",
      "FlattenForData(...) method of builtins.PyCapsule instance\n",
      "    FlattenForData(arg0: handle) -> object\n",
      "    \n",
      "    \n",
      "    Returns a flat sequence from a given nested structure.\n",
      "    \n",
      "    If `nest` is not a sequence, this returns a single-element list: `[nest]`.\n",
      "    \n",
      "    Args:\n",
      "      nest: an arbitrarily nested structure or a scalar object.\n",
      "        Note, numpy arrays are considered scalars.\n",
      "    \n",
      "    Returns:\n",
      "      A Python list, the flattened version of the input.\n",
      "\n"
     ]
    }
   ],
   "source": [
    "help(_pywrap_utils.FlattenForData)"
   ]
  },
  {
   "cell_type": "code",
   "execution_count": 301,
   "id": "54d0161a-a8b9-450c-b76d-c252aeeb0f08",
   "metadata": {},
   "outputs": [
    {
     "data": {
      "text/plain": [
       "[[2, 3, 4], [1, 0, -1]]"
      ]
     },
     "execution_count": 301,
     "metadata": {},
     "output_type": "execute_result"
    }
   ],
   "source": [
    "_pywrap_utils.FlattenForData({1:[2,3,4], 2:[1,0,-1]})"
   ]
  },
  {
   "cell_type": "code",
   "execution_count": 327,
   "id": "facf99c8-0d42-4f8c-a1f2-924125d82607",
   "metadata": {},
   "outputs": [
    {
     "data": {
      "text/plain": [
       "[1, 2, 3, 4, 5, 6, 7]"
      ]
     },
     "execution_count": 327,
     "metadata": {},
     "output_type": "execute_result"
    }
   ],
   "source": [
    "_pywrap_utils.FlattenForData(((((1,2),3),4),(5,6), 7))"
   ]
  },
  {
   "cell_type": "code",
   "execution_count": 305,
   "id": "8b8828d9-5d42-4721-8b57-eee8fa2056a1",
   "metadata": {},
   "outputs": [
    {
     "ename": "TypeError",
     "evalue": "'int' object is not iterable",
     "output_type": "error",
     "traceback": [
      "\u001b[0;31m---------------------------------------------------------------------------\u001b[0m",
      "\u001b[0;31mTypeError\u001b[0m                                 Traceback (most recent call last)",
      "Input \u001b[0;32mIn [305]\u001b[0m, in \u001b[0;36m<cell line: 1>\u001b[0;34m()\u001b[0m\n\u001b[0;32m----> 1\u001b[0m \u001b[38;5;28;43mzip\u001b[39;49m\u001b[43m(\u001b[49m\u001b[38;5;241;43m*\u001b[39;49m\u001b[43m_pywrap_utils\u001b[49m\u001b[38;5;241;43m.\u001b[39;49m\u001b[43mFlattenForData\u001b[49m\u001b[43m(\u001b[49m\u001b[43m(\u001b[49m\u001b[43m(\u001b[49m\u001b[38;5;241;43m1\u001b[39;49m\u001b[43m,\u001b[49m\u001b[38;5;241;43m2\u001b[39;49m\u001b[43m)\u001b[49m\u001b[43m,\u001b[49m\u001b[38;5;241;43m3\u001b[39;49m\u001b[43m)\u001b[49m\u001b[43m)\u001b[49m\u001b[43m)\u001b[49m\n",
      "\u001b[0;31mTypeError\u001b[0m: 'int' object is not iterable"
     ]
    }
   ],
   "source": [
    "zip(*_pywrap_utils.FlattenForData(((1,2),3)))"
   ]
  },
  {
   "cell_type": "code",
   "execution_count": 306,
   "id": "e9358056-58d7-4e09-b03d-1c7bf0cbd87b",
   "metadata": {},
   "outputs": [
    {
     "ename": "SyntaxError",
     "evalue": "invalid syntax (2697577169.py, line 1)",
     "output_type": "error",
     "traceback": [
      "\u001b[0;36m  Input \u001b[0;32mIn [306]\u001b[0;36m\u001b[0m\n\u001b[0;31m    help(*)\u001b[0m\n\u001b[0m          ^\u001b[0m\n\u001b[0;31mSyntaxError\u001b[0m\u001b[0;31m:\u001b[0m invalid syntax\n"
     ]
    }
   ],
   "source": [
    "help(*)"
   ]
  },
  {
   "cell_type": "code",
   "execution_count": 311,
   "id": "e57777fc-20d4-425b-b173-6e240efe9f66",
   "metadata": {},
   "outputs": [
    {
     "name": "stdout",
     "output_type": "stream",
     "text": [
      "<zip object at 0x1ac9bdb00>\n"
     ]
    }
   ],
   "source": [
    "print(zip(*['A', 'n', 'd', 'y']))"
   ]
  },
  {
   "cell_type": "code",
   "execution_count": 315,
   "id": "6c0c84c5-a0a4-4de9-bf5b-b5d746b7c383",
   "metadata": {},
   "outputs": [
    {
     "name": "stdout",
     "output_type": "stream",
     "text": [
      "Help on zip object:\n",
      "\n",
      "class zip(object)\n",
      " |  zip(*iterables, strict=False) --> Yield tuples until an input is exhausted.\n",
      " |  \n",
      " |     >>> list(zip('abcdefg', range(3), range(4)))\n",
      " |     [('a', 0, 0), ('b', 1, 1), ('c', 2, 2)]\n",
      " |  \n",
      " |  The zip object yields n-length tuples, where n is the number of iterables\n",
      " |  passed as positional arguments to zip().  The i-th element in every tuple\n",
      " |  comes from the i-th iterable argument to zip().  This continues until the\n",
      " |  shortest argument is exhausted.\n",
      " |  \n",
      " |  If strict is true and one of the arguments is exhausted before the others,\n",
      " |  raise a ValueError.\n",
      " |  \n",
      " |  Methods defined here:\n",
      " |  \n",
      " |  __getattribute__(self, name, /)\n",
      " |      Return getattr(self, name).\n",
      " |  \n",
      " |  __iter__(self, /)\n",
      " |      Implement iter(self).\n",
      " |  \n",
      " |  __next__(self, /)\n",
      " |      Implement next(self).\n",
      " |  \n",
      " |  __reduce__(...)\n",
      " |      Return state information for pickling.\n",
      " |  \n",
      " |  __setstate__(...)\n",
      " |      Set state information for unpickling.\n",
      " |  \n",
      " |  ----------------------------------------------------------------------\n",
      " |  Static methods defined here:\n",
      " |  \n",
      " |  __new__(*args, **kwargs) from builtins.type\n",
      " |      Create and return a new object.  See help(type) for accurate signature.\n",
      "\n"
     ]
    }
   ],
   "source": [
    "help(zip(*['A', 'n', 'd', 'y']))"
   ]
  },
  {
   "cell_type": "code",
   "execution_count": 320,
   "id": "7de56db1-d4f9-40f2-b5bc-9407442c2af0",
   "metadata": {},
   "outputs": [
    {
     "name": "stdout",
     "output_type": "stream",
     "text": [
      "[0, 1] [2, 3] [4, 5]\n"
     ]
    }
   ],
   "source": [
    "print(*[[0,1],[2,3],[4,5]])"
   ]
  },
  {
   "cell_type": "code",
   "execution_count": 321,
   "id": "1b697311-091d-48fd-933b-973e5c8ba0e0",
   "metadata": {},
   "outputs": [
    {
     "name": "stdout",
     "output_type": "stream",
     "text": [
      "[[0, 1], [2, 3], [4, 5]]\n"
     ]
    }
   ],
   "source": [
    "a = [[0,1],[2,3],[4,5]]\n",
    "print(a)"
   ]
  },
  {
   "cell_type": "code",
   "execution_count": 322,
   "id": "70d1ef7c-802c-48ff-b720-652084348f83",
   "metadata": {},
   "outputs": [],
   "source": [
    "b = zip(*a)"
   ]
  },
  {
   "cell_type": "code",
   "execution_count": 324,
   "id": "0d8f7608-1545-42ca-87fc-f211578a0e00",
   "metadata": {},
   "outputs": [
    {
     "name": "stdout",
     "output_type": "stream",
     "text": [
      "[(0, 2, 4), (1, 3, 5)]\n"
     ]
    }
   ],
   "source": [
    "print(list(b))"
   ]
  },
  {
   "cell_type": "code",
   "execution_count": 334,
   "id": "9cdc6fd7-cd53-4aac-a5ee-96a3328c2d36",
   "metadata": {},
   "outputs": [
    {
     "data": {
      "text/plain": [
       "tensorflow.python.framework.tensor_spec.TensorSpec"
      ]
     },
     "execution_count": 334,
     "metadata": {},
     "output_type": "execute_result"
    }
   ],
   "source": [
    "type(train_dataset.element_spec[1])"
   ]
  },
  {
   "cell_type": "code",
   "execution_count": 338,
   "id": "5e68e53d-654c-41e5-bd6b-5141380e6492",
   "metadata": {},
   "outputs": [
    {
     "data": {
      "text/plain": [
       "(TensorSpec(shape=(None, 28, 28), dtype=tf.float32, name=None),\n",
       " TensorSpec(shape=(None,), dtype=tf.float32, name=None))"
      ]
     },
     "execution_count": 338,
     "metadata": {},
     "output_type": "execute_result"
    }
   ],
   "source": [
    "train_dataset.element_spec"
   ]
  },
  {
   "cell_type": "code",
   "execution_count": 335,
   "id": "8754a9ce-ae20-4825-abf3-1c10fac5fbdc",
   "metadata": {},
   "outputs": [
    {
     "ename": "NameError",
     "evalue": "name 'tensorflow' is not defined",
     "output_type": "error",
     "traceback": [
      "\u001b[0;31m---------------------------------------------------------------------------\u001b[0m",
      "\u001b[0;31mNameError\u001b[0m                                 Traceback (most recent call last)",
      "Input \u001b[0;32mIn [335]\u001b[0m, in \u001b[0;36m<cell line: 1>\u001b[0;34m()\u001b[0m\n\u001b[0;32m----> 1\u001b[0m help(\u001b[43mtensorflow\u001b[49m\u001b[38;5;241m.\u001b[39mpython\u001b[38;5;241m.\u001b[39mframework\u001b[38;5;241m.\u001b[39mtensor_spec\u001b[38;5;241m.\u001b[39mTensorSpec)\n",
      "\u001b[0;31mNameError\u001b[0m: name 'tensorflow' is not defined"
     ]
    }
   ],
   "source": [
    "help(tensorflow.python.framework.tensor_spec.TensorSpec)"
   ]
  },
  {
   "cell_type": "code",
   "execution_count": 336,
   "id": "7dc47676-79b7-4e2a-ba8f-753dad46ed82",
   "metadata": {},
   "outputs": [],
   "source": [
    "from tensorflow.python.framework.tensor_spec import TensorSpec"
   ]
  },
  {
   "cell_type": "code",
   "execution_count": 337,
   "id": "54bd1ac7-b417-4b40-8fdc-de1ae8ed0058",
   "metadata": {},
   "outputs": [
    {
     "name": "stdout",
     "output_type": "stream",
     "text": [
      "Help on class TensorSpec in module tensorflow.python.framework.tensor_spec:\n",
      "\n",
      "class TensorSpec(DenseSpec, tensorflow.python.framework.type_spec.BatchableTypeSpec)\n",
      " |  TensorSpec(shape, dtype=tf.float32, name=None)\n",
      " |  \n",
      " |  Describes a tf.Tensor.\n",
      " |  \n",
      " |  Metadata for describing the `tf.Tensor` objects accepted or returned\n",
      " |  by some TensorFlow APIs.\n",
      " |  \n",
      " |  Method resolution order:\n",
      " |      TensorSpec\n",
      " |      DenseSpec\n",
      " |      tensorflow.python.framework.type_spec.BatchableTypeSpec\n",
      " |      tensorflow.python.framework.type_spec.TypeSpec\n",
      " |      builtins.object\n",
      " |  \n",
      " |  Methods defined here:\n",
      " |  \n",
      " |  is_compatible_with(self, spec_or_tensor)\n",
      " |      Returns True if spec_or_tensor is compatible with this TensorSpec.\n",
      " |      \n",
      " |      Two tensors are considered compatible if they have the same dtype\n",
      " |      and their shapes are compatible (see `tf.TensorShape.is_compatible_with`).\n",
      " |      \n",
      " |      Args:\n",
      " |        spec_or_tensor: A tf.TensorSpec or a tf.Tensor\n",
      " |      \n",
      " |      Returns:\n",
      " |        True if spec_or_tensor is compatible with self.\n",
      " |  \n",
      " |  ----------------------------------------------------------------------\n",
      " |  Class methods defined here:\n",
      " |  \n",
      " |  from_spec(spec, name=None) from abc.ABCMeta\n",
      " |      Returns a `TensorSpec` with the same shape and dtype as `spec`.\n",
      " |      \n",
      " |      >>> spec = tf.TensorSpec(shape=[8, 3], dtype=tf.int32, name=\"OriginalName\")\n",
      " |      >>> tf.TensorSpec.from_spec(spec, \"NewName\")\n",
      " |      TensorSpec(shape=(8, 3), dtype=tf.int32, name='NewName')\n",
      " |      \n",
      " |      Args:\n",
      " |        spec: The `TypeSpec` used to create the new `TensorSpec`.\n",
      " |        name: The name for the new `TensorSpec`.  Defaults to `spec.name`.\n",
      " |  \n",
      " |  from_tensor(tensor, name=None) from abc.ABCMeta\n",
      " |      Returns a `TensorSpec` that describes `tensor`.\n",
      " |      \n",
      " |      >>> tf.TensorSpec.from_tensor(tf.constant([1, 2, 3]))\n",
      " |      TensorSpec(shape=(3,), dtype=tf.int32, name=None)\n",
      " |      \n",
      " |      Args:\n",
      " |        tensor: The `tf.Tensor` that should be described.\n",
      " |        name: A name for the `TensorSpec`.  Defaults to `tensor.op.name`.\n",
      " |      \n",
      " |      Returns:\n",
      " |        A `TensorSpec` that describes `tensor`.\n",
      " |  \n",
      " |  ----------------------------------------------------------------------\n",
      " |  Readonly properties defined here:\n",
      " |  \n",
      " |  value_type\n",
      " |      The Python type for values that are compatible with this TypeSpec.\n",
      " |  \n",
      " |  ----------------------------------------------------------------------\n",
      " |  Data and other attributes defined here:\n",
      " |  \n",
      " |  __abstractmethods__ = frozenset()\n",
      " |  \n",
      " |  ----------------------------------------------------------------------\n",
      " |  Methods inherited from DenseSpec:\n",
      " |  \n",
      " |  __eq__(self, other)\n",
      " |      Return self==value.\n",
      " |  \n",
      " |  __hash__(self)\n",
      " |      Return hash(self).\n",
      " |  \n",
      " |  __init__(self, shape, dtype=tf.float32, name=None)\n",
      " |      Creates a TensorSpec.\n",
      " |      \n",
      " |      Args:\n",
      " |        shape: Value convertible to `tf.TensorShape`. The shape of the tensor.\n",
      " |        dtype: Value convertible to `tf.DType`. The type of the tensor values.\n",
      " |        name: Optional name for the Tensor.\n",
      " |      \n",
      " |      Raises:\n",
      " |        TypeError: If shape is not convertible to a `tf.TensorShape`, or dtype is\n",
      " |          not convertible to a `tf.DType`.\n",
      " |  \n",
      " |  __ne__(self, other)\n",
      " |      Return self!=value.\n",
      " |  \n",
      " |  __repr__(self)\n",
      " |      Return repr(self).\n",
      " |  \n",
      " |  most_specific_compatible_type(self, other)\n",
      " |      Returns the most specific TypeSpec compatible with `self` and `other`.\n",
      " |      \n",
      " |      Args:\n",
      " |        other: A `TypeSpec`.\n",
      " |      \n",
      " |      Raises:\n",
      " |        ValueError: If there is no TypeSpec that is compatible with both `self`\n",
      " |          and `other`.\n",
      " |  \n",
      " |  ----------------------------------------------------------------------\n",
      " |  Readonly properties inherited from DenseSpec:\n",
      " |  \n",
      " |  dtype\n",
      " |      Returns the `dtype` of elements in the tensor.\n",
      " |  \n",
      " |  name\n",
      " |      Returns the (optionally provided) name of the described tensor.\n",
      " |  \n",
      " |  shape\n",
      " |      Returns the `TensorShape` that represents the shape of the tensor.\n",
      " |  \n",
      " |  ----------------------------------------------------------------------\n",
      " |  Data and other attributes inherited from tensorflow.python.framework.type_spec.BatchableTypeSpec:\n",
      " |  \n",
      " |  __batch_encoder__ = <tensorflow.python.framework.type_spec.LegacyTypeS...\n",
      " |  \n",
      " |  ----------------------------------------------------------------------\n",
      " |  Methods inherited from tensorflow.python.framework.type_spec.TypeSpec:\n",
      " |  \n",
      " |  __reduce__(self)\n",
      " |      Helper for pickle.\n",
      "\n"
     ]
    }
   ],
   "source": [
    "help(TensorSpec)"
   ]
  },
  {
   "cell_type": "code",
   "execution_count": 363,
   "id": "4e1d2bed-b065-4496-a251-5e47f1b76713",
   "metadata": {},
   "outputs": [
    {
     "data": {
      "text/plain": [
       "array([5., 0., 4., 1., 9., 2., 1., 3., 1., 4., 3., 5., 3., 6., 1., 7., 2.,\n",
       "       8., 6., 9., 4., 0., 9., 1., 1., 2., 4., 3., 2., 7., 3., 8.],\n",
       "      dtype=float32)"
      ]
     },
     "execution_count": 363,
     "metadata": {},
     "output_type": "execute_result"
    }
   ],
   "source": [
    "\n",
    "#help(train_dataset.batch(32))\n",
    "train_dataset.batch(32).element_spec\n",
    "list(train_dataset.batch(32, drop_remainder=True).as_numpy_iterator())[0][1]"
   ]
  },
  {
   "cell_type": "markdown",
   "id": "3e5e2f9b",
   "metadata": {},
   "source": [
    "### 02.05.2022"
   ]
  },
  {
   "cell_type": "markdown",
   "id": "6a807849",
   "metadata": {},
   "source": [
    "#### I. LUSI for gradient descent on entire training data"
   ]
  },
  {
   "cell_type": "code",
   "execution_count": 31,
   "id": "8af7c610",
   "metadata": {},
   "outputs": [],
   "source": [
    "f_1 = lambda x: x\n",
    "f_2 = lambda x: x**2\n",
    "f_3 = lambda x: x**3\n",
    "f_4 = lambda x: x**4\n",
    "\n",
    "f = np.array([f_1, f_2, f_3, f_4])\n",
    "y = np.arange(10)"
   ]
  },
  {
   "cell_type": "code",
   "execution_count": 32,
   "id": "67a501e9",
   "metadata": {},
   "outputs": [],
   "source": [
    "y_f = [f[i](y[j]) for j in range(y.shape[0])  for i in range(f.shape[0])]"
   ]
  },
  {
   "cell_type": "code",
   "execution_count": 33,
   "id": "51164382",
   "metadata": {},
   "outputs": [],
   "source": [
    "y_f = np.asarray(y_f).reshape(y.shape[0], f.shape[0])"
   ]
  },
  {
   "cell_type": "code",
   "execution_count": 34,
   "id": "a2cf79ca",
   "metadata": {},
   "outputs": [
    {
     "name": "stdout",
     "output_type": "stream",
     "text": [
      "[[   0    0    0    0]\n",
      " [   1    1    1    1]\n",
      " [   2    4    8   16]\n",
      " [   3    9   27   81]\n",
      " [   4   16   64  256]\n",
      " [   5   25  125  625]\n",
      " [   6   36  216 1296]\n",
      " [   7   49  343 2401]\n",
      " [   8   64  512 4096]\n",
      " [   9   81  729 6561]]\n"
     ]
    }
   ],
   "source": [
    "print(y_f)"
   ]
  },
  {
   "cell_type": "code",
   "execution_count": 35,
   "id": "b5b68b92",
   "metadata": {},
   "outputs": [
    {
     "data": {
      "text/plain": [
       "array([[6, 7, 1, 7],\n",
       "       [9, 1, 0, 1],\n",
       "       [6, 7, 0, 1],\n",
       "       [7, 4, 8, 8],\n",
       "       [0, 0, 5, 5],\n",
       "       [1, 6, 5, 4],\n",
       "       [1, 0, 9, 0],\n",
       "       [0, 0, 4, 6],\n",
       "       [5, 5, 2, 4],\n",
       "       [6, 8, 7, 7]])"
      ]
     },
     "execution_count": 35,
     "metadata": {},
     "output_type": "execute_result"
    }
   ],
   "source": [
    "phi_x = np.random.randint(0, 10, size=(y.shape[0], f.shape[0]))\n",
    "phi_x"
   ]
  },
  {
   "cell_type": "code",
   "execution_count": 36,
   "id": "06970e93",
   "metadata": {},
   "outputs": [
    {
     "data": {
      "text/plain": [
       "array([[    0,     0,     0,     0],\n",
       "       [    9,     1,     0,     1],\n",
       "       [   12,    28,     0,    16],\n",
       "       [   21,    36,   216,   648],\n",
       "       [    0,     0,   320,  1280],\n",
       "       [    5,   150,   625,  2500],\n",
       "       [    6,     0,  1944,     0],\n",
       "       [    0,     0,  1372, 14406],\n",
       "       [   40,   320,  1024, 16384],\n",
       "       [   54,   648,  5103, 45927]])"
      ]
     },
     "execution_count": 36,
     "metadata": {},
     "output_type": "execute_result"
    }
   ],
   "source": [
    "phi_x * y_f"
   ]
  },
  {
   "cell_type": "code",
   "execution_count": 263,
   "id": "9c5ed5ee",
   "metadata": {},
   "outputs": [],
   "source": [
    "# Neuer Versuch\n",
    "class LusiLossNoBatch(tf.losses.Loss):\n",
    "    # for now, let tau = id\n",
    "    def __init__(self, phi_x, tau, W):\n",
    "    \n",
    "        \n",
    "        \"\"\"Initialize Loss object given predicates and weight matrix.\n",
    "        \n",
    "        Parameters:\n",
    "            phi :: list\n",
    "            array of evaluations of predicates over space X\n",
    "            dims: (batch_size, no_of_predicates)\n",
    "            \n",
    "            tau :: list\n",
    "            array of predicates over Y space.\n",
    "            \n",
    "            W :: symmetric, positive definite weight matrix\n",
    "                 of adequate dimensions.\n",
    "        \"\"\"\n",
    "        \n",
    "        # Assume that predicates are factorizing, that is of form phi(x)tau(y)\n",
    "        \n",
    "        # Check if dims are ok\n",
    "        if not (tau.shape[0] == W.shape[0] and W.shape[0] == W.shape[1]):\n",
    "            raise Exception(\"Check dims tau and W.\")\n",
    "\n",
    "        # if dims are ok, continue\n",
    "        super().__init__()\n",
    "        self.phi_x = phi_x\n",
    "        self.tau = tau\n",
    "        self.W = W\n",
    "    \n",
    "    \n",
    "    def call(self, y_pred, y_true):\n",
    "        # y_pred and y_true expected to have dims (batch_size, d0, ..., dN) where di means dimension i.\n",
    "        # Explicitly for bin. class: dims are given by (batch_size, d0)\n",
    "        \n",
    "        if not y_true.shape[0] == y_pred.shape[0]:\n",
    "            raise Exception(\"Check dims y-values.\")\n",
    "        \n",
    "        if not self.phi_x.shape[1] == self.tau.shape[0]:\n",
    "            raise Exception(\"Check dims tau and phi_x\")\n",
    "        \n",
    "        if not self.phi_x.shape[0] == y_pred.shape[0]:\n",
    "            print(self.phi_x.shape[0], y_pred.shape[0])\n",
    "            raise Exception(\"Check dims y and phi_x\")\n",
    "        \n",
    "        # for each y, we get vector [tau_1(y), ..., tau_d(y)], same for y_pred\n",
    "        y_dim = y_true.shape[0]\n",
    "        \n",
    "        y_tau = [self.tau[i](y_true[j]) for j in range(y_true.shape[0])  for i in range(self.tau.shape[0])]\n",
    "        # y_true = np.asarray(y_tau)\n",
    "        # y_true = y_true.reshape(y_dim, self.tau.shape[0])\n",
    "        \n",
    "        \n",
    "        y_true = tf.convert_to_tensor(y_tau, dtype=tf.float64)\n",
    "        y_true = tf.reshape(y_true, [y_dim, self.tau.shape[0]])\n",
    "\n",
    "        \n",
    "        y_pred_tau = [self.tau[i](y_pred[j]) for j in range(y_pred.shape[0])  for i in range(self.tau.shape[0])]\n",
    "#         y_pred = np.asarray(y_pred_tau)\n",
    "#         y_pred.reshape(y_dim, self.tau.shape[0])\n",
    "        y_pred = tf.convert_to_tensor(y_pred_tau, dtype=tf.float64)\n",
    "        y_pred = tf.reshape(y_pred,[y_dim, self.tau.shape[0]])\n",
    "        \n",
    "\n",
    "        \n",
    "        no_weight_loss = tf.reduce_mean(self.phi_x * (y_true - y_pred), axis=0)\n",
    "        # no_weight_loss should be tensor of dims (1, no_of_predicates)\n",
    "        no_weight_loss = tf.reshape(no_weight_loss, [self.tau.shape[0],1])\n",
    "        # no_weight_loss = tf.reduce_mean(self.phi_x * (y - y_), axis=0)\n",
    "\n",
    "        return dot(tf.transpose(no_weight_loss), no_weight_loss, self.W)\n",
    "        #return tf.square(y_true-y_pred)   \n",
    "        "
   ]
  },
  {
   "cell_type": "markdown",
   "id": "8e3a850b",
   "metadata": {},
   "source": [
    "##### Try to fit model using this loss function"
   ]
  },
  {
   "cell_type": "code",
   "execution_count": 255,
   "id": "1136a699",
   "metadata": {},
   "outputs": [
    {
     "data": {
      "text/plain": [
       "TensorShape([1, 3])"
      ]
     },
     "execution_count": 255,
     "metadata": {},
     "output_type": "execute_result"
    }
   ],
   "source": [
    "v_1.shape"
   ]
  },
  {
   "cell_type": "code",
   "execution_count": 45,
   "id": "df008a9d",
   "metadata": {},
   "outputs": [
    {
     "data": {
      "text/plain": [
       "<tf.Tensor: shape=(28,), dtype=float32, numpy=\n",
       "array([0.        , 0.        , 0.        , 0.        , 0.        ,\n",
       "       0.        , 0.08613446, 0.3144258 , 0.37492996, 0.27254903,\n",
       "       0.22801122, 0.2401961 , 0.24845941, 0.24845938, 0.2245098 ,\n",
       "       0.25210086, 0.3053221 , 0.28557426, 0.20714286, 0.22675072,\n",
       "       0.3943978 , 0.3114846 , 0.13459383, 0.        , 0.        ,\n",
       "       0.        , 0.        , 0.        ], dtype=float32)>"
      ]
     },
     "execution_count": 45,
     "metadata": {},
     "output_type": "execute_result"
    }
   ],
   "source": [
    "x_train[1].shape\n",
    "tf.reduce_mean(x_train[1], axis=0)"
   ]
  },
  {
   "cell_type": "code",
   "execution_count": 49,
   "id": "8290823b",
   "metadata": {},
   "outputs": [
    {
     "data": {
      "text/plain": [
       "array([[1., 1.],\n",
       "       [1., 1.],\n",
       "       [1., 1.],\n",
       "       [1., 1.],\n",
       "       [1., 1.]])"
      ]
     },
     "execution_count": 49,
     "metadata": {},
     "output_type": "execute_result"
    }
   ],
   "source": [
    "np.ones(10).reshape(5,2)"
   ]
  },
  {
   "cell_type": "code",
   "execution_count": 50,
   "id": "29e23a82",
   "metadata": {},
   "outputs": [
    {
     "data": {
      "text/plain": [
       "array([[0, 1],\n",
       "       [2, 3],\n",
       "       [4, 5],\n",
       "       [6, 7],\n",
       "       [8, 9]])"
      ]
     },
     "execution_count": 50,
     "metadata": {},
     "output_type": "execute_result"
    }
   ],
   "source": [
    "np.arange(10).reshape(5,2)"
   ]
  },
  {
   "cell_type": "code",
   "execution_count": 51,
   "id": "f407fa5f",
   "metadata": {},
   "outputs": [
    {
     "data": {
      "text/plain": [
       "array([[0., 1.],\n",
       "       [2., 3.],\n",
       "       [4., 5.],\n",
       "       [6., 7.],\n",
       "       [8., 9.]])"
      ]
     },
     "execution_count": 51,
     "metadata": {},
     "output_type": "execute_result"
    }
   ],
   "source": [
    "np.ones(10).reshape(5,2)*np.arange(10).reshape(5,2)"
   ]
  },
  {
   "cell_type": "code",
   "execution_count": 53,
   "id": "b9182ee9",
   "metadata": {},
   "outputs": [
    {
     "data": {
      "text/plain": [
       "<tf.Tensor: shape=(5,), dtype=float64, numpy=array([0.5, 2.5, 4.5, 6.5, 8.5])>"
      ]
     },
     "execution_count": 53,
     "metadata": {},
     "output_type": "execute_result"
    }
   ],
   "source": [
    "tf.reduce_mean(np.ones(10).reshape(5,2)*np.arange(10).reshape(5,2), axis=1)"
   ]
  },
  {
   "cell_type": "markdown",
   "id": "7c161822",
   "metadata": {},
   "source": [
    "-> reduce along axis 0 means reducing along rows, that is keeping columns"
   ]
  },
  {
   "cell_type": "code",
   "execution_count": 54,
   "id": "4794b924",
   "metadata": {},
   "outputs": [],
   "source": [
    "# I. Define predicates on image data\n",
    "avg_pixel_intensity = lambda x: tf.reduce_mean(x)"
   ]
  },
  {
   "cell_type": "code",
   "execution_count": 66,
   "id": "242d5b6e",
   "metadata": {},
   "outputs": [
    {
     "data": {
      "text/plain": [
       "array([14, 13, 12, 11, 10,  9,  8,  7,  6,  5,  4,  3,  2,  1])"
      ]
     },
     "execution_count": 66,
     "metadata": {},
     "output_type": "execute_result"
    }
   ],
   "source": [
    "# np.arange(1,15)\n",
    "np.arange(14, 0, -1)"
   ]
  },
  {
   "cell_type": "code",
   "execution_count": 69,
   "id": "8b086a64",
   "metadata": {},
   "outputs": [
    {
     "data": {
      "text/plain": [
       "(28,)"
      ]
     },
     "execution_count": 69,
     "metadata": {},
     "output_type": "execute_result"
    }
   ],
   "source": [
    "np.concatenate([np.arange(1,15), np.arange(14, 0, -1)]).shape"
   ]
  },
  {
   "cell_type": "code",
   "execution_count": 70,
   "id": "2fc85c1c",
   "metadata": {},
   "outputs": [],
   "source": [
    "def weighted_pixel_intesity(x):\n",
    "    row_mean = tf.reduce_mean(x, axis=1)\n",
    "    weights = np.concatenate([np.arange(1,15), np.arange(14, 0, -1)])\n",
    "    weighted_intesity = row_mean * weights\n",
    "    return np.mean(weighted_intesity)"
   ]
  },
  {
   "cell_type": "markdown",
   "id": "0d1e8bab",
   "metadata": {},
   "source": [
    "Setting is supervised learning setting, i.e. the problem is to find prob. measure on $\\mathcal{X \\times Y}$\n",
    "\n",
    "Predicates are of the form $\\phi(x)\\tau(y)$"
   ]
  },
  {
   "cell_type": "code",
   "execution_count": 78,
   "id": "d62f2653",
   "metadata": {},
   "outputs": [],
   "source": [
    "def local_pixel_intensity(x, patch):\n",
    "    \"\"\"Calc. avg. pixel intensity on local patch of image.\n",
    "    \n",
    "    x :: np.array\n",
    "    dims = (batch, 28, 28).\n",
    "    \n",
    "    patch :: tuple[tuple]\n",
    "    coordinates for patch. Tuple structure as follows: ((x_dim_0, x_dim_1), (y_dim_0, y_dim_1)).\n",
    "\n",
    "    \"\"\"\n",
    "    \n",
    "    extracted_patch = x[:, patch[0][0]:patch[0][1], patch[1][0]: patch[1][1]]\n",
    "    return tf.reduce_mean(extracted_patch)"
   ]
  },
  {
   "cell_type": "code",
   "execution_count": 108,
   "id": "5f8a5332",
   "metadata": {},
   "outputs": [],
   "source": [
    "def local_pixel_intensity_single(x, patch):\n",
    "    # TODO: Find a way to accomodate single sample eval in the original function\n",
    "    \n",
    "    \"\"\"Calc. avg. pixel intensity on local patch of image.\n",
    "    \n",
    "    x :: np.array\n",
    "    dims = (28, 28).\n",
    "    \n",
    "    patch :: tuple[tuple]\n",
    "    coordinates for patch. Tuple structure as follows: ((x_dim_0, x_dim_1), (y_dim_0, y_dim_1)).\n",
    "\n",
    "    \"\"\"\n",
    "    \n",
    "    extracted_patch = x[patch[0][0]:patch[0][1], patch[1][0]: patch[1][1]]\n",
    "    return tf.reduce_mean(extracted_patch)"
   ]
  },
  {
   "cell_type": "code",
   "execution_count": 71,
   "id": "38361a8b",
   "metadata": {},
   "outputs": [],
   "source": [
    "def phi_x(predicates, x):\n",
    "    \"\"\" Evaluate predicates on data and store values.\n",
    "    \n",
    "    predicates :: np.array\n",
    "    List of \\R valued predicates working on x of dimension d.\n",
    "    \n",
    "    x :: np.array\n",
    "    data to apply predicates to of dimensinos (n, d0, ..., dN).\n",
    "    I.e. for MNIST, dims = (n, 28, 28)\n",
    "    \n",
    "    returns:\n",
    "    array of dimensions (n, d).\n",
    "    \"\"\"\n",
    "    \n",
    "    pred_evals = np.asarray([predicates[i](x[j]) for j in range(x.shape[0]) for i in range(predicates.shape[0])])\n",
    "    pred_evals = pred_evals.reshape(x.shape[0], predicates.shape[0])\n",
    "    \n",
    "    \n",
    "    return pred_evals"
   ]
  },
  {
   "cell_type": "code",
   "execution_count": 92,
   "id": "69b2c7d8",
   "metadata": {},
   "outputs": [],
   "source": [
    "import functools"
   ]
  },
  {
   "cell_type": "code",
   "execution_count": 104,
   "id": "b9155224",
   "metadata": {},
   "outputs": [],
   "source": [
    "local_pixel_intensity_center = functools.partial(local_pixel_intensity_single, patch=((10,20), (10,20)))"
   ]
  },
  {
   "cell_type": "code",
   "execution_count": 112,
   "id": "826864bd",
   "metadata": {},
   "outputs": [],
   "source": [
    "phi = np.asarray([avg_pixel_intensity, weighted_pixel_intesity, local_pixel_intensity_center])\n"
   ]
  },
  {
   "cell_type": "code",
   "execution_count": 113,
   "id": "892ff517",
   "metadata": {},
   "outputs": [
    {
     "data": {
      "text/plain": [
       "(1000, 3)"
      ]
     },
     "execution_count": 113,
     "metadata": {},
     "output_type": "execute_result"
    }
   ],
   "source": [
    "phi_x(phi, x_train[:1000, :, :]/255).shape"
   ]
  },
  {
   "cell_type": "code",
   "execution_count": 272,
   "id": "90ac19a2",
   "metadata": {},
   "outputs": [],
   "source": [
    "identity = lambda x: x\n",
    "tau = np.asarray([identity, identity, identity])\n",
    "# tau = tf.convert_to_tensor([identity, identity, identity])\n",
    "# Cannot convert a list of functions to a tensor"
   ]
  },
  {
   "cell_type": "code",
   "execution_count": 117,
   "id": "4e445333",
   "metadata": {},
   "outputs": [
    {
     "data": {
      "text/plain": [
       "array([<function <lambda> at 0x19e43c820>,\n",
       "       <function weighted_pixel_intesity at 0x19e276950>,\n",
       "       functools.partial(<function local_pixel_intensity_single at 0x19ef644c0>, patch=((10, 20), (10, 20)))],\n",
       "      dtype=object)"
      ]
     },
     "execution_count": 117,
     "metadata": {},
     "output_type": "execute_result"
    }
   ],
   "source": [
    "phi"
   ]
  },
  {
   "cell_type": "code",
   "execution_count": 252,
   "id": "f1f2ac82",
   "metadata": {},
   "outputs": [],
   "source": [
    "w_matrix = tf.convert_to_tensor(np.diag(np.ones(3)), dtype=tf.float64)"
   ]
  },
  {
   "cell_type": "code",
   "execution_count": null,
   "id": "bfdfaf37",
   "metadata": {},
   "outputs": [],
   "source": [
    "# Data: sevens, eights\n",
    "# sevens, eights\n",
    "# y_sevens, y_eights"
   ]
  },
  {
   "cell_type": "code",
   "execution_count": 122,
   "id": "d658cebe",
   "metadata": {},
   "outputs": [],
   "source": [
    "# Define a simple neural network with one hidden layer and one output layer\n",
    "nn_bin_class = keras.Sequential(\n",
    "    [\n",
    "        layers.Flatten(input_shape=(28,28), name=\"flatten_input\"),  # declare shape of one input beforehand\n",
    "        layers.Dense(500, activation=\"relu\", name=\"hidden_layer_01\"),\n",
    "        layers.Dense(1, name=\"output_layer\", activation=\"sigmoid\"), # interpret output as prob. for class 1\n",
    "    ]\n",
    ")"
   ]
  },
  {
   "cell_type": "code",
   "execution_count": 296,
   "id": "ff77cfac",
   "metadata": {},
   "outputs": [
    {
     "data": {
      "text/plain": [
       "TensorShape([400, 1])"
      ]
     },
     "execution_count": 296,
     "metadata": {},
     "output_type": "execute_result"
    }
   ],
   "source": [
    "nn_bin_class(x_train).shape"
   ]
  },
  {
   "cell_type": "code",
   "execution_count": 130,
   "id": "05d5fe8e",
   "metadata": {},
   "outputs": [
    {
     "data": {
      "text/plain": [
       "(4842, 28, 28)"
      ]
     },
     "execution_count": 130,
     "metadata": {},
     "output_type": "execute_result"
    }
   ],
   "source": [
    "eights.shape"
   ]
  },
  {
   "cell_type": "code",
   "execution_count": 202,
   "id": "4262a679",
   "metadata": {},
   "outputs": [],
   "source": [
    "sevens_lusi = sevens[:200]\n",
    "eights_lusi = eights[:200]\n",
    "y_sevens_lusi = np.zeros(200)\n",
    "y_eights_lusi = np.ones(200)"
   ]
  },
  {
   "cell_type": "code",
   "execution_count": 203,
   "id": "ccf219c2",
   "metadata": {},
   "outputs": [],
   "source": [
    "x_train = np.concatenate([sevens_lusi, eights_lusi])\n",
    "y_train = np.concatenate([y_sevens_lusi, y_eights_lusi])"
   ]
  },
  {
   "cell_type": "code",
   "execution_count": 204,
   "id": "9416a306",
   "metadata": {},
   "outputs": [
    {
     "data": {
      "text/plain": [
       "(400, 28, 28)"
      ]
     },
     "execution_count": 204,
     "metadata": {},
     "output_type": "execute_result"
    }
   ],
   "source": [
    "x_train.shape"
   ]
  },
  {
   "cell_type": "code",
   "execution_count": 205,
   "id": "1785fe4e",
   "metadata": {},
   "outputs": [
    {
     "data": {
      "text/plain": [
       "(400,)"
      ]
     },
     "execution_count": 205,
     "metadata": {},
     "output_type": "execute_result"
    }
   ],
   "source": [
    "y_train.shape"
   ]
  },
  {
   "cell_type": "code",
   "execution_count": 206,
   "id": "16d6c1c7",
   "metadata": {},
   "outputs": [
    {
     "data": {
      "text/plain": [
       "numpy.ndarray"
      ]
     },
     "execution_count": 206,
     "metadata": {},
     "output_type": "execute_result"
    }
   ],
   "source": [
    "type(x_train)"
   ]
  },
  {
   "cell_type": "code",
   "execution_count": 207,
   "id": "e17b02f0",
   "metadata": {},
   "outputs": [],
   "source": [
    "phi_eval = phi_x(phi, x_train/255)"
   ]
  },
  {
   "cell_type": "code",
   "execution_count": 208,
   "id": "8595eac3",
   "metadata": {},
   "outputs": [
    {
     "data": {
      "text/plain": [
       "(400, 3)"
      ]
     },
     "execution_count": 208,
     "metadata": {},
     "output_type": "execute_result"
    }
   ],
   "source": [
    "phi_eval.shape"
   ]
  },
  {
   "cell_type": "code",
   "execution_count": 246,
   "id": "4e7f4b7a",
   "metadata": {},
   "outputs": [
    {
     "data": {
      "text/plain": [
       "tensorflow.python.framework.ops.EagerTensor"
      ]
     },
     "execution_count": 246,
     "metadata": {},
     "output_type": "execute_result"
    }
   ],
   "source": [
    "type(tf.convert_to_tensor(phi_eval))"
   ]
  },
  {
   "cell_type": "code",
   "execution_count": 194,
   "id": "07c4de94",
   "metadata": {},
   "outputs": [
    {
     "data": {
      "text/plain": [
       "numpy.ndarray"
      ]
     },
     "execution_count": 194,
     "metadata": {},
     "output_type": "execute_result"
    }
   ],
   "source": [
    "type(y_train)"
   ]
  },
  {
   "cell_type": "code",
   "execution_count": 264,
   "id": "d35fc67b",
   "metadata": {},
   "outputs": [],
   "source": [
    "nn_bin_class.compile(\n",
    "    optimizer=keras.optimizers.RMSprop(),\n",
    "    # loss=keras.losses.SparseCategoricalCrossentropy(),\n",
    "    loss=LusiLossNoBatch(phi_eval, tau, w_matrix),\n",
    "    metrics=[keras.metrics.Accuracy()],\n",
    ")"
   ]
  },
  {
   "cell_type": "code",
   "execution_count": 265,
   "id": "263b6b93",
   "metadata": {},
   "outputs": [
    {
     "name": "stdout",
     "output_type": "stream",
     "text": [
      "Epoch 1/100\n",
      "1/1 [==============================] - 20s 20s/step - loss: 9.0503e-11 - accuracy: 0.0175\n",
      "Epoch 2/100\n",
      "1/1 [==============================] - 0s 12ms/step - loss: 1.2874e-10 - accuracy: 0.0175\n",
      "Epoch 3/100\n",
      "1/1 [==============================] - 0s 19ms/step - loss: 1.1891e-10 - accuracy: 0.0175\n",
      "Epoch 4/100\n",
      "1/1 [==============================] - 0s 10ms/step - loss: 5.9916e-11 - accuracy: 0.0175\n",
      "Epoch 5/100\n",
      "1/1 [==============================] - 0s 13ms/step - loss: 1.1563e-10 - accuracy: 0.0175\n",
      "Epoch 6/100\n",
      "1/1 [==============================] - 0s 17ms/step - loss: 1.2076e-10 - accuracy: 0.0175\n",
      "Epoch 7/100\n",
      "1/1 [==============================] - 0s 13ms/step - loss: 1.0294e-10 - accuracy: 0.0175\n",
      "Epoch 8/100\n",
      "1/1 [==============================] - 0s 16ms/step - loss: 1.3313e-10 - accuracy: 0.0175\n",
      "Epoch 9/100\n",
      "1/1 [==============================] - 0s 16ms/step - loss: 1.2168e-10 - accuracy: 0.0175\n",
      "Epoch 10/100\n",
      "1/1 [==============================] - 0s 15ms/step - loss: 1.7659e-10 - accuracy: 0.0175\n",
      "Epoch 11/100\n",
      "1/1 [==============================] - 0s 16ms/step - loss: 6.5811e-11 - accuracy: 0.0175\n",
      "Epoch 12/100\n",
      "1/1 [==============================] - 0s 18ms/step - loss: 1.4841e-10 - accuracy: 0.0175\n",
      "Epoch 13/100\n",
      "1/1 [==============================] - 0s 12ms/step - loss: 1.0874e-10 - accuracy: 0.0175\n",
      "Epoch 14/100\n",
      "1/1 [==============================] - 0s 14ms/step - loss: 6.2762e-11 - accuracy: 0.0175\n",
      "Epoch 15/100\n",
      "1/1 [==============================] - 0s 13ms/step - loss: 6.3648e-11 - accuracy: 0.0175\n",
      "Epoch 16/100\n",
      "1/1 [==============================] - 0s 12ms/step - loss: 9.5120e-11 - accuracy: 0.0175\n",
      "Epoch 17/100\n",
      "1/1 [==============================] - 0s 13ms/step - loss: 5.7922e-11 - accuracy: 0.0175\n",
      "Epoch 18/100\n",
      "1/1 [==============================] - 0s 11ms/step - loss: 1.1969e-10 - accuracy: 0.0175\n",
      "Epoch 19/100\n",
      "1/1 [==============================] - 0s 12ms/step - loss: 7.0248e-11 - accuracy: 0.0175\n",
      "Epoch 20/100\n",
      "1/1 [==============================] - 0s 12ms/step - loss: 1.3661e-10 - accuracy: 0.0175\n",
      "Epoch 21/100\n",
      "1/1 [==============================] - 0s 12ms/step - loss: 3.7887e-11 - accuracy: 0.0175\n",
      "Epoch 22/100\n",
      "1/1 [==============================] - 0s 14ms/step - loss: 5.9197e-11 - accuracy: 0.0175\n",
      "Epoch 23/100\n",
      "1/1 [==============================] - 0s 12ms/step - loss: 7.7368e-11 - accuracy: 0.0175\n",
      "Epoch 24/100\n",
      "1/1 [==============================] - 0s 16ms/step - loss: 7.1939e-11 - accuracy: 0.0175\n",
      "Epoch 25/100\n",
      "1/1 [==============================] - 0s 13ms/step - loss: 6.7758e-11 - accuracy: 0.0175\n",
      "Epoch 26/100\n",
      "1/1 [==============================] - 0s 12ms/step - loss: 8.5684e-11 - accuracy: 0.0175\n",
      "Epoch 27/100\n",
      "1/1 [==============================] - 0s 13ms/step - loss: 1.1141e-10 - accuracy: 0.0175\n",
      "Epoch 28/100\n",
      "1/1 [==============================] - 0s 13ms/step - loss: 6.8996e-11 - accuracy: 0.0175\n",
      "Epoch 29/100\n",
      "1/1 [==============================] - 0s 12ms/step - loss: 1.1913e-10 - accuracy: 0.0175\n",
      "Epoch 30/100\n",
      "1/1 [==============================] - 0s 13ms/step - loss: 8.1667e-11 - accuracy: 0.0175\n",
      "Epoch 31/100\n",
      "1/1 [==============================] - 0s 11ms/step - loss: 5.3372e-11 - accuracy: 0.0175\n",
      "Epoch 32/100\n",
      "1/1 [==============================] - 0s 13ms/step - loss: 9.9734e-11 - accuracy: 0.0175\n",
      "Epoch 33/100\n",
      "1/1 [==============================] - 0s 11ms/step - loss: 1.0874e-10 - accuracy: 0.0175\n",
      "Epoch 34/100\n",
      "1/1 [==============================] - 0s 12ms/step - loss: 5.4162e-11 - accuracy: 0.0175\n",
      "Epoch 35/100\n",
      "1/1 [==============================] - 0s 12ms/step - loss: 5.0377e-11 - accuracy: 0.0175\n",
      "Epoch 36/100\n",
      "1/1 [==============================] - 0s 13ms/step - loss: 7.3464e-11 - accuracy: 0.0175\n",
      "Epoch 37/100\n",
      "1/1 [==============================] - 0s 16ms/step - loss: 9.2721e-11 - accuracy: 0.0175\n",
      "Epoch 38/100\n",
      "1/1 [==============================] - 0s 15ms/step - loss: 1.1654e-10 - accuracy: 0.0175\n",
      "Epoch 39/100\n",
      "1/1 [==============================] - 0s 11ms/step - loss: 9.3129e-11 - accuracy: 0.0175\n",
      "Epoch 40/100\n",
      "1/1 [==============================] - 0s 12ms/step - loss: 1.2921e-10 - accuracy: 0.0175\n",
      "Epoch 41/100\n",
      "1/1 [==============================] - 0s 12ms/step - loss: 7.1398e-11 - accuracy: 0.0175\n",
      "Epoch 42/100\n",
      "1/1 [==============================] - 0s 12ms/step - loss: 7.9622e-11 - accuracy: 0.0175\n",
      "Epoch 43/100\n",
      "1/1 [==============================] - 0s 12ms/step - loss: 6.8292e-11 - accuracy: 0.0175\n",
      "Epoch 44/100\n",
      "1/1 [==============================] - 0s 13ms/step - loss: 7.2140e-11 - accuracy: 0.0175\n",
      "Epoch 45/100\n",
      "1/1 [==============================] - 0s 12ms/step - loss: 6.7886e-11 - accuracy: 0.0175\n",
      "Epoch 46/100\n",
      "1/1 [==============================] - 0s 12ms/step - loss: 6.0756e-11 - accuracy: 0.0175\n",
      "Epoch 47/100\n",
      "1/1 [==============================] - 0s 13ms/step - loss: 4.1265e-11 - accuracy: 0.0175\n",
      "Epoch 48/100\n",
      "1/1 [==============================] - 0s 11ms/step - loss: 8.4337e-11 - accuracy: 0.0175\n",
      "Epoch 49/100\n",
      "1/1 [==============================] - 0s 11ms/step - loss: 3.3598e-11 - accuracy: 0.0175\n",
      "Epoch 50/100\n",
      "1/1 [==============================] - 0s 13ms/step - loss: 1.0626e-10 - accuracy: 0.0175\n",
      "Epoch 51/100\n",
      "1/1 [==============================] - 0s 12ms/step - loss: 8.0461e-11 - accuracy: 0.0175\n",
      "Epoch 52/100\n",
      "1/1 [==============================] - 0s 13ms/step - loss: 9.4342e-11 - accuracy: 0.0175\n",
      "Epoch 53/100\n",
      "1/1 [==============================] - 0s 12ms/step - loss: 4.1291e-11 - accuracy: 0.0175\n",
      "Epoch 54/100\n",
      "1/1 [==============================] - 0s 12ms/step - loss: 1.0211e-10 - accuracy: 0.0175\n",
      "Epoch 55/100\n",
      "1/1 [==============================] - 0s 11ms/step - loss: 6.8666e-11 - accuracy: 0.0175\n",
      "Epoch 56/100\n",
      "1/1 [==============================] - 0s 11ms/step - loss: 7.3404e-11 - accuracy: 0.0175\n",
      "Epoch 57/100\n",
      "1/1 [==============================] - 0s 13ms/step - loss: 9.4584e-11 - accuracy: 0.0175\n",
      "Epoch 58/100\n",
      "1/1 [==============================] - 0s 11ms/step - loss: 8.8695e-11 - accuracy: 0.0175\n",
      "Epoch 59/100\n",
      "1/1 [==============================] - 0s 11ms/step - loss: 5.9628e-11 - accuracy: 0.0175\n",
      "Epoch 60/100\n",
      "1/1 [==============================] - 0s 12ms/step - loss: 1.0198e-10 - accuracy: 0.0175\n",
      "Epoch 61/100\n",
      "1/1 [==============================] - 0s 14ms/step - loss: 9.8882e-11 - accuracy: 0.0175\n",
      "Epoch 62/100\n",
      "1/1 [==============================] - 0s 15ms/step - loss: 9.8018e-11 - accuracy: 0.0175\n",
      "Epoch 63/100\n",
      "1/1 [==============================] - 0s 13ms/step - loss: 1.3314e-10 - accuracy: 0.0175\n",
      "Epoch 64/100\n",
      "1/1 [==============================] - 0s 10ms/step - loss: 1.2863e-10 - accuracy: 0.0175\n",
      "Epoch 65/100\n",
      "1/1 [==============================] - 0s 11ms/step - loss: 1.0607e-10 - accuracy: 0.0175\n",
      "Epoch 66/100\n",
      "1/1 [==============================] - 0s 12ms/step - loss: 9.2727e-11 - accuracy: 0.0175\n",
      "Epoch 67/100\n",
      "1/1 [==============================] - 0s 12ms/step - loss: 8.2902e-11 - accuracy: 0.0175\n",
      "Epoch 68/100\n",
      "1/1 [==============================] - 0s 11ms/step - loss: 8.9608e-11 - accuracy: 0.0175\n",
      "Epoch 69/100\n",
      "1/1 [==============================] - 0s 10ms/step - loss: 6.4920e-11 - accuracy: 0.0175\n",
      "Epoch 70/100\n",
      "1/1 [==============================] - 0s 13ms/step - loss: 4.1153e-11 - accuracy: 0.0175\n",
      "Epoch 71/100\n",
      "1/1 [==============================] - 0s 13ms/step - loss: 1.0203e-10 - accuracy: 0.0175\n",
      "Epoch 72/100\n",
      "1/1 [==============================] - 0s 14ms/step - loss: 8.6295e-11 - accuracy: 0.0175\n",
      "Epoch 73/100\n",
      "1/1 [==============================] - 0s 13ms/step - loss: 1.0201e-10 - accuracy: 0.0175\n",
      "Epoch 74/100\n",
      "1/1 [==============================] - 0s 12ms/step - loss: 4.4550e-11 - accuracy: 0.0175\n",
      "Epoch 75/100\n",
      "1/1 [==============================] - 0s 12ms/step - loss: 3.4472e-11 - accuracy: 0.0175\n",
      "Epoch 76/100\n",
      "1/1 [==============================] - 0s 11ms/step - loss: 4.8515e-11 - accuracy: 0.0175\n",
      "Epoch 77/100\n",
      "1/1 [==============================] - 0s 10ms/step - loss: 6.5912e-11 - accuracy: 0.0175\n",
      "Epoch 78/100\n",
      "1/1 [==============================] - 0s 11ms/step - loss: 8.8205e-11 - accuracy: 0.0175\n",
      "Epoch 79/100\n",
      "1/1 [==============================] - 0s 12ms/step - loss: 3.0493e-11 - accuracy: 0.0175\n",
      "Epoch 80/100\n",
      "1/1 [==============================] - 0s 12ms/step - loss: 9.8146e-11 - accuracy: 0.0175\n",
      "Epoch 81/100\n",
      "1/1 [==============================] - 0s 13ms/step - loss: 4.2679e-11 - accuracy: 0.0175\n",
      "Epoch 82/100\n",
      "1/1 [==============================] - 0s 14ms/step - loss: 8.8800e-11 - accuracy: 0.0175\n",
      "Epoch 83/100\n",
      "1/1 [==============================] - 0s 11ms/step - loss: 3.3758e-11 - accuracy: 0.0175\n",
      "Epoch 84/100\n",
      "1/1 [==============================] - 0s 12ms/step - loss: 5.8628e-11 - accuracy: 0.0175\n",
      "Epoch 85/100\n",
      "1/1 [==============================] - 0s 13ms/step - loss: 4.8654e-11 - accuracy: 0.0175\n",
      "Epoch 86/100\n",
      "1/1 [==============================] - 0s 14ms/step - loss: 5.1044e-11 - accuracy: 0.0175\n",
      "Epoch 87/100\n",
      "1/1 [==============================] - 0s 13ms/step - loss: 1.1232e-10 - accuracy: 0.0175\n",
      "Epoch 88/100\n",
      "1/1 [==============================] - 0s 13ms/step - loss: 9.5209e-11 - accuracy: 0.0175\n",
      "Epoch 89/100\n",
      "1/1 [==============================] - 0s 13ms/step - loss: 7.1279e-11 - accuracy: 0.0175\n",
      "Epoch 90/100\n",
      "1/1 [==============================] - 0s 10ms/step - loss: 1.6112e-11 - accuracy: 0.0175\n",
      "Epoch 91/100\n",
      "1/1 [==============================] - 0s 12ms/step - loss: 6.2482e-11 - accuracy: 0.0175\n",
      "Epoch 92/100\n",
      "1/1 [==============================] - 0s 10ms/step - loss: 8.5092e-11 - accuracy: 0.0175\n",
      "Epoch 93/100\n",
      "1/1 [==============================] - 0s 11ms/step - loss: 1.0290e-10 - accuracy: 0.0175\n",
      "Epoch 94/100\n",
      "1/1 [==============================] - 0s 13ms/step - loss: 5.6685e-11 - accuracy: 0.0175\n",
      "Epoch 95/100\n",
      "1/1 [==============================] - 0s 12ms/step - loss: 6.1051e-11 - accuracy: 0.0175\n",
      "Epoch 96/100\n",
      "1/1 [==============================] - 0s 11ms/step - loss: 2.1508e-11 - accuracy: 0.0175\n",
      "Epoch 97/100\n",
      "1/1 [==============================] - 0s 14ms/step - loss: 7.0228e-11 - accuracy: 0.0175\n",
      "Epoch 98/100\n",
      "1/1 [==============================] - 0s 13ms/step - loss: 7.9197e-11 - accuracy: 0.0175\n",
      "Epoch 99/100\n",
      "1/1 [==============================] - 0s 15ms/step - loss: 1.0553e-10 - accuracy: 0.0175\n",
      "Epoch 100/100\n",
      "1/1 [==============================] - 0s 15ms/step - loss: 7.9984e-11 - accuracy: 0.0175\n"
     ]
    }
   ],
   "source": [
    "hist_nn_bin_class = nn_bin_class.fit(\n",
    "    x_train,\n",
    "    y_train,\n",
    "    batch_size=x_train.shape[0],\n",
    "    epochs=100\n",
    "    #validation_data=(x_val, y_val)  add argument\n",
    ")"
   ]
  },
  {
   "cell_type": "code",
   "execution_count": 269,
   "id": "848f7e0b",
   "metadata": {},
   "outputs": [
    {
     "data": {
      "text/plain": [
       "array([[0.00029203],\n",
       "       [0.06547606],\n",
       "       [0.00106779],\n",
       "       ...,\n",
       "       [0.00028142],\n",
       "       [0.00041658],\n",
       "       [0.00016576]], dtype=float32)"
      ]
     },
     "execution_count": 269,
     "metadata": {},
     "output_type": "execute_result"
    }
   ],
   "source": [
    "nn_bin_class.predict(sevens)"
   ]
  },
  {
   "cell_type": "code",
   "execution_count": 165,
   "id": "72aede71",
   "metadata": {},
   "outputs": [
    {
     "data": {
      "text/plain": [
       "<tf.Tensor: shape=(3,), dtype=int32, numpy=array([1, 2, 3], dtype=int32)>"
      ]
     },
     "execution_count": 165,
     "metadata": {},
     "output_type": "execute_result"
    }
   ],
   "source": [
    "tf.convert_to_tensor([1,2,3,4])"
   ]
  },
  {
   "cell_type": "code",
   "execution_count": 166,
   "id": "1cdf1cfb",
   "metadata": {},
   "outputs": [
    {
     "data": {
      "text/plain": [
       "<tf.Tensor: shape=(2, 2), dtype=int32, numpy=\n",
       "array([[1, 2],\n",
       "       [3, 4]], dtype=int32)>"
      ]
     },
     "execution_count": 166,
     "metadata": {},
     "output_type": "execute_result"
    }
   ],
   "source": [
    "tf.reshape(tf.convert_to_tensor([1,2,3,4]), [2,2])"
   ]
  },
  {
   "cell_type": "code",
   "execution_count": null,
   "id": "95ac42fa",
   "metadata": {},
   "outputs": [],
   "source": [
    "        # Explicitly for bin. class - dims are given by (batch_size, d0)\n",
    "        \n",
    "        if not y_true.shape[0] == y_pred.shape[0]:\n",
    "            raise Exception(\"Check dims y-values.\")\n",
    "        \n",
    "        if not self.phi_x.shape[1] == self.tau.shape[0]:\n",
    "            raise Exception(\"Check dims tau and phi_x\")\n",
    "        \n",
    "        if not self.phi_x.shape[0] == y_pred.shape[0]:\n",
    "            raise Exception(\"Check dims y and phi_x\")\n",
    "        \n",
    "        y_dim = y_true.shape[0]\n",
    "\n",
    "        # for each y_true, calc vector [tau_1(y_true), ..., tau_d(y_true)], same for y_pred\n",
    "        y_tau = [self.tau[i](y_true[j]) for j in range(y_true.shape[0])  for i in range(self.tau.shape[0])]        \n",
    "        y_true = tf.convert_to_tensor(y_tau, dtype=tf.float64)\n",
    "        y_true = tf.reshape(y_true, [y_dim, self.tau.shape[0]])\n",
    "\n",
    "        y_pred_tau = [self.tau[i](y_pred[j]) for j in range(y_pred.shape[0])  for i in range(self.tau.shape[0])]\n",
    "        y_pred = tf.convert_to_tensor(y_pred_tau, dtype=tf.float64)\n",
    "        y_pred = tf.reshape(y_pred,[y_dim, self.tau.shape[0]])\n",
    "        \n",
    "\n",
    "        \n",
    "        no_weight_loss = tf.reduce_mean(self.phi_x * (y_true - y_pred), axis=0)\n",
    "        # no_weight_loss should be tensor of dims (1, no_of_predicates)\n",
    "        no_weight_loss = tf.reshape(no_weight_loss, [self.tau.shape[0],1])\n",
    "\n",
    "        return dot(tf.transpose(no_weight_loss), no_weight_loss, self.W)"
   ]
  },
  {
   "cell_type": "code",
   "execution_count": 275,
   "id": "e16b5c79",
   "metadata": {},
   "outputs": [
    {
     "data": {
      "text/plain": [
       "<tf.Tensor: shape=(3, 3), dtype=int32, numpy=\n",
       "array([[1, 0, 0],\n",
       "       [0, 3, 0],\n",
       "       [0, 0, 2]], dtype=int32)>"
      ]
     },
     "execution_count": 275,
     "metadata": {},
     "output_type": "execute_result"
    }
   ],
   "source": [
    "tf.linalg.diag([1,3,2])"
   ]
  },
  {
   "cell_type": "code",
   "execution_count": 289,
   "id": "94d061d2",
   "metadata": {},
   "outputs": [
    {
     "data": {
      "text/plain": [
       "<tf.Tensor: shape=(3, 3, 3), dtype=int64, numpy=\n",
       "array([[[ 1,  0,  0],\n",
       "        [ 0,  2,  0],\n",
       "        [ 0,  0,  3]],\n",
       "\n",
       "       [[ 8,  0,  0],\n",
       "        [ 0, 10,  0],\n",
       "        [ 0,  0, 12]],\n",
       "\n",
       "       [[21,  0,  0],\n",
       "        [ 0, 24,  0],\n",
       "        [ 0,  0, 27]]])>"
      ]
     },
     "execution_count": 289,
     "metadata": {},
     "output_type": "execute_result"
    }
   ],
   "source": [
    "diags = tf.linalg.diag(np.array([[1,2,3],[4,5,6],[7,8,9]]))\n",
    "vecs = tf.constant([[[1,1,1]],[[2,2,2]],[[3,3,3]]], dtype=tf.int64)\n",
    "diags * vecs"
   ]
  },
  {
   "cell_type": "code",
   "execution_count": 290,
   "id": "5db8db9d",
   "metadata": {},
   "outputs": [
    {
     "data": {
      "text/plain": [
       "<tf.Tensor: shape=(3, 1, 3), dtype=int64, numpy=\n",
       "array([[[1, 1, 1]],\n",
       "\n",
       "       [[2, 2, 2]],\n",
       "\n",
       "       [[3, 3, 3]]])>"
      ]
     },
     "execution_count": 290,
     "metadata": {},
     "output_type": "execute_result"
    }
   ],
   "source": [
    "vecs"
   ]
  },
  {
   "cell_type": "code",
   "execution_count": 294,
   "id": "930fc40c",
   "metadata": {},
   "outputs": [
    {
     "data": {
      "text/plain": [
       "<tf.Tensor: shape=(3, 3), dtype=float32, numpy=\n",
       "array([[0.0004962 , 0.        , 0.        ],\n",
       "       [0.        , 0.00503395, 0.        ],\n",
       "       [0.        , 0.        , 0.00153187]], dtype=float32)>"
      ]
     },
     "execution_count": 294,
     "metadata": {},
     "output_type": "execute_result"
    }
   ],
   "source": [
    "tf.linalg.diag(phi_eval)[0, :, :]\n"
   ]
  },
  {
   "cell_type": "code",
   "execution_count": null,
   "id": "a27ebc19",
   "metadata": {},
   "outputs": [],
   "source": [
    "def lusi_loss_batch(model, inputs, y_true, phi_x, tau, W):\n",
    "    \"\"\"Given batch, calculate loss and gradient of loss.\n",
    "    \n",
    "    Special gradient defined to get unbiased estimate of gradient.\n",
    "    \"\"\"\n",
    "    \n",
    "    \n",
    "    if not y_true.shape[0] == y_pred.shape[0]:\n",
    "        raise Exception(\"Check dims y-values.\")\n",
    "\n",
    "    if not self.phi_x.shape[1] == self.tau.shape[0]:\n",
    "        raise Exception(\"Check dims tau and phi_x\")\n",
    "\n",
    "    if not self.phi_x.shape[0] == y_pred.shape[0]:\n",
    "        raise Exception(\"Check dims y and phi_x\")\n",
    "    \n",
    "    y_dim = y_true.shape[0]\n",
    "\n",
    "    # for each y_true, calc vector [tau_1(y_true), ..., tau_d(y_true)], same for y_pred\n",
    "    y_tau = [self.tau[i](y_true[j]) for j in range(y_true.shape[0])  for i in range(self.tau.shape[0])]        \n",
    "    y_true = tf.convert_to_tensor(y_tau, dtype=tf.float64)\n",
    "    y_true = tf.reshape(y_true, [y_dim, self.tau.shape[0]])\n",
    "    \n",
    "    y_pred = model(inputs)\n",
    "    y_pred_tau = [self.tau[i](y_pred[j]) for j in range(y_pred.shape[0])  for i in range(self.tau.shape[0])]\n",
    "    y_pred = tf.convert_to_tensor(y_pred_tau, dtype=tf.float64)\n",
    "    y_pred = tf.reshape(y_pred,[y_dim, self.tau.shape[0]])\n",
    "\n",
    "    no_weight_loss = tf.reduce_mean(self.phi_x * (y_true - y_pred), axis=0)\n",
    "    # no_weight_loss should be tensor of dims (1, no_of_predicates)\n",
    "    no_weight_loss = tf.reshape(no_weight_loss, [self.tau.shape[0],1])\n",
    "    \n",
    "    def grad(upstream):\n",
    "        # unbiased estimate of gradient based on batches\n",
    "        B = y_dim // 2\n",
    "        B_prime = y_dim - B\n",
    "            \n",
    "        \n",
    "        first_sum = 1/B * tf.linalg.diag(phi_x[:B])\n",
    "        \n",
    "        return None\n",
    "\n",
    "    \n",
    "    return dot(tf.transpose(no_weight_loss), no_weight_loss, self.W)\n",
    "    "
   ]
  }
 ],
 "metadata": {
  "kernelspec": {
   "display_name": "lusi",
   "language": "python",
   "name": "lusi"
  },
  "language_info": {
   "codemirror_mode": {
    "name": "ipython",
    "version": 3
   },
   "file_extension": ".py",
   "mimetype": "text/x-python",
   "name": "python",
   "nbconvert_exporter": "python",
   "pygments_lexer": "ipython3",
   "version": "3.10.4"
  }
 },
 "nbformat": 4,
 "nbformat_minor": 5
}
