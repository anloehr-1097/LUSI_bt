{
 "cells": [
  {
   "cell_type": "markdown",
   "id": "c57b3633-9c84-4c48-a018-e7208ab06312",
   "metadata": {},
   "source": [
    "### Disclaimer\n",
    "\n",
    "Dieses Notebook ist im Rahmen  meiner Bachelorarbeit mit dem Titel **\"Learning Using Statistical Invariants\"** entstanden.\n",
    "\n",
    "Zugehörig sind zwei .py Datei, in denen der Haupteil der Implemetierung zu finden ist. Das Notebook dient hauptsächlich der Visualisierung.\n",
    "Kommentare im Code sind auf Englisch.\n",
    "\n",
    "In der Datei lusi_AndreasLoehr.py finden sich 2 Klassen, in denen das Training im LUSI bzw. ERM-LUSI Framework realisiert ist.\n",
    "Die Problemstellung, die bearbeitet wurde, ist ein binäres Klassifikationsproblem für zwei Ziffern aus dem MNIST Datensatz. Konkret handelt es sich um die binäre Klassifikation der Ziffern 7 und 8.\n",
    "\n",
    "Weiter sind zahlreiche Hilfsfunktionen bereitgestellt. Es ist nicht auszuschließen, dass an der ein oder anderen Stelle kleine Änderungen gemacht werden müssen, sollte man ein Problem von anderer Natur behandeln wollen. Insbesondere die bereitgestellten Prädikate sind nur für das MNIST Problem geeignet.\n",
    "\n"
   ]
  },
  {
   "cell_type": "code",
   "execution_count": 1,
   "id": "083a1a55-ca27-4dcf-856b-2517288f9408",
   "metadata": {},
   "outputs": [],
   "source": [
    "%load_ext autoreload\n",
    "%autoreload 2"
   ]
  },
  {
   "cell_type": "markdown",
   "id": "a899ecbc-71d6-4cd3-b568-45f66f717a83",
   "metadata": {},
   "source": [
    "# Imports"
   ]
  },
  {
   "cell_type": "code",
   "execution_count": 2,
   "id": "8ab9c5b5-f9c2-41ef-99c8-499a2f22f379",
   "metadata": {},
   "outputs": [
    {
     "name": "stderr",
     "output_type": "stream",
     "text": [
      "2022-05-25 05:50:11.929447: I tensorflow/core/platform/cpu_feature_guard.cc:151] This TensorFlow binary is optimized with oneAPI Deep Neural Network Library (oneDNN) to use the following CPU instructions in performance-critical operations:  SSE4.1 SSE4.2 AVX AVX2 FMA\n",
      "To enable them in other operations, rebuild TensorFlow with the appropriate compiler flags.\n"
     ]
    }
   ],
   "source": [
    "import os\n",
    "import tensorflow as tf\n",
    "from tensorflow.keras.datasets import mnist\n",
    "from tensorflow import keras\n",
    "from tensorflow.keras import layers\n",
    "import matplotlib.pyplot as plt\n",
    "import numpy as np\n",
    "import lusi_periphery\n",
    "import lusi_Andreas_Loehr as lal\n",
    "import pandas as pd\n",
    "from pprint import pprint"
   ]
  },
  {
   "cell_type": "code",
   "execution_count": 3,
   "id": "bbc3269a-fbc5-4838-b91b-dfd35c4d9f5d",
   "metadata": {},
   "outputs": [],
   "source": [
    "# setting plotting params\n",
    "plt.rcParams['font.family'] = 'serif'"
   ]
  },
  {
   "cell_type": "markdown",
   "id": "04acbda2-d9c2-4fe9-922d-b8f0b7da2e09",
   "metadata": {},
   "source": [
    "# Loading/ Importing Data"
   ]
  },
  {
   "cell_type": "code",
   "execution_count": 4,
   "id": "598df433-88ed-45ca-a6ee-583b409a0150",
   "metadata": {},
   "outputs": [],
   "source": [
    "# load MNIST here\n",
    "(x_train, y_train), (x_test, y_test) = keras.datasets.mnist.load_data()"
   ]
  },
  {
   "cell_type": "code",
   "execution_count": 5,
   "id": "0221eb6b-c55a-407e-bdb2-46e15bdd8e6d",
   "metadata": {},
   "outputs": [],
   "source": [
    "# extract 7 and 8 for binary classification problem\n",
    "# scale pixel values to take values in [0,1] interval\n",
    "eights = x_train[y_train == 8]/255\n",
    "sevens = x_train[y_train == 7]/255\n",
    "y_eights = np.ones(eights.shape[0])\n",
    "y_sevens = np.zeros(sevens.shape[0])\n",
    "x_train = np.concatenate([eights, sevens])\n",
    "y_train = np.concatenate([y_eights, y_sevens])\n",
    "\n",
    "# same for test data\n",
    "eights_test = x_test[y_test == 8]/255\n",
    "sevens_test = x_test[y_test == 7]/255\n",
    "y_eights_test = np.ones(eights_test.shape[0])\n",
    "y_sevens_test = np.zeros(sevens_test.shape[0])\n",
    "x_test = np.concatenate([eights_test, sevens_test])\n",
    "y_test = np.concatenate([y_eights_test, y_sevens_test])"
   ]
  },
  {
   "cell_type": "code",
   "execution_count": 6,
   "id": "6aba93b1-e53a-42f1-89fd-136caecdb39b",
   "metadata": {},
   "outputs": [],
   "source": [
    "# wrapping data in custom class Periphery\n",
    "full_data = lusi_periphery.Periphery((x_train, y_train), (x_test, y_test), lal.phi_11)"
   ]
  },
  {
   "cell_type": "markdown",
   "id": "c60f9729-30d6-4285-90ee-640d7ff00cdb",
   "metadata": {},
   "source": [
    "# Visualizing Data"
   ]
  },
  {
   "cell_type": "code",
   "execution_count": 8,
   "id": "95f2f1b8-0a3e-4734-b693-d4e3c52eeb04",
   "metadata": {},
   "outputs": [
    {
     "data": {
      "image/png": "[encoded data removed]",
      "text/plain": [
       "<Figure size 1080x1080 with 15 Axes>"
      ]
     },
     "metadata": {
      "needs_background": "light"
     },
     "output_type": "display_data"
    }
   ],
   "source": [
    "lusi_periphery.visual_validation(15,\n",
    "    (full_data.train_data_x, full_data.train_data_y))\n"
   ]
  },
  {
   "cell_type": "markdown",
   "id": "60dd4f64-2c85-4757-b49e-9588f050d860",
   "metadata": {},
   "source": [
    "# Predicates' empirical distribution on train data"
   ]
  },
  {
   "cell_type": "markdown",
   "id": "34d3bcab-dbff-4da2-a3c7-d8300b0c9238",
   "metadata": {},
   "source": [
    "In diesem Abschnitt soll untersucht werden, wie dien bedingte empirische Verteilung der Prädikate basierend auf den Traininsdaten bedingt auf eine der Klassen (7 oder 8) aussieht. Zur Illustration betrachten wir ein Histogramm."
   ]
  },
  {
   "cell_type": "code",
   "execution_count": 9,
   "id": "f2603e0a-ec82-483b-a476-d39ee49127b5",
   "metadata": {},
   "outputs": [],
   "source": [
    "preds_visualize_names = [\"Average Pixel Intensity\",\n",
    "                         \"Vertical Symmetry\",\n",
    "                         \"Horizontal Symmetry\",\n",
    "                         \"Diagonal Symmetry\", \n",
    "                         \"Holes\",\n",
    "                         \"Weighted Pixel Intesity\",\n",
    "                         \"Center Pixel Intensity\",\n",
    "                         \"Lower Left Pixel Intensity\",\n",
    "                         \"Upper Right Pixel Intensity\",\n",
    "                         \"Upper Left Pixel =Intensity\",\n",
    "                         \"Lower Left Pixel Intensity\"]\n",
    "\n",
    "subplot_labels = [(\"Intensity\", \"# of Samples\"),\n",
    "                  (\"Symmetrie Score\", \"# of Samples\"),\n",
    "                  (\"Symmetrie Score\", \"# of Samples\"),\n",
    "                  (\"Symmetrie Score\", \"# of Samples\"),\n",
    "                  (\"# of Holes\", \"# of Samples\"),\n",
    "                  (\"Intensity\", \"# of Samples\"),\n",
    "                  (\"Intensity\", \"# of Samples\"),\n",
    "                  (\"Intensity\", \"# of Samples\"),\n",
    "                  (\"Intensity\", \"# of Samples\"),\n",
    "                  (\"Intensity\", \"# of Samples\"),\n",
    "                  (\"Intensity\", \"# of Samples\")]\n"
   ]
  },
  {
   "cell_type": "code",
   "execution_count": 10,
   "id": "e4a10ffe-c5cd-4757-89b2-965057b8efe3",
   "metadata": {},
   "outputs": [],
   "source": [
    "# obtain evaluations on data for these functions\n",
    "preds_visualize = full_data.phi_eval_train[:, :]"
   ]
  },
  {
   "cell_type": "code",
   "execution_count": 11,
   "id": "674ac2f3-a86e-4d5c-ad45-49e57d9dae2f",
   "metadata": {},
   "outputs": [],
   "source": [
    "preds_on_8 = preds_visualize[full_data.train_data_y==1]\n",
    "preds_on_7 = preds_visualize[full_data.train_data_y==0]"
   ]
  },
  {
   "cell_type": "code",
   "execution_count": 12,
   "id": "d95e331c-6849-4909-8ede-e695af1ab81f",
   "metadata": {},
   "outputs": [
    {
     "name": "stdout",
     "output_type": "stream",
     "text": [
      "Number of samples for digit 7 6265\n",
      "Number of samples for digit 8 5851\n"
     ]
    }
   ],
   "source": [
    "print(f\"Number of samples for digit 7 {preds_on_7.shape[0]}\")\n",
    "print(f\"Number of samples for digit 8 {preds_on_8.shape[0]}\")"
   ]
  },
  {
   "cell_type": "code",
   "execution_count": 13,
   "id": "98c32e98-a9f8-4b84-b890-032458312173",
   "metadata": {},
   "outputs": [
    {
     "data": {
      "image/png": "[encoded data removed]",
      "text/plain": [
       "<Figure size 1080x1080 with 5 Axes>"
      ]
     },
     "metadata": {
      "needs_background": "light"
     },
     "output_type": "display_data"
    }
   ],
   "source": [
    "# randomly select 10 predicates and display\n",
    "fig, ax = plt.subplots(nrows=5, ncols=1,\n",
    "                       figsize=(15,15),\n",
    "                       constrained_layout=True)\n",
    "\n",
    "for i in range(5):\n",
    "    j = np.random.randint(0, 11 ,1)[0]\n",
    "    ax[i].hist(preds_on_8[:, j].numpy(), bins=75, label=\"Digit 8\", alpha=0.5)\n",
    "    ax[i].set_xlabel(f\"{subplot_labels[j][0]}\")\n",
    "    ax[i].set_ylabel(f\"{subplot_labels[j][1]}\")\n",
    "    ax[i].set_title(f\"{preds_visualize_names[j]}\")\n",
    "    ax[i].hist(preds_on_7[:, j].numpy(), bins=75, label=\"Digit 7\", alpha=0.5)\n",
    "    \n",
    "    ax[i].legend()"
   ]
  },
  {
   "cell_type": "code",
   "execution_count": 14,
   "id": "b880d1b1-2ef4-454f-be5e-cb24b1867a93",
   "metadata": {},
   "outputs": [
    {
     "data": {
      "image/png": "[encoded data removed]",
      "text/plain": [
       "<Figure size 1080x1080 with 4 Axes>"
      ]
     },
     "metadata": {
      "needs_background": "light"
     },
     "output_type": "display_data"
    }
   ],
   "source": [
    "# visualizations for export\n",
    "ilus_pred = [0, 1, 4, 6]\n",
    "fig, ax = plt.subplots(nrows=4, ncols=1,\n",
    "                       figsize=(15,15), constrained_layout=True)\n",
    "# fig.tight_layout()\n",
    "# populate grid with images + labels\n",
    "for i in range(4):\n",
    "    j = ilus_pred[i]\n",
    "    ax[i].hist(preds_on_8[:, j].numpy(), bins=75, label=\"Digit 8\", alpha=0.5)\n",
    "    ax[i].set_xlabel(f\"{subplot_labels[j][0]}\")\n",
    "    ax[i].set_ylabel(f\"{subplot_labels[j][1]}\")\n",
    "    ax[i].set_title(f\"{preds_visualize_names[j]}\")\n",
    "    ax[i].hist(preds_on_7[:, j].numpy(), bins=75, label=\"Digit 7\", alpha=0.5)\n",
    "    ax[i].legend()\n",
    "    # ax[i, 1].set_title(f\"{preds_visualize_names[j]} on 7\")\n",
    "    # ax[i, 1].set_xlabel(f\"{subplot_labels[j][0]}\")\n",
    "    # ax[i, 1].set_ylabel(f\"{subplot_labels[j][1]}\")\n",
    "\n",
    "plt.savefig(\"./predicates.pdf\")"
   ]
  },
  {
   "cell_type": "markdown",
   "id": "aeb6502a-87f1-4ee4-9f9f-305492d88ef9",
   "metadata": {},
   "source": [
    "# Training a LUSI Model"
   ]
  },
  {
   "cell_type": "markdown",
   "id": "ed7af894-a491-4f75-9c74-6cd14c0eaceb",
   "metadata": {},
   "source": [
    "The following cells contain a demonstration of the usage of the _LusiModel_ class.\n",
    "\n",
    "The complete dataset is used for the purpose of this demonstration"
   ]
  },
  {
   "cell_type": "code",
   "execution_count": 15,
   "id": "248c9dc4-5e3e-4ee8-8790-6367b5a0f23e",
   "metadata": {},
   "outputs": [
    {
     "name": "stdout",
     "output_type": "stream",
     "text": [
      "Training data shape: ((12116, 28, 28), (12116,))\n",
      "Training data predicate evaluations shape: (12116, 11)\n",
      "Model: \"sequential\"\n",
      "_________________________________________________________________\n",
      " Layer (type)                Output Shape              Param #   \n",
      "=================================================================\n",
      " flatten (Flatten)           (None, 784)               0         \n",
      "                                                                 \n",
      " hidden_layer_1 (Dense)      (None, 500)               392500    \n",
      "                                                                 \n",
      " hidden_layer_2 (Dense)      (None, 200)               100200    \n",
      "                                                                 \n",
      " hidden_layer_3 (Dense)      (None, 50)                10050     \n",
      "                                                                 \n",
      " output_layer (Dense)        (None, 1)                 51        \n",
      "                                                                 \n",
      "=================================================================\n",
      "Total params: 502,801\n",
      "Trainable params: 502,801\n",
      "Non-trainable params: 0\n",
      "_________________________________________________________________\n"
     ]
    }
   ],
   "source": [
    "print(f\"Training data shape: {(full_data.train_data_x.shape, full_data.train_data_y.shape)}\")\n",
    "print(f\"Training data predicate evaluations shape: {full_data.phi_eval_train.shape}\")\n",
    "\n",
    "# Generating batch datasets for training (and testing which won't be used in this implementation)\n",
    "train_batch, test_batch = full_data.generate_batch_data(64,64)\n",
    "\n",
    "# defining the weight matrix 'W' from paper. We need to know # of predicates for this step\n",
    "# for now, use identity matrix\n",
    "w_matrix = tf.Variable(np.diag(np.ones(full_data.phi_eval_train.shape[1])), dtype=tf.float32)\n",
    "\n",
    "\n",
    "underlying_model = keras.Sequential(\n",
    "    [\n",
    "     layers.Flatten(input_shape=(28,28)),\n",
    "     layers.Dense(500, activation=\"relu\", name=\"hidden_layer_1\"),\n",
    "     layers.Dense(200, activation=\"relu\", name=\"hidden_layer_2\"),\n",
    "     layers.Dense(50, activation=\"relu\", name=\"hidden_layer_3\"), \n",
    "     # interpret output as prob. for class 1\n",
    "     layers.Dense(1, activation=\"sigmoid\", name=\"output_layer\")\n",
    "    ])\n",
    "underlying_model.summary()"
   ]
  },
  {
   "cell_type": "code",
   "execution_count": 16,
   "id": "b9501382-6f8f-409b-abe1-ecf88e04e7d4",
   "metadata": {},
   "outputs": [],
   "source": [
    "# Define eval metrics\n",
    "eval_metrics = [\n",
    "    keras.metrics.BinaryAccuracy(),\n",
    "    keras.metrics.Precision(),\n",
    "    keras.metrics.Recall(),\n",
    "    keras.metrics.FalsePositives(),\n",
    "    keras.metrics.FalseNegatives()]"
   ]
  },
  {
   "cell_type": "code",
   "execution_count": 17,
   "id": "31bcab8f-0518-49e8-88f8-f2e6caca0bec",
   "metadata": {},
   "outputs": [
    {
     "data": {
      "text/plain": [
       "[('binary_accuracy', <tf.Tensor: shape=(), dtype=float32, numpy=0.46903098>),\n",
       " ('precision', <tf.Tensor: shape=(), dtype=float32, numpy=0.47697878>),\n",
       " ('recall', <tf.Tensor: shape=(), dtype=float32, numpy=0.9466119>),\n",
       " ('false_positives', <tf.Tensor: shape=(), dtype=float32, numpy=1011.0>),\n",
       " ('false_negatives', <tf.Tensor: shape=(), dtype=float32, numpy=52.0>)]"
      ]
     },
     "execution_count": 17,
     "metadata": {},
     "output_type": "execute_result"
    }
   ],
   "source": [
    "# Instantiation of model\n",
    "lusi_model = lal.LusiModel(w_matrix, model=underlying_model)\n",
    "\n",
    "# Add optimizer\n",
    "lusi_model.add_optimizer(tf.keras.optimizers.SGD())\n",
    "\n",
    "# Evaluate model on test data before training to see untrained performance\n",
    "lusi_model.evaluate(full_data.test_data, eval_metrics)"
   ]
  },
  {
   "cell_type": "code",
   "execution_count": 18,
   "id": "8e4da8c4-1ab6-4b50-a479-daa329bdbd2b",
   "metadata": {},
   "outputs": [
    {
     "name": "stdout",
     "output_type": "stream",
     "text": [
      "\n",
      "Start of epoch 0\n",
      "\n",
      "Start of epoch 1\n",
      "\n",
      "Start of epoch 2\n",
      "\n",
      "Start of epoch 3\n",
      "\n",
      "Start of epoch 4\n"
     ]
    },
    {
     "data": {
      "text/plain": [
       "[('binary_accuracy', <tf.Tensor: shape=(), dtype=float32, numpy=0.93756247>),\n",
       " ('precision', <tf.Tensor: shape=(), dtype=float32, numpy=0.97643095>),\n",
       " ('recall', <tf.Tensor: shape=(), dtype=float32, numpy=0.8932238>),\n",
       " ('false_positives', <tf.Tensor: shape=(), dtype=float32, numpy=21.0>),\n",
       " ('false_negatives', <tf.Tensor: shape=(), dtype=float32, numpy=104.0>)]"
      ]
     },
     "execution_count": 18,
     "metadata": {},
     "output_type": "execute_result"
    }
   ],
   "source": [
    "# Train model on training data and evaluate afterwards on test data\n",
    "lusi_model.train(train_batch, epochs=5)\n",
    "lusi_model.evaluate(full_data.test_data, eval_metrics)"
   ]
  },
  {
   "cell_type": "markdown",
   "id": "cf95d82f-588a-4906-a2c9-4090cd17c2df",
   "metadata": {},
   "source": [
    "### Short Summary:\n",
    "Training a model in the LUSI framework is easy. The demonstration above consists of the following steps:\n",
    "1. Preparing the data with the Periphery class and generating batched data.\n",
    "2. Depending on the number of predicates, create a matrix of the appropriate dimensions.\n",
    "3. Specify a model architecture in with the keras.Sequential API.\n",
    "4. Define some evaluation metrics.\n",
    "5. Instantiate LusiModel object with model architecture and matrix.\n",
    "6. Call the train method on the batched data, specifying the number of epochs to train.\n"
   ]
  },
  {
   "cell_type": "markdown",
   "id": "8c772b34-05f8-448a-8f8a-9e7168aa97db",
   "metadata": {},
   "source": [
    "# Training an ERM-LUSI Model"
   ]
  },
  {
   "cell_type": "markdown",
   "id": "49d9c4ba-ac2d-49ee-ae37-1271ccdc58d5",
   "metadata": {},
   "source": [
    "The following cells contain a demonstration of the usage of the _LusiErm_ class.\n",
    "\n",
    "The complete dataset is used for the purpose of this demonstration. Essentially, we are following the steps of the demonstration for the _LusiModel_ class"
   ]
  },
  {
   "cell_type": "code",
   "execution_count": 19,
   "id": "56e43ae2-9cac-4159-8ad7-b4189d312c14",
   "metadata": {},
   "outputs": [
    {
     "name": "stdout",
     "output_type": "stream",
     "text": [
      "Training data shape: ((12116, 28, 28), (12116,))\n",
      "Training data predicate evaluations shape: (12116, 11)\n",
      "Model: \"sequential_1\"\n",
      "_________________________________________________________________\n",
      " Layer (type)                Output Shape              Param #   \n",
      "=================================================================\n",
      " flatten_1 (Flatten)         (None, 784)               0         \n",
      "                                                                 \n",
      " hidden_layer_1 (Dense)      (None, 500)               392500    \n",
      "                                                                 \n",
      " hidden_layer_2 (Dense)      (None, 200)               100200    \n",
      "                                                                 \n",
      " hidden_layer_3 (Dense)      (None, 50)                10050     \n",
      "                                                                 \n",
      " output_layer (Dense)        (None, 1)                 51        \n",
      "                                                                 \n",
      "=================================================================\n",
      "Total params: 502,801\n",
      "Trainable params: 502,801\n",
      "Non-trainable params: 0\n",
      "_________________________________________________________________\n"
     ]
    }
   ],
   "source": [
    "# These steps remain unchanged - same as with LusiModel class\n",
    "\n",
    "print(f\"Training data shape: {(full_data.train_data_x.shape, full_data.train_data_y.shape)}\")\n",
    "print(f\"Training data predicate evaluations shape: {full_data.phi_eval_train.shape}\")\n",
    "\n",
    "# Generating batch datasets for training (and testing which won't be used in this implementation)\n",
    "train_batch, test_batch = full_data.generate_batch_data(64,64)\n",
    "\n",
    "# defining the weight matrix 'W' from paper. We need to know # of predicates for this step\n",
    "# for now, use identity matrix\n",
    "w_matrix = tf.Variable(np.diag(np.ones(full_data.phi_eval_train.shape[1])), dtype=tf.float32)\n",
    "\n",
    "\n",
    "underlying_model = keras.Sequential(\n",
    "    [\n",
    "     layers.Flatten(input_shape=(28,28)),\n",
    "     layers.Dense(500, activation=\"relu\", name=\"hidden_layer_1\"),\n",
    "     layers.Dense(200, activation=\"relu\", name=\"hidden_layer_2\"),\n",
    "     layers.Dense(50, activation=\"relu\", name=\"hidden_layer_3\"), \n",
    "     # interpret output as prob. for class 1\n",
    "     layers.Dense(1, activation=\"sigmoid\", name=\"output_layer\")\n",
    "    ])\n",
    "underlying_model.summary()"
   ]
  },
  {
   "cell_type": "code",
   "execution_count": 20,
   "id": "8fa66e2a-9fbb-488a-b97b-65e483905fd7",
   "metadata": {},
   "outputs": [
    {
     "data": {
      "text/plain": [
       "[('binary_accuracy', <tf.Tensor: shape=(), dtype=float32, numpy=0.4110889>),\n",
       " ('precision', <tf.Tensor: shape=(), dtype=float32, numpy=0.40807176>),\n",
       " ('recall', <tf.Tensor: shape=(), dtype=float32, numpy=0.4671458>),\n",
       " ('false_positives', <tf.Tensor: shape=(), dtype=float32, numpy=660.0>),\n",
       " ('false_negatives', <tf.Tensor: shape=(), dtype=float32, numpy=519.0>)]"
      ]
     },
     "execution_count": 20,
     "metadata": {},
     "output_type": "execute_result"
    }
   ],
   "source": [
    "# Instatiating LusiErm object\n",
    "# alpha determines weight of 'Lusi loss' (and hence also weight of ERM loss)\n",
    "\n",
    "lusi_erm = lal.LusiErm(w_matrix, alpha=0.8)\n",
    "\n",
    "# Adding optimizer and loss\n",
    "lusi_erm.add_optimizer(tf.keras.optimizers.SGD())\n",
    "lusi_erm.add_loss(keras.losses.BinaryCrossentropy())    \n",
    "    \n",
    "# Evaluating model on test data pre training to see untrained performance\n",
    "lusi_erm.evaluate(full_data.test_data, eval_metrics)"
   ]
  },
  {
   "cell_type": "code",
   "execution_count": 21,
   "id": "5b22d180-be75-4d95-97bd-7a57b88db8cb",
   "metadata": {},
   "outputs": [
    {
     "name": "stdout",
     "output_type": "stream",
     "text": [
      "\n",
      "Start of epoch 0\n",
      "\n",
      "Start of epoch 1\n",
      "\n",
      "Start of epoch 2\n",
      "\n",
      "Start of epoch 3\n",
      "\n",
      "Start of epoch 4\n",
      "\n",
      "Start of epoch 5\n",
      "\n",
      "Start of epoch 6\n",
      "\n",
      "Start of epoch 7\n",
      "\n",
      "Start of epoch 8\n",
      "\n",
      "Start of epoch 9\n"
     ]
    },
    {
     "data": {
      "text/plain": [
       "[('binary_accuracy', <tf.Tensor: shape=(), dtype=float32, numpy=0.96753246>),\n",
       " ('precision', <tf.Tensor: shape=(), dtype=float32, numpy=0.9871383>),\n",
       " ('recall', <tf.Tensor: shape=(), dtype=float32, numpy=0.9455852>),\n",
       " ('false_positives', <tf.Tensor: shape=(), dtype=float32, numpy=12.0>),\n",
       " ('false_negatives', <tf.Tensor: shape=(), dtype=float32, numpy=53.0>)]"
      ]
     },
     "execution_count": 21,
     "metadata": {},
     "output_type": "execute_result"
    }
   ],
   "source": [
    "# Train model using Lusi-erm training procedure and evaluate on test data\n",
    "lusi_erm.train(train_batch, epochs=10)\n",
    "lusi_erm.evaluate(full_data.test_data, eval_metrics)"
   ]
  },
  {
   "cell_type": "markdown",
   "id": "846ba223-850f-4e41-b369-f14900eb6ea8",
   "metadata": {},
   "source": [
    "## Short Summary\n",
    "Training the model in the LUSI-ERM framework is as easy as training it in LUSI framework. The same steps apply.\n",
    "The only differences lie in the provision of the parameter _alpha_ and the setting of the ERM-loss-function (here: binary cross entropy)."
   ]
  },
  {
   "cell_type": "markdown",
   "id": "2e29ee68-ff67-4471-b461-5eedcf4bc71e",
   "metadata": {},
   "source": [
    "# Performance Tests"
   ]
  },
  {
   "cell_type": "markdown",
   "id": "396c45d7-49b8-4997-b676-a1db421e256a",
   "metadata": {},
   "source": [
    "In what follows, we compare the performance of models trained in either of the 3 frameworks: ERM, LUSI, ERM-LUSI.\n",
    "\n",
    "For each of the following test cases, we will repetitively complete __10__ runs."
   ]
  },
  {
   "cell_type": "markdown",
   "id": "93d635ba-3b82-4a79-849d-103efbaddd64",
   "metadata": {},
   "source": [
    "**Test Cases:**\n",
    "- 3 models: Lusi, ERM, ERM-Lusi\n",
    "\n",
    "- 3 architectures: hidden layer sizes 20, 100, 500 for neural nets\n",
    "\n",
    "- variation in total amount of data: large (half dataset ˜ ca. 6000 samples), medium (ca. 1000 training data), small (ca. 100 samples), extra small (ca. 50 samples)\n",
    "\n",
    "- variation in batch sizes: (64, 64), (64, 32), (32, 64), (8, 8)\n",
    "\n",
    "- variation in number of predicates: 3, 8, 11\n",
    "\n",
    "$\\sum $ test cases = 3 * 3 * 4 * 4 * 3 = 27 * 16 = 144 cases\n",
    "\n",
    "\n",
    "\n",
    "\n",
    "**Naming Of Variables:**\n",
    "\n",
    "- for models: lusi_ | erm_ | erm_lusi_ + 20|100|500 + 3 | 8 | 11\n",
    "    \n",
    "    e.g. lusi_20_3 for lusi model with hidden layer of size 20 and weight matrix for 3 predicates\n",
    "    \n",
    "- for data: l_ | m_ | s_ | xs_ (large, medium, small, extra small) + 64_64_ | 64_32_ | 32_64_ | 8_8_ (batch sizes) + 3 | 8 | 11 (# predicates)\n",
    "    \n",
    "\n",
    "    e.g. m_64_32_8 for medium dataset with batch sizes (64,32) and 8 predicates\n",
    "    \n",
    "\n"
   ]
  },
  {
   "cell_type": "code",
   "execution_count": 13,
   "id": "bd403983-5282-486a-9071-ff7b6520409f",
   "metadata": {},
   "outputs": [],
   "source": [
    "# TODO: define phi_3, phi_8, phi_11 in lusi_Andreas_Loehr.py\n",
    "# defining list of phis (predicates on X space)\n",
    "phi = lusi.phi\n"
   ]
  },
  {
   "cell_type": "code",
   "execution_count": 42,
   "id": "381e736e-2a3c-44f0-b10a-78485cea2696",
   "metadata": {},
   "outputs": [],
   "source": [
    "eval_metrics = lal.eval_metrics"
   ]
  },
  {
   "cell_type": "code",
   "execution_count": 40,
   "id": "251f7e2d-ec96-4ac0-a1e8-11f00bec59b5",
   "metadata": {},
   "outputs": [
    {
     "name": "stderr",
     "output_type": "stream",
     "text": [
      "/Users/Andy/Code/LUSI_bt/lusi_periphery.py:137: VisibleDeprecationWarning: Creating an ndarray from ragged nested sequences (which is a list-or-tuple of lists-or-tuples-or ndarrays with different lengths or shapes) is deprecated. If you meant to do this, you must specify 'dtype=object' when creating the ndarray.\n",
      "  \n",
      "/Users/Andy/Code/LUSI_bt/lusi_periphery.py:144: VisibleDeprecationWarning: Creating an ndarray from ragged nested sequences (which is a list-or-tuple of lists-or-tuples-or ndarrays with different lengths or shapes) is deprecated. If you meant to do this, you must specify 'dtype=object' when creating the ndarray.\n",
      "  else:\n"
     ]
    }
   ],
   "source": [
    "# TODO: define l, m, s, x_s datasets\n",
    "data_complete = lusi_periphery.Periphery((x_train, y_train), (x_test, y_test), phi)\n",
    "train_batch_complete_64_32, test_batch_complete_64_32 = data_complete.generate_batch_data(64,32)\n",
    "train_batch_complete_64_64, test_batch_complete_64_64 = data_complete.generate_batch_data(64,64)\n",
    "train_batch_complete_8_8, test_batch_complete_8_8 = data_complete.generate_batch_data(8,8)"
   ]
  },
  {
   "cell_type": "code",
   "execution_count": 23,
   "id": "0aa7d576-0c27-4388-9089-8606113937a4",
   "metadata": {},
   "outputs": [
    {
     "name": "stdout",
     "output_type": "stream",
     "text": [
      "Train data shape: ((12116, 28, 28), (12116,))\n",
      "Test data shape: ((2002, 28, 28), (2002,))\n"
     ]
    }
   ],
   "source": [
    "# Shape validation of complete data\n",
    "print(f\"Train data shape: {data_complete.train_data[0].shape, data_complete.train_data[1].shape}\")\n",
    "print(f\"Test data shape: {data_complete.test_data[0].shape, data_complete.test_data[1].shape}\")"
   ]
  },
  {
   "cell_type": "code",
   "execution_count": 22,
   "id": "a58eacb2-98fb-469a-8068-25ec7735ada6",
   "metadata": {},
   "outputs": [
    {
     "name": "stdout",
     "output_type": "stream",
     "text": [
      "Iteration 0 - 1st batch shape: (TensorShape([54, 11]), TensorShape([54, 28, 28]), TensorShape([54]))\n",
      "Iteration 0 - 2nd batch shape: (TensorShape([32, 11]), TensorShape([32, 28, 28]), TensorShape([32]))\n",
      "Iteration 1 - 1st batch shape: (TensorShape([54, 11]), TensorShape([54, 28, 28]), TensorShape([54]))\n",
      "Iteration 1 - 2nd batch shape: (TensorShape([32, 11]), TensorShape([32, 28, 28]), TensorShape([32]))\n"
     ]
    }
   ],
   "source": [
    "# Shape of batches\n",
    "for i, bs in enumerate(train_batch_complete_54_32):\n",
    "    if i < 2:\n",
    "        print(f\"Iteration {i} - 1st batch shape: {bs[0][0].shape, bs[0][1].shape, bs[0][2].shape}\")\n",
    "        print(f\"Iteration {i} - 2nd batch shape: {bs[1][0].shape, bs[1][1].shape, bs[1][2].shape}\")\n",
    "    "
   ]
  },
  {
   "cell_type": "code",
   "execution_count": null,
   "id": "fc7304b2-284f-42de-8596-caf2cde1cc20",
   "metadata": {},
   "outputs": [],
   "source": []
  },
  {
   "cell_type": "code",
   "execution_count": null,
   "id": "2bac01a8-1ad7-44d7-824e-57b5c63f9ef1",
   "metadata": {},
   "outputs": [],
   "source": []
  },
  {
   "cell_type": "code",
   "execution_count": null,
   "id": "ba52456e-f0ff-46c3-b4b5-9a32650b13ec",
   "metadata": {},
   "outputs": [],
   "source": []
  },
  {
   "cell_type": "code",
   "execution_count": 29,
   "id": "4cd43696-7a41-4749-b987-c0ec47abf2a3",
   "metadata": {},
   "outputs": [],
   "source": [
    "# as matrix W, use identity matrix of appropriate size - Here, try LUSI with 3, 8, 11 predicates\n",
    "w_matrix_3 = tf.Variable(np.diag(np.ones(3)), dtype=tf.float32)\n",
    "w_matrix_8 = tf.Variable(np.diag(np.ones(8)), dtype=tf.float32)\n",
    "w_matrix_11 = tf.Variable(np.diag(np.ones(11)), dtype=tf.float32)"
   ]
  },
  {
   "cell_type": "code",
   "execution_count": 32,
   "id": "98c42ff1-a362-4f92-a518-2cb3fe94edb9",
   "metadata": {},
   "outputs": [],
   "source": [
    "# create model\n",
    "lusi_100_3 = lal.LusiModel(w_matrix_3)\n",
    "lusi_100_3.add_optimizer(tf.keras.optimizers.SGD())\n",
    "\n",
    "lusi_100_8 = lal.LusiModel(w_matrix_8)\n",
    "lusi_100_8.add_optimizer(tf.keras.optimizers.SGD())\n",
    "\n",
    "lusi_100_11 = lal.LusiModel(w_matrix_11)\n",
    "lusi_100_11.add_optimizer(tf.keras.optimizers.SGD())"
   ]
  },
  {
   "cell_type": "code",
   "execution_count": 36,
   "id": "d748a44a-135b-4cac-afb0-786539fdfbc0",
   "metadata": {},
   "outputs": [],
   "source": [
    "weights_100 = lusi_100_11.model.get_weights()"
   ]
  },
  {
   "cell_type": "code",
   "execution_count": 37,
   "id": "afed3f61-66db-424c-adac-1236b78a9f97",
   "metadata": {},
   "outputs": [],
   "source": [
    "lusi_100_8.model.set_weights(weights_100)"
   ]
  },
  {
   "cell_type": "code",
   "execution_count": 39,
   "id": "3b81e416-5b79-410f-8094-6563475176d0",
   "metadata": {},
   "outputs": [
    {
     "name": "stdout",
     "output_type": "stream",
     "text": [
      "True\n",
      "True\n",
      "True\n",
      "True\n"
     ]
    }
   ],
   "source": [
    "for i in range(len(weights_100)):\n",
    "    print((weights_100[i] == lusi_100_8.get_weights()[i]).all())"
   ]
  },
  {
   "cell_type": "code",
   "execution_count": 45,
   "id": "9d8c00d2-f97a-4871-943a-fd77b8f49f04",
   "metadata": {},
   "outputs": [
    {
     "data": {
      "text/plain": [
       "[('Binary Accuracy', <tf.Tensor: shape=(), dtype=float32, numpy=0.499001>),\n",
       " ('False Positives', <tf.Tensor: shape=(), dtype=float32, numpy=980.0>),\n",
       " ('False Negatives', <tf.Tensor: shape=(), dtype=float32, numpy=23.0>),\n",
       " ('Precision', <tf.Tensor: shape=(), dtype=float32, numpy=0.49249095>),\n",
       " ('Recall', <tf.Tensor: shape=(), dtype=float32, numpy=0.976386>)]"
      ]
     },
     "execution_count": 45,
     "metadata": {},
     "output_type": "execute_result"
    }
   ],
   "source": [
    "lusi_100_11.evaluate(data_complete.test_data, eval_metrics)"
   ]
  },
  {
   "cell_type": "code",
   "execution_count": 55,
   "id": "f359f77d-c61d-4ec6-ac81-eed011c387e5",
   "metadata": {},
   "outputs": [
    {
     "data": {
      "text/plain": [
       "[('Binary Accuracy', <tf.Tensor: shape=(), dtype=float32, numpy=0.6928072>),\n",
       " ('False Positives', <tf.Tensor: shape=(), dtype=float32, numpy=7.0>),\n",
       " ('False Negatives', <tf.Tensor: shape=(), dtype=float32, numpy=608.0>),\n",
       " ('Precision', <tf.Tensor: shape=(), dtype=float32, numpy=0.98123324>),\n",
       " ('Recall', <tf.Tensor: shape=(), dtype=float32, numpy=0.37577003>)]"
      ]
     },
     "execution_count": 55,
     "metadata": {},
     "output_type": "execute_result"
    }
   ],
   "source": [
    "lusi_100_11.evaluate(data_complete.test_data, eval_metrics)"
   ]
  },
  {
   "cell_type": "code",
   "execution_count": 152,
   "id": "5d3846b1-7651-4e75-bc5b-6ebf47a7bcfa",
   "metadata": {},
   "outputs": [
    {
     "data": {
      "text/plain": [
       "['res_df_new.csv',\n",
       " '.DS_Store',\n",
       " 'res_df_3.csv',\n",
       " 'res_df_2.csv',\n",
       " 'res_df_22052022.csv',\n",
       " 'lusi_Andreas_Loehr.py',\n",
       " 'res_df_1.csv',\n",
       " 'Untitled.ipynb',\n",
       " 'predicates.jpg',\n",
       " '__pycache__',\n",
       " 'Demo_06052022.ipynb',\n",
       " 'res_df_22052022.xlsx',\n",
       " 'minimal_example.ipynb',\n",
       " 'lusi_bt copy.ipynb',\n",
       " '.ipynb_checkpoints',\n",
       " 'res_df.csv',\n",
       " 'res_df_old.csv',\n",
       " '.git',\n",
       " 'code_archive.py',\n",
       " 'lusi_periphery.py',\n",
       " 'LearningUsingStatisticalInvariants_AL.ipynb']"
      ]
     },
     "execution_count": 152,
     "metadata": {},
     "output_type": "execute_result"
    }
   ],
   "source": [
    "\n",
    "os.listdir()"
   ]
  },
  {
   "cell_type": "code",
   "execution_count": 340,
   "id": "86ffcab6-7963-4062-8f14-1fd16e7779f0",
   "metadata": {},
   "outputs": [
    {
     "data": {
      "text/html": [
       "<div>\n",
       "<style scoped>\n",
       "    .dataframe tbody tr th:only-of-type {\n",
       "        vertical-align: middle;\n",
       "    }\n",
       "\n",
       "    .dataframe tbody tr th {\n",
       "        vertical-align: top;\n",
       "    }\n",
       "\n",
       "    .dataframe thead th {\n",
       "        text-align: right;\n",
       "    }\n",
       "</style>\n",
       "<table border=\"1\" class=\"dataframe\">\n",
       "  <thead>\n",
       "    <tr style=\"text-align: right;\">\n",
       "      <th></th>\n",
       "      <th>model_type</th>\n",
       "      <th>model_arch</th>\n",
       "      <th>total_data</th>\n",
       "      <th>batch_size</th>\n",
       "      <th>no_of_predicates</th>\n",
       "      <th>epochs</th>\n",
       "      <th>alpha</th>\n",
       "      <th>binary_accuracy_1</th>\n",
       "      <th>binary_accuracy_2</th>\n",
       "      <th>binary_accuracy_3</th>\n",
       "      <th>binary_accuracy_4</th>\n",
       "      <th>binary_accuracy_5</th>\n",
       "      <th>binary_accuracy_6</th>\n",
       "      <th>binary_accuracy_7</th>\n",
       "      <th>binary_accuracy_8</th>\n",
       "      <th>binary_accuracy_9</th>\n",
       "      <th>binary_accuracy_10</th>\n",
       "    </tr>\n",
       "  </thead>\n",
       "  <tbody>\n",
       "    <tr>\n",
       "      <th>0</th>\n",
       "      <td>erm-lusi</td>\n",
       "      <td>[3 list([100, 50, 20])]</td>\n",
       "      <td>1000</td>\n",
       "      <td>[32 16]</td>\n",
       "      <td>6</td>\n",
       "      <td>10</td>\n",
       "      <td>0.01</td>\n",
       "      <td>0.903097</td>\n",
       "      <td>0.816683</td>\n",
       "      <td>0.840659</td>\n",
       "      <td>0.899600</td>\n",
       "      <td>0.680320</td>\n",
       "      <td>0.934066</td>\n",
       "      <td>0.837662</td>\n",
       "      <td>0.942557</td>\n",
       "      <td>0.870629</td>\n",
       "      <td>0.862138</td>\n",
       "    </tr>\n",
       "    <tr>\n",
       "      <th>1</th>\n",
       "      <td>lusi</td>\n",
       "      <td>[1 list([50])]</td>\n",
       "      <td>200</td>\n",
       "      <td>[64 64]</td>\n",
       "      <td>6</td>\n",
       "      <td>15</td>\n",
       "      <td>0.80</td>\n",
       "      <td>0.648352</td>\n",
       "      <td>0.590909</td>\n",
       "      <td>0.487013</td>\n",
       "      <td>0.638362</td>\n",
       "      <td>0.508491</td>\n",
       "      <td>0.818681</td>\n",
       "      <td>0.516484</td>\n",
       "      <td>0.678322</td>\n",
       "      <td>0.763736</td>\n",
       "      <td>0.676823</td>\n",
       "    </tr>\n",
       "    <tr>\n",
       "      <th>2</th>\n",
       "      <td>erm-lusi</td>\n",
       "      <td>[3 list([500, 100, 20])]</td>\n",
       "      <td>200</td>\n",
       "      <td>[32 32]</td>\n",
       "      <td>11</td>\n",
       "      <td>10</td>\n",
       "      <td>0.60</td>\n",
       "      <td>0.911588</td>\n",
       "      <td>0.879121</td>\n",
       "      <td>0.896104</td>\n",
       "      <td>0.932068</td>\n",
       "      <td>0.928072</td>\n",
       "      <td>0.883616</td>\n",
       "      <td>0.924076</td>\n",
       "      <td>0.937063</td>\n",
       "      <td>0.911089</td>\n",
       "      <td>0.898102</td>\n",
       "    </tr>\n",
       "    <tr>\n",
       "      <th>3</th>\n",
       "      <td>lusi</td>\n",
       "      <td>[3 list([500, 200, 100])]</td>\n",
       "      <td>200</td>\n",
       "      <td>[64 64]</td>\n",
       "      <td>3</td>\n",
       "      <td>15</td>\n",
       "      <td>0.80</td>\n",
       "      <td>0.659341</td>\n",
       "      <td>0.431069</td>\n",
       "      <td>0.557942</td>\n",
       "      <td>0.534466</td>\n",
       "      <td>0.536963</td>\n",
       "      <td>0.570430</td>\n",
       "      <td>0.484016</td>\n",
       "      <td>0.626374</td>\n",
       "      <td>0.607393</td>\n",
       "      <td>0.546953</td>\n",
       "    </tr>\n",
       "    <tr>\n",
       "      <th>4</th>\n",
       "      <td>lusi</td>\n",
       "      <td>[4 list([500, 300, 200, 100])]</td>\n",
       "      <td>64</td>\n",
       "      <td>[8 32]</td>\n",
       "      <td>6</td>\n",
       "      <td>1</td>\n",
       "      <td>0.90</td>\n",
       "      <td>0.495505</td>\n",
       "      <td>0.486513</td>\n",
       "      <td>0.418581</td>\n",
       "      <td>0.489510</td>\n",
       "      <td>0.519481</td>\n",
       "      <td>0.568931</td>\n",
       "      <td>0.551948</td>\n",
       "      <td>0.485015</td>\n",
       "      <td>0.437562</td>\n",
       "      <td>0.519980</td>\n",
       "    </tr>\n",
       "    <tr>\n",
       "      <th>5</th>\n",
       "      <td>lusi</td>\n",
       "      <td>[2 list([500, 100])]</td>\n",
       "      <td>6000</td>\n",
       "      <td>[32 64]</td>\n",
       "      <td>9</td>\n",
       "      <td>2</td>\n",
       "      <td>0.70</td>\n",
       "      <td>0.876623</td>\n",
       "      <td>0.891109</td>\n",
       "      <td>0.926074</td>\n",
       "      <td>0.905594</td>\n",
       "      <td>0.885115</td>\n",
       "      <td>0.915584</td>\n",
       "      <td>0.877123</td>\n",
       "      <td>0.905594</td>\n",
       "      <td>0.928571</td>\n",
       "      <td>0.887612</td>\n",
       "    </tr>\n",
       "    <tr>\n",
       "      <th>6</th>\n",
       "      <td>lusi</td>\n",
       "      <td>[1 list([50])]</td>\n",
       "      <td>3000</td>\n",
       "      <td>[8 8]</td>\n",
       "      <td>11</td>\n",
       "      <td>1</td>\n",
       "      <td>0.99</td>\n",
       "      <td>0.920080</td>\n",
       "      <td>0.923077</td>\n",
       "      <td>0.898102</td>\n",
       "      <td>0.928571</td>\n",
       "      <td>0.945055</td>\n",
       "      <td>0.924076</td>\n",
       "      <td>0.918581</td>\n",
       "      <td>0.942557</td>\n",
       "      <td>0.922577</td>\n",
       "      <td>0.943556</td>\n",
       "    </tr>\n",
       "    <tr>\n",
       "      <th>7</th>\n",
       "      <td>lusi</td>\n",
       "      <td>[2 list([50, 20])]</td>\n",
       "      <td>1000</td>\n",
       "      <td>[128 64]</td>\n",
       "      <td>11</td>\n",
       "      <td>30</td>\n",
       "      <td>0.30</td>\n",
       "      <td>0.766234</td>\n",
       "      <td>0.922078</td>\n",
       "      <td>0.744755</td>\n",
       "      <td>0.897602</td>\n",
       "      <td>0.842158</td>\n",
       "      <td>0.852647</td>\n",
       "      <td>0.853646</td>\n",
       "      <td>0.785714</td>\n",
       "      <td>0.696803</td>\n",
       "      <td>0.844156</td>\n",
       "    </tr>\n",
       "    <tr>\n",
       "      <th>8</th>\n",
       "      <td>lusi</td>\n",
       "      <td>[1 list([500])]</td>\n",
       "      <td>6000</td>\n",
       "      <td>[16 32]</td>\n",
       "      <td>6</td>\n",
       "      <td>2</td>\n",
       "      <td>0.70</td>\n",
       "      <td>0.945055</td>\n",
       "      <td>0.945055</td>\n",
       "      <td>0.945554</td>\n",
       "      <td>0.942058</td>\n",
       "      <td>0.944555</td>\n",
       "      <td>0.954046</td>\n",
       "      <td>0.935065</td>\n",
       "      <td>0.926573</td>\n",
       "      <td>0.920579</td>\n",
       "      <td>0.938062</td>\n",
       "    </tr>\n",
       "    <tr>\n",
       "      <th>9</th>\n",
       "      <td>lusi</td>\n",
       "      <td>[1 list([50])]</td>\n",
       "      <td>1000</td>\n",
       "      <td>[64 32]</td>\n",
       "      <td>11</td>\n",
       "      <td>10</td>\n",
       "      <td>0.40</td>\n",
       "      <td>0.799201</td>\n",
       "      <td>0.826673</td>\n",
       "      <td>0.811189</td>\n",
       "      <td>0.821678</td>\n",
       "      <td>0.910589</td>\n",
       "      <td>0.868132</td>\n",
       "      <td>0.802697</td>\n",
       "      <td>0.875125</td>\n",
       "      <td>0.815185</td>\n",
       "      <td>0.809191</td>\n",
       "    </tr>\n",
       "  </tbody>\n",
       "</table>\n",
       "</div>"
      ],
      "text/plain": [
       "  model_type                      model_arch  total_data batch_size  \\\n",
       "0   erm-lusi         [3 list([100, 50, 20])]        1000    [32 16]   \n",
       "1       lusi                  [1 list([50])]         200    [64 64]   \n",
       "2   erm-lusi        [3 list([500, 100, 20])]         200    [32 32]   \n",
       "3       lusi       [3 list([500, 200, 100])]         200    [64 64]   \n",
       "4       lusi  [4 list([500, 300, 200, 100])]          64     [8 32]   \n",
       "5       lusi            [2 list([500, 100])]        6000    [32 64]   \n",
       "6       lusi                  [1 list([50])]        3000      [8 8]   \n",
       "7       lusi              [2 list([50, 20])]        1000   [128 64]   \n",
       "8       lusi                 [1 list([500])]        6000    [16 32]   \n",
       "9       lusi                  [1 list([50])]        1000    [64 32]   \n",
       "\n",
       "   no_of_predicates  epochs  alpha  binary_accuracy_1  binary_accuracy_2  \\\n",
       "0                 6      10   0.01           0.903097           0.816683   \n",
       "1                 6      15   0.80           0.648352           0.590909   \n",
       "2                11      10   0.60           0.911588           0.879121   \n",
       "3                 3      15   0.80           0.659341           0.431069   \n",
       "4                 6       1   0.90           0.495505           0.486513   \n",
       "5                 9       2   0.70           0.876623           0.891109   \n",
       "6                11       1   0.99           0.920080           0.923077   \n",
       "7                11      30   0.30           0.766234           0.922078   \n",
       "8                 6       2   0.70           0.945055           0.945055   \n",
       "9                11      10   0.40           0.799201           0.826673   \n",
       "\n",
       "   binary_accuracy_3  binary_accuracy_4  binary_accuracy_5  binary_accuracy_6  \\\n",
       "0           0.840659           0.899600           0.680320           0.934066   \n",
       "1           0.487013           0.638362           0.508491           0.818681   \n",
       "2           0.896104           0.932068           0.928072           0.883616   \n",
       "3           0.557942           0.534466           0.536963           0.570430   \n",
       "4           0.418581           0.489510           0.519481           0.568931   \n",
       "5           0.926074           0.905594           0.885115           0.915584   \n",
       "6           0.898102           0.928571           0.945055           0.924076   \n",
       "7           0.744755           0.897602           0.842158           0.852647   \n",
       "8           0.945554           0.942058           0.944555           0.954046   \n",
       "9           0.811189           0.821678           0.910589           0.868132   \n",
       "\n",
       "   binary_accuracy_7  binary_accuracy_8  binary_accuracy_9  binary_accuracy_10  \n",
       "0           0.837662           0.942557           0.870629            0.862138  \n",
       "1           0.516484           0.678322           0.763736            0.676823  \n",
       "2           0.924076           0.937063           0.911089            0.898102  \n",
       "3           0.484016           0.626374           0.607393            0.546953  \n",
       "4           0.551948           0.485015           0.437562            0.519980  \n",
       "5           0.877123           0.905594           0.928571            0.887612  \n",
       "6           0.918581           0.942557           0.922577            0.943556  \n",
       "7           0.853646           0.785714           0.696803            0.844156  \n",
       "8           0.935065           0.926573           0.920579            0.938062  \n",
       "9           0.802697           0.875125           0.815185            0.809191  "
      ]
     },
     "execution_count": 340,
     "metadata": {},
     "output_type": "execute_result"
    }
   ],
   "source": [
    "perf_df_1 = pd.read_csv(\"./res_df_22052022.csv\", index_col=0)\n",
    "perf_df_1"
   ]
  },
  {
   "cell_type": "code",
   "execution_count": 341,
   "id": "374dfbe0-d28a-446b-a615-e810f3f02f8e",
   "metadata": {},
   "outputs": [
    {
     "data": {
      "text/plain": [
       "Index(['model_type', 'model_arch', 'total_data', 'batch_size',\n",
       "       'no_of_predicates', 'epochs', 'alpha', 'binary_accuracy_1',\n",
       "       'binary_accuracy_2', 'binary_accuracy_3', 'binary_accuracy_4',\n",
       "       'binary_accuracy_5', 'binary_accuracy_6', 'binary_accuracy_7',\n",
       "       'binary_accuracy_8', 'binary_accuracy_9', 'binary_accuracy_10'],\n",
       "      dtype='object')"
      ]
     },
     "execution_count": 341,
     "metadata": {},
     "output_type": "execute_result"
    }
   ],
   "source": [
    "perf_df_1.columns"
   ]
  },
  {
   "cell_type": "code",
   "execution_count": 342,
   "id": "02e0daa5-e0f5-4bb7-97a2-96bbe33a4163",
   "metadata": {},
   "outputs": [
    {
     "name": "stdout",
     "output_type": "stream",
     "text": [
      "i = 0, width=[100, 50, 20]\n",
      "j = 0, d=100\n",
      "j = 1, d=50\n",
      "j = 2, d=20\n",
      "i = 1, width=[50]\n",
      "j = 0, d=50\n",
      "i = 2, width=[500, 100, 20]\n",
      "j = 0, d=500\n",
      "j = 1, d=100\n",
      "j = 2, d=20\n",
      "i = 3, width=[500, 200, 100]\n",
      "j = 0, d=500\n",
      "j = 1, d=200\n",
      "j = 2, d=100\n",
      "i = 4, width=[500, 300, 200, 100]\n",
      "j = 0, d=500\n",
      "j = 1, d=300\n",
      "j = 2, d=200\n",
      "j = 3, d=100\n",
      "i = 5, width=[500, 100]\n",
      "j = 0, d=500\n",
      "j = 1, d=100\n",
      "i = 6, width=[50]\n",
      "j = 0, d=50\n",
      "i = 7, width=[50, 20]\n",
      "j = 0, d=50\n",
      "j = 1, d=20\n",
      "i = 8, width=[500]\n",
      "j = 0, d=500\n",
      "i = 9, width=[50]\n",
      "j = 0, d=50\n",
      "[[100.  50.  20.   0.   0.   0.   0.   0.   0.   0.]\n",
      " [ 50.   0.   0.   0.   0.   0.   0.   0.   0.   0.]\n",
      " [500. 100.  20.   0.   0.   0.   0.   0.   0.   0.]\n",
      " [500. 200. 100.   0.   0.   0.   0.   0.   0.   0.]\n",
      " [500. 300. 200. 100.   0.   0.   0.   0.   0.   0.]\n",
      " [500. 100.   0.   0.   0.   0.   0.   0.   0.   0.]\n",
      " [ 50.   0.   0.   0.   0.   0.   0.   0.   0.   0.]\n",
      " [ 50.  20.   0.   0.   0.   0.   0.   0.   0.   0.]\n",
      " [500.   0.   0.   0.   0.   0.   0.   0.   0.   0.]\n",
      " [ 50.   0.   0.   0.   0.   0.   0.   0.   0.   0.]]\n"
     ]
    },
    {
     "data": {
      "text/html": [
       "<div>\n",
       "<style scoped>\n",
       "    .dataframe tbody tr th:only-of-type {\n",
       "        vertical-align: middle;\n",
       "    }\n",
       "\n",
       "    .dataframe tbody tr th {\n",
       "        vertical-align: top;\n",
       "    }\n",
       "\n",
       "    .dataframe thead th {\n",
       "        text-align: right;\n",
       "    }\n",
       "</style>\n",
       "<table border=\"1\" class=\"dataframe\">\n",
       "  <thead>\n",
       "    <tr style=\"text-align: right;\">\n",
       "      <th></th>\n",
       "      <th>model_type</th>\n",
       "      <th>total_data</th>\n",
       "      <th>no_of_predicates</th>\n",
       "      <th>epochs</th>\n",
       "      <th>alpha</th>\n",
       "      <th>layers</th>\n",
       "      <th>width_1</th>\n",
       "      <th>width_2</th>\n",
       "      <th>width_3</th>\n",
       "      <th>width_4</th>\n",
       "      <th>...</th>\n",
       "      <th>binary_accuracy_2</th>\n",
       "      <th>binary_accuracy_3</th>\n",
       "      <th>binary_accuracy_4</th>\n",
       "      <th>binary_accuracy_5</th>\n",
       "      <th>binary_accuracy_6</th>\n",
       "      <th>binary_accuracy_7</th>\n",
       "      <th>binary_accuracy_8</th>\n",
       "      <th>binary_accuracy_9</th>\n",
       "      <th>binary_accuracy_10</th>\n",
       "      <th>avg_bin_acc</th>\n",
       "    </tr>\n",
       "  </thead>\n",
       "  <tbody>\n",
       "    <tr>\n",
       "      <th>0</th>\n",
       "      <td>erm-lusi</td>\n",
       "      <td>1000</td>\n",
       "      <td>6</td>\n",
       "      <td>10</td>\n",
       "      <td>0.01</td>\n",
       "      <td>3</td>\n",
       "      <td>100.0</td>\n",
       "      <td>50.0</td>\n",
       "      <td>20.0</td>\n",
       "      <td>0.0</td>\n",
       "      <td>...</td>\n",
       "      <td>0.816683</td>\n",
       "      <td>0.840659</td>\n",
       "      <td>0.899600</td>\n",
       "      <td>0.680320</td>\n",
       "      <td>0.934066</td>\n",
       "      <td>0.837662</td>\n",
       "      <td>0.942557</td>\n",
       "      <td>0.870629</td>\n",
       "      <td>0.862138</td>\n",
       "      <td>0.858741</td>\n",
       "    </tr>\n",
       "    <tr>\n",
       "      <th>1</th>\n",
       "      <td>lusi</td>\n",
       "      <td>200</td>\n",
       "      <td>6</td>\n",
       "      <td>15</td>\n",
       "      <td>0.80</td>\n",
       "      <td>1</td>\n",
       "      <td>50.0</td>\n",
       "      <td>0.0</td>\n",
       "      <td>0.0</td>\n",
       "      <td>0.0</td>\n",
       "      <td>...</td>\n",
       "      <td>0.590909</td>\n",
       "      <td>0.487013</td>\n",
       "      <td>0.638362</td>\n",
       "      <td>0.508491</td>\n",
       "      <td>0.818681</td>\n",
       "      <td>0.516484</td>\n",
       "      <td>0.678322</td>\n",
       "      <td>0.763736</td>\n",
       "      <td>0.676823</td>\n",
       "      <td>0.632717</td>\n",
       "    </tr>\n",
       "    <tr>\n",
       "      <th>2</th>\n",
       "      <td>erm-lusi</td>\n",
       "      <td>200</td>\n",
       "      <td>11</td>\n",
       "      <td>10</td>\n",
       "      <td>0.60</td>\n",
       "      <td>3</td>\n",
       "      <td>500.0</td>\n",
       "      <td>100.0</td>\n",
       "      <td>20.0</td>\n",
       "      <td>0.0</td>\n",
       "      <td>...</td>\n",
       "      <td>0.879121</td>\n",
       "      <td>0.896104</td>\n",
       "      <td>0.932068</td>\n",
       "      <td>0.928072</td>\n",
       "      <td>0.883616</td>\n",
       "      <td>0.924076</td>\n",
       "      <td>0.937063</td>\n",
       "      <td>0.911089</td>\n",
       "      <td>0.898102</td>\n",
       "      <td>0.91009</td>\n",
       "    </tr>\n",
       "    <tr>\n",
       "      <th>3</th>\n",
       "      <td>lusi</td>\n",
       "      <td>200</td>\n",
       "      <td>3</td>\n",
       "      <td>15</td>\n",
       "      <td>0.80</td>\n",
       "      <td>3</td>\n",
       "      <td>500.0</td>\n",
       "      <td>200.0</td>\n",
       "      <td>100.0</td>\n",
       "      <td>0.0</td>\n",
       "      <td>...</td>\n",
       "      <td>0.431069</td>\n",
       "      <td>0.557942</td>\n",
       "      <td>0.534466</td>\n",
       "      <td>0.536963</td>\n",
       "      <td>0.570430</td>\n",
       "      <td>0.484016</td>\n",
       "      <td>0.626374</td>\n",
       "      <td>0.607393</td>\n",
       "      <td>0.546953</td>\n",
       "      <td>0.555495</td>\n",
       "    </tr>\n",
       "    <tr>\n",
       "      <th>4</th>\n",
       "      <td>lusi</td>\n",
       "      <td>64</td>\n",
       "      <td>6</td>\n",
       "      <td>1</td>\n",
       "      <td>0.90</td>\n",
       "      <td>4</td>\n",
       "      <td>500.0</td>\n",
       "      <td>300.0</td>\n",
       "      <td>200.0</td>\n",
       "      <td>100.0</td>\n",
       "      <td>...</td>\n",
       "      <td>0.486513</td>\n",
       "      <td>0.418581</td>\n",
       "      <td>0.489510</td>\n",
       "      <td>0.519481</td>\n",
       "      <td>0.568931</td>\n",
       "      <td>0.551948</td>\n",
       "      <td>0.485015</td>\n",
       "      <td>0.437562</td>\n",
       "      <td>0.519980</td>\n",
       "      <td>0.497303</td>\n",
       "    </tr>\n",
       "    <tr>\n",
       "      <th>5</th>\n",
       "      <td>lusi</td>\n",
       "      <td>6000</td>\n",
       "      <td>9</td>\n",
       "      <td>2</td>\n",
       "      <td>0.70</td>\n",
       "      <td>2</td>\n",
       "      <td>500.0</td>\n",
       "      <td>100.0</td>\n",
       "      <td>0.0</td>\n",
       "      <td>0.0</td>\n",
       "      <td>...</td>\n",
       "      <td>0.891109</td>\n",
       "      <td>0.926074</td>\n",
       "      <td>0.905594</td>\n",
       "      <td>0.885115</td>\n",
       "      <td>0.915584</td>\n",
       "      <td>0.877123</td>\n",
       "      <td>0.905594</td>\n",
       "      <td>0.928571</td>\n",
       "      <td>0.887612</td>\n",
       "      <td>0.8999</td>\n",
       "    </tr>\n",
       "    <tr>\n",
       "      <th>6</th>\n",
       "      <td>lusi</td>\n",
       "      <td>3000</td>\n",
       "      <td>11</td>\n",
       "      <td>1</td>\n",
       "      <td>0.99</td>\n",
       "      <td>1</td>\n",
       "      <td>50.0</td>\n",
       "      <td>0.0</td>\n",
       "      <td>0.0</td>\n",
       "      <td>0.0</td>\n",
       "      <td>...</td>\n",
       "      <td>0.923077</td>\n",
       "      <td>0.898102</td>\n",
       "      <td>0.928571</td>\n",
       "      <td>0.945055</td>\n",
       "      <td>0.924076</td>\n",
       "      <td>0.918581</td>\n",
       "      <td>0.942557</td>\n",
       "      <td>0.922577</td>\n",
       "      <td>0.943556</td>\n",
       "      <td>0.926623</td>\n",
       "    </tr>\n",
       "    <tr>\n",
       "      <th>7</th>\n",
       "      <td>lusi</td>\n",
       "      <td>1000</td>\n",
       "      <td>11</td>\n",
       "      <td>30</td>\n",
       "      <td>0.30</td>\n",
       "      <td>2</td>\n",
       "      <td>50.0</td>\n",
       "      <td>20.0</td>\n",
       "      <td>0.0</td>\n",
       "      <td>0.0</td>\n",
       "      <td>...</td>\n",
       "      <td>0.922078</td>\n",
       "      <td>0.744755</td>\n",
       "      <td>0.897602</td>\n",
       "      <td>0.842158</td>\n",
       "      <td>0.852647</td>\n",
       "      <td>0.853646</td>\n",
       "      <td>0.785714</td>\n",
       "      <td>0.696803</td>\n",
       "      <td>0.844156</td>\n",
       "      <td>0.820579</td>\n",
       "    </tr>\n",
       "    <tr>\n",
       "      <th>8</th>\n",
       "      <td>lusi</td>\n",
       "      <td>6000</td>\n",
       "      <td>6</td>\n",
       "      <td>2</td>\n",
       "      <td>0.70</td>\n",
       "      <td>1</td>\n",
       "      <td>500.0</td>\n",
       "      <td>0.0</td>\n",
       "      <td>0.0</td>\n",
       "      <td>0.0</td>\n",
       "      <td>...</td>\n",
       "      <td>0.945055</td>\n",
       "      <td>0.945554</td>\n",
       "      <td>0.942058</td>\n",
       "      <td>0.944555</td>\n",
       "      <td>0.954046</td>\n",
       "      <td>0.935065</td>\n",
       "      <td>0.926573</td>\n",
       "      <td>0.920579</td>\n",
       "      <td>0.938062</td>\n",
       "      <td>0.93966</td>\n",
       "    </tr>\n",
       "    <tr>\n",
       "      <th>9</th>\n",
       "      <td>lusi</td>\n",
       "      <td>1000</td>\n",
       "      <td>11</td>\n",
       "      <td>10</td>\n",
       "      <td>0.40</td>\n",
       "      <td>1</td>\n",
       "      <td>50.0</td>\n",
       "      <td>0.0</td>\n",
       "      <td>0.0</td>\n",
       "      <td>0.0</td>\n",
       "      <td>...</td>\n",
       "      <td>0.826673</td>\n",
       "      <td>0.811189</td>\n",
       "      <td>0.821678</td>\n",
       "      <td>0.910589</td>\n",
       "      <td>0.868132</td>\n",
       "      <td>0.802697</td>\n",
       "      <td>0.875125</td>\n",
       "      <td>0.815185</td>\n",
       "      <td>0.809191</td>\n",
       "      <td>0.833966</td>\n",
       "    </tr>\n",
       "  </tbody>\n",
       "</table>\n",
       "<p>10 rows × 29 columns</p>\n",
       "</div>"
      ],
      "text/plain": [
       "  model_type  total_data  no_of_predicates  epochs  alpha  layers  width_1  \\\n",
       "0   erm-lusi        1000                 6      10   0.01       3    100.0   \n",
       "1       lusi         200                 6      15   0.80       1     50.0   \n",
       "2   erm-lusi         200                11      10   0.60       3    500.0   \n",
       "3       lusi         200                 3      15   0.80       3    500.0   \n",
       "4       lusi          64                 6       1   0.90       4    500.0   \n",
       "5       lusi        6000                 9       2   0.70       2    500.0   \n",
       "6       lusi        3000                11       1   0.99       1     50.0   \n",
       "7       lusi        1000                11      30   0.30       2     50.0   \n",
       "8       lusi        6000                 6       2   0.70       1    500.0   \n",
       "9       lusi        1000                11      10   0.40       1     50.0   \n",
       "\n",
       "   width_2  width_3  width_4  ...  binary_accuracy_2  binary_accuracy_3  \\\n",
       "0     50.0     20.0      0.0  ...           0.816683           0.840659   \n",
       "1      0.0      0.0      0.0  ...           0.590909           0.487013   \n",
       "2    100.0     20.0      0.0  ...           0.879121           0.896104   \n",
       "3    200.0    100.0      0.0  ...           0.431069           0.557942   \n",
       "4    300.0    200.0    100.0  ...           0.486513           0.418581   \n",
       "5    100.0      0.0      0.0  ...           0.891109           0.926074   \n",
       "6      0.0      0.0      0.0  ...           0.923077           0.898102   \n",
       "7     20.0      0.0      0.0  ...           0.922078           0.744755   \n",
       "8      0.0      0.0      0.0  ...           0.945055           0.945554   \n",
       "9      0.0      0.0      0.0  ...           0.826673           0.811189   \n",
       "\n",
       "   binary_accuracy_4  binary_accuracy_5  binary_accuracy_6  binary_accuracy_7  \\\n",
       "0           0.899600           0.680320           0.934066           0.837662   \n",
       "1           0.638362           0.508491           0.818681           0.516484   \n",
       "2           0.932068           0.928072           0.883616           0.924076   \n",
       "3           0.534466           0.536963           0.570430           0.484016   \n",
       "4           0.489510           0.519481           0.568931           0.551948   \n",
       "5           0.905594           0.885115           0.915584           0.877123   \n",
       "6           0.928571           0.945055           0.924076           0.918581   \n",
       "7           0.897602           0.842158           0.852647           0.853646   \n",
       "8           0.942058           0.944555           0.954046           0.935065   \n",
       "9           0.821678           0.910589           0.868132           0.802697   \n",
       "\n",
       "   binary_accuracy_8  binary_accuracy_9  binary_accuracy_10  avg_bin_acc  \n",
       "0           0.942557           0.870629            0.862138     0.858741  \n",
       "1           0.678322           0.763736            0.676823     0.632717  \n",
       "2           0.937063           0.911089            0.898102      0.91009  \n",
       "3           0.626374           0.607393            0.546953     0.555495  \n",
       "4           0.485015           0.437562            0.519980     0.497303  \n",
       "5           0.905594           0.928571            0.887612       0.8999  \n",
       "6           0.942557           0.922577            0.943556     0.926623  \n",
       "7           0.785714           0.696803            0.844156     0.820579  \n",
       "8           0.926573           0.920579            0.938062      0.93966  \n",
       "9           0.875125           0.815185            0.809191     0.833966  \n",
       "\n",
       "[10 rows x 29 columns]"
      ]
     },
     "execution_count": 342,
     "metadata": {},
     "output_type": "execute_result"
    }
   ],
   "source": [
    "perf_df_1 = lusi_periphery.parse_res_def(perf_df_1)\n",
    "perf_df_1"
   ]
  },
  {
   "cell_type": "code",
   "execution_count": 396,
   "id": "5026425f-2761-4960-ba54-1da8213df38d",
   "metadata": {},
   "outputs": [],
   "source": [
    "df = pd.read_csv(\"./res_df_05-24-2022_15_18_44.csv\", index_col=0)\n",
    "df = lusi_periphery.parse_res_def(df)"
   ]
  },
  {
   "cell_type": "code",
   "execution_count": 397,
   "id": "7e3a4e41-54d8-440a-bff4-af9211898c5a",
   "metadata": {},
   "outputs": [],
   "source": [
    "df.to_csv(\"res_df_05-24-2022_15_18_44_processed.csv\")"
   ]
  },
  {
   "cell_type": "code",
   "execution_count": 401,
   "id": "9469dbce-744d-4458-a7d4-5d0c467b2f33",
   "metadata": {},
   "outputs": [],
   "source": [
    "gd = lal.grid_dict"
   ]
  },
  {
   "cell_type": "code",
   "execution_count": 400,
   "id": "08a787bc-b128-453a-8612-b5b0eb06e051",
   "metadata": {},
   "outputs": [
    {
     "data": {
      "text/plain": [
       "1944"
      ]
     },
     "execution_count": 400,
     "metadata": {},
     "output_type": "execute_result"
    }
   ],
   "source": [
    "c = 1\n",
    "for k in lal.grid_dict.keys():\n",
    "    c *= len(lal.grid_dict[k])\n",
    "c"
   ]
  },
  {
   "cell_type": "code",
   "execution_count": null,
   "id": "acdd7277-3702-4eed-a461-b6b152a0b605",
   "metadata": {},
   "outputs": [],
   "source": [
    "# 1604 config 15\n",
    "# 1634 config 42\n",
    "# -> 27 configs \n",
    "\n",
    "# 1706 config 63\n",
    "# -> 21 configs"
   ]
  },
  {
   "cell_type": "code",
   "execution_count": 407,
   "id": "ef0fcb34-d29d-4d81-b1a9-4c1f8819bccd",
   "metadata": {},
   "outputs": [
    {
     "data": {
      "text/plain": [
       "270"
      ]
     },
     "execution_count": 407,
     "metadata": {},
     "output_type": "execute_result"
    }
   ],
   "source": [
    "54 * 5"
   ]
  },
  {
   "cell_type": "code",
   "execution_count": 403,
   "id": "ab869626-3991-456d-ac7e-89cdd0fe69dc",
   "metadata": {},
   "outputs": [],
   "source": [
    "combs = [gd[k] for k in gd.keys()]\n",
    "grid = [p for p in itertools.product(*combs)]\n",
    "grid_list = [\n",
    "        {k : v for k, v in zip(gd.keys(), ge)} for ge in grid\n",
    "        ]"
   ]
  },
  {
   "cell_type": "code",
   "execution_count": 405,
   "id": "01b72388-c615-4450-8168-87e7c8e760d2",
   "metadata": {},
   "outputs": [
    {
     "data": {
      "text/plain": [
       "1944"
      ]
     },
     "execution_count": 405,
     "metadata": {},
     "output_type": "execute_result"
    }
   ],
   "source": [
    "len(grid_list)"
   ]
  },
  {
   "cell_type": "code",
   "execution_count": 423,
   "id": "8cc3d76c-f4b4-45b0-aa6d-3a1feca4bcf5",
   "metadata": {},
   "outputs": [],
   "source": [
    "import os"
   ]
  },
  {
   "cell_type": "code",
   "execution_count": 23,
   "id": "b31fc621-66be-4116-af21-067593b273a0",
   "metadata": {},
   "outputs": [],
   "source": [
    "import glob"
   ]
  },
  {
   "cell_type": "code",
   "execution_count": 30,
   "id": "259892f4-08b7-4c35-a11b-64fbc1d3245d",
   "metadata": {},
   "outputs": [
    {
     "data": {
      "text/plain": [
       "['res_df_05-25-2022_04_11_27_750_800.csv',\n",
       " 'res_df_05-25-2022_02_08_21_-850-800.csv',\n",
       " 'res_df_05-25-2022_01_54_51_500_600.csv',\n",
       " 'res_df_05-24-2022_18_00_00_0-354.csv',\n",
       " 'res_df_05-25-2022_04_18_50_800_850.csv',\n",
       " 'res_df_05-25-2022_04_31_37_850_900.csv',\n",
       " 'res_df_05-25-2022_02_44_12_-1000_-950.csv',\n",
       " 'res_df_05-25-2022_01_27_57_-800_-300.csv',\n",
       " 'res_df_05-25-2022_04_58_23_950_1000.csv',\n",
       " 'res_df_05-25-2022_03_42_02_450_500.csv',\n",
       " 'res_df_05-25-2022_03_51_50_500_550.csv',\n",
       " 'res_df_05-25-2022_02_45_13_-100_-50.csv',\n",
       " 'res_df_05-25-2022_03_25_57_600_650.csv',\n",
       " 'res_df_05-25-2022_03_02_55_-50_end.csv',\n",
       " 'res_df_05-25-2022_02_29_08_-950-900.csv',\n",
       " 'res_df_05-25-2022_04_03_51_600_650.csv',\n",
       " 'res_df_05-25-2022_02_20_05_-900-850.csv',\n",
       " 'res_df_05-25-2022_05_18_13_-250_-200.csv',\n",
       " 'res_df_05-25-2022_03_10_27_355_400.csv',\n",
       " 'res_df_05-25-2022_03_49_47_650_750.csv',\n",
       " 'res_df_05-24-2022_22_44_25_-300_-250.csv',\n",
       " 'res_df_05-25-2022_02_30_34_-200_-100.csv',\n",
       " 'res_df_05-25-2022_03_20_38_400_450.csv',\n",
       " 'res_df_05-25-2022_04_47_30_900_950.csv']"
      ]
     },
     "execution_count": 30,
     "metadata": {},
     "output_type": "execute_result"
    }
   ],
   "source": [
    "glob.glob(\"res_df_05*\")"
   ]
  },
  {
   "cell_type": "code",
   "execution_count": 31,
   "id": "57f777d3-fffe-4203-b031-ea874d6687db",
   "metadata": {},
   "outputs": [],
   "source": [
    "df_late = pd.read_csv(\"./res_df_05-25-2022_03_49_47_650_750.csv\")\n",
    "df_late_processed = lusi_periphery.parse_res_def(df_late)\n",
    "df_late_processed.to_csv(\"res_df_05-25-2022_03_49_47_650_750_processed.csv\")"
   ]
  },
  {
   "cell_type": "code",
   "execution_count": 28,
   "id": "0ad963f4-5bb2-45a6-a0e8-b8f90852d73d",
   "metadata": {},
   "outputs": [],
   "source": [
    "for df_name in glob.glob(\"res_df_05*\"):\n",
    "    df = pd.read_csv(df_name, index_col=0)\n",
    "    df_processed = lusi_periphery.parse_res_def(df)\n",
    "    df_processed.to_csv(f\"{df_name[:-4]}_processed.csv\")"
   ]
  },
  {
   "cell_type": "code",
   "execution_count": 367,
   "id": "86e30f99-76a3-4150-ab57-a76c0316a6ee",
   "metadata": {},
   "outputs": [],
   "source": [
    "perlistdir.to_csv(\"res_df_clean.csv\")"
   ]
  }
 ],
 "metadata": {
  "kernelspec": {
   "display_name": "Python (lusi_test)",
   "language": "python",
   "name": "lusi_test"
  },
  "language_info": {
   "codemirror_mode": {
    "name": "ipython",
    "version": 3
   },
   "file_extension": ".py",
   "mimetype": "text/x-python",
   "name": "python",
   "nbconvert_exporter": "python",
   "pygments_lexer": "ipython3",
   "version": "3.10.4"
  }
 },
 "nbformat": 4,
 "nbformat_minor": 5
}
