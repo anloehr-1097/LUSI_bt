{
 "cells": [
  {
   "cell_type": "markdown",
   "id": "c57b3633-9c84-4c48-a018-e7208ab06312",
   "metadata": {},
   "source": [
    "### Disclaimer\n",
    "\n",
    "Dieses Notebook ist im Rahmen  meiner Bachelorarbeit mit dem Titel **\"Learning Using Statistical Invariants\"** entstanden.\n",
    "\n",
    "Zugehörig sind zwei .py Datei, in denen der Haupteil der Implemetierung zu finden ist. Das Notebook dient hauptsächlich der Visualisierung.\n",
    "Kommentare im Code sind auf Englisch.\n",
    "\n",
    "In der Datei lusi_AndreasLoehr.py finden sich 2 Klassen, in denen das Training im LUSI bzw. ERM-LUSI Framework realisiert ist.\n",
    "Die Problemstellung, die bearbeitet wurde, ist ein binäres Klassifikationsproblem für zwei Ziffern aus dem MNIST Datensatz. Konkret handelt es sich um die binäre Klassifikation der Ziffern 7 und 8.\n",
    "\n",
    "Weiter sind zahlreiche Hilfsfunktionen bereitgestellt. Es ist nicht auszuschließen, dass an der ein oder anderen Stelle kleine Änderungen gemacht werden müssen, sollte man ein Problem von anderer Natur behandeln wollen. Insbesondere die bereitgestellten Prädikate sind nur für das MNIST Problem geeignet.\n",
    "\n"
   ]
  },
  {
   "cell_type": "code",
   "execution_count": 3,
   "id": "083a1a55-ca27-4dcf-856b-2517288f9408",
   "metadata": {},
   "outputs": [
    {
     "name": "stdout",
     "output_type": "stream",
     "text": [
      "The autoreload extension is already loaded. To reload it, use:\n",
      "  %reload_ext autoreload\n"
     ]
    }
   ],
   "source": [
    "%load_ext autoreload\n",
    "%autoreload 2"
   ]
  },
  {
   "cell_type": "markdown",
   "id": "a899ecbc-71d6-4cd3-b568-45f66f717a83",
   "metadata": {},
   "source": [
    "# Imports"
   ]
  },
  {
   "cell_type": "code",
   "execution_count": 2,
   "id": "8ab9c5b5-f9c2-41ef-99c8-499a2f22f379",
   "metadata": {},
   "outputs": [
    {
     "name": "stderr",
     "output_type": "stream",
     "text": [
      "2022-05-22 16:23:34.686799: I tensorflow/core/platform/cpu_feature_guard.cc:151] This TensorFlow binary is optimized with oneAPI Deep Neural Network Library (oneDNN) to use the following CPU instructions in performance-critical operations:  SSE4.1 SSE4.2 AVX AVX2 FMA\n",
      "To enable them in other operations, rebuild TensorFlow with the appropriate compiler flags.\n"
     ]
    }
   ],
   "source": [
    "import tensorflow as tf\n",
    "from tensorflow.keras.datasets import mnist\n",
    "from tensorflow import keras\n",
    "from tensorflow.keras import layers\n",
    "import matplotlib.pyplot as plt\n",
    "import numpy as np\n",
    "import lusi_periphery\n",
    "import lusi_Andreas_Loehr as lal\n",
    "import pandas as pd\n",
    "from pprint import pprint"
   ]
  },
  {
   "cell_type": "markdown",
   "id": "04acbda2-d9c2-4fe9-922d-b8f0b7da2e09",
   "metadata": {},
   "source": [
    "# Loading/ Importing Data"
   ]
  },
  {
   "cell_type": "code",
   "execution_count": 4,
   "id": "598df433-88ed-45ca-a6ee-583b409a0150",
   "metadata": {},
   "outputs": [],
   "source": [
    "# load MNIST here\n",
    "(x_train, y_train), (x_test, y_test) = keras.datasets.mnist.load_data()"
   ]
  },
  {
   "cell_type": "code",
   "execution_count": 5,
   "id": "0221eb6b-c55a-407e-bdb2-46e15bdd8e6d",
   "metadata": {},
   "outputs": [],
   "source": [
    "# extract 7 and 8 for binary classification problem\n",
    "# scale pixel values to take values in [0,1] interval\n",
    "eights = x_train[y_train == 8]/255\n",
    "sevens = x_train[y_train == 7]/255\n",
    "y_eights = np.ones(eights.shape[0])\n",
    "y_sevens = np.zeros(sevens.shape[0])\n",
    "x_train = np.concatenate([eights, sevens])\n",
    "y_train = np.concatenate([y_eights, y_sevens])\n",
    "\n",
    "# same for test data\n",
    "eights_test = x_test[y_test == 8]/255\n",
    "sevens_test = x_test[y_test == 7]/255\n",
    "y_eights_test = np.ones(eights_test.shape[0])\n",
    "y_sevens_test = np.zeros(sevens_test.shape[0])\n",
    "x_test = np.concatenate([eights_test, sevens_test])\n",
    "y_test = np.concatenate([y_eights_test, y_sevens_test])"
   ]
  },
  {
   "cell_type": "code",
   "execution_count": 7,
   "id": "6aba93b1-e53a-42f1-89fd-136caecdb39b",
   "metadata": {},
   "outputs": [],
   "source": [
    "# wrapping data in custom class Periphery\n",
    "full_data = lusi_periphery.Periphery((x_train, y_train), (x_test, y_test), lal.phi_11)"
   ]
  },
  {
   "cell_type": "markdown",
   "id": "c60f9729-30d6-4285-90ee-640d7ff00cdb",
   "metadata": {},
   "source": [
    "# Visualizing Data"
   ]
  },
  {
   "cell_type": "code",
   "execution_count": 112,
   "id": "95f2f1b8-0a3e-4734-b693-d4e3c52eeb04",
   "metadata": {},
   "outputs": [
    {
     "data": {
      "image/png": "[encoded data removed]",
      "text/plain": [
       "<Figure size 1080x1080 with 15 Axes>"
      ]
     },
     "metadata": {
      "needs_background": "light"
     },
     "output_type": "display_data"
    }
   ],
   "source": [
    "lusi_periphery.visual_validation(15,\n",
    "    (full_data.train_data_x, full_data.train_data_y))\n"
   ]
  },
  {
   "cell_type": "markdown",
   "id": "60dd4f64-2c85-4757-b49e-9588f050d860",
   "metadata": {},
   "source": [
    "# Predicates' empirical distribution on train data"
   ]
  },
  {
   "cell_type": "markdown",
   "id": "34d3bcab-dbff-4da2-a3c7-d8300b0c9238",
   "metadata": {},
   "source": [
    "In diesem Abschnitt soll untersucht werden, wie dien bedingte empirische Verteilung der Prädikate basierend auf den Traininsdaten bedingt auf eine der Klassen (7 oder 8) aussieht. Zur Illustration betrachten wir ein Histogramm."
   ]
  },
  {
   "cell_type": "code",
   "execution_count": 99,
   "id": "f2603e0a-ec82-483b-a476-d39ee49127b5",
   "metadata": {},
   "outputs": [],
   "source": [
    "preds_visualize_names = [\"Average Pixel Intensity\",\n",
    "                         \"Vertical Symmetry\",\n",
    "                         \"Horizontal Symmetry\",\n",
    "                         \"Diagonal Symmetry\", \n",
    "                         \"Holes\",\n",
    "                         \"Weighted Pixel Intesity\",\n",
    "                         \"Center Pixel Intensity\",\n",
    "                         \"Lower Left Pixel Intensity\",\n",
    "                         \"Upper Right Pixel Intensity\",\n",
    "                         \"Upper Left Pixel =Intensity\",\n",
    "                         \"Lower Left Pixel Intensity\"]\n",
    "\n",
    "subplot_labels = [(\"Intensity\", \"# of Samples\"),\n",
    "                  (\"Symmetrie Score\", \"# of Samples\"),\n",
    "                  (\"Symmetrie Score\", \"# of Samples\"),\n",
    "                  (\"Symmetrie Score\", \"# of Samples\"),\n",
    "                  (\"# of Holes\", \"# of Samples\"),\n",
    "                  (\"Intensity\", \"# of Samples\"),\n",
    "                  (\"Intensity\", \"# of Samples\"),\n",
    "                  (\"Intensity\", \"# of Samples\"),\n",
    "                  (\"Intensity\", \"# of Samples\"),\n",
    "                  (\"Intensity\", \"# of Samples\"),\n",
    "                  (\"Intensity\", \"# of Samples\")]\n"
   ]
  },
  {
   "cell_type": "code",
   "execution_count": 86,
   "id": "e4a10ffe-c5cd-4757-89b2-965057b8efe3",
   "metadata": {},
   "outputs": [],
   "source": [
    "# obtain evaluations on data for these functions\n",
    "preds_visualize = full_data.phi_eval_train[:, :]"
   ]
  },
  {
   "cell_type": "code",
   "execution_count": 87,
   "id": "674ac2f3-a86e-4d5c-ad45-49e57d9dae2f",
   "metadata": {},
   "outputs": [],
   "source": [
    "preds_on_8 = preds_visualize[full_data.train_data_y==1]\n",
    "preds_on_7 = preds_visualize[full_data.train_data_y==0]"
   ]
  },
  {
   "cell_type": "code",
   "execution_count": 103,
   "id": "d95e331c-6849-4909-8ede-e695af1ab81f",
   "metadata": {},
   "outputs": [
    {
     "name": "stdout",
     "output_type": "stream",
     "text": [
      "Number of samples for digit 7 6265\n",
      "Number of samples for digit 8 5851\n"
     ]
    }
   ],
   "source": [
    "print(f\"Number of samples for digit 7 {preds_on_7.shape[0]}\")\n",
    "print(f\"Number of samples for digit 8 {preds_on_8.shape[0]}\")"
   ]
  },
  {
   "cell_type": "code",
   "execution_count": 104,
   "id": "98c32e98-a9f8-4b84-b890-032458312173",
   "metadata": {},
   "outputs": [
    {
     "data": {
      "image/png": "[encoded data removed]",
      "text/plain": [
       "<Figure size 1080x720 with 10 Axes>"
      ]
     },
     "metadata": {
      "needs_background": "light"
     },
     "output_type": "display_data"
    }
   ],
   "source": [
    "# randomly select 10 predicates and display\n",
    "fig, ax = plt.subplots(nrows=5, ncols=2,\n",
    "                       figsize=(15,10), constrained_layout=True)\n",
    "\n",
    "# populate grid with images + labels\n",
    "for i in range(5):\n",
    "    j = np.random.randint(0, 11 ,1)[0]\n",
    "    ax[i, 0].hist(preds_on_8[:, j].numpy(), bins=75)\n",
    "    ax[i, 0].set_xlabel(f\"{subplot_labels[j][0]}\")\n",
    "    ax[i, 0].set_ylabel(f\"{subplot_labels[j][1]}\")\n",
    "    ax[i, 0].set_title(f\"{preds_visualize_names[j]} on 8\")\n",
    "    ax[i, 1].hist(preds_on_7[:, j].numpy(), bins=75)\n",
    "    ax[i, 1].set_title(f\"{preds_visualize_names[j]} on 7\")\n",
    "    ax[i, 1].set_xlabel(f\"{subplot_labels[j][0]}\")\n",
    "    ax[i, 1].set_ylabel(f\"{subplot_labels[j][1]}\")"
   ]
  },
  {
   "cell_type": "code",
   "execution_count": 105,
   "id": "c4535cd1-81e3-4947-8548-56079264c849",
   "metadata": {},
   "outputs": [
    {
     "data": {
      "image/png": "[encoded data removed]",
      "text/plain": [
       "<Figure size 1080x720 with 8 Axes>"
      ]
     },
     "metadata": {
      "needs_background": "light"
     },
     "output_type": "display_data"
    }
   ],
   "source": [
    "# visualizations for export\n",
    "ilus_pred = [0, 1, 4, 6]\n",
    "fig, ax = plt.subplots(nrows=4, ncols=2,\n",
    "                       figsize=(15,10), constrained_layout=True)\n",
    "# fig.tight_layout()\n",
    "# populate grid with images + labels\n",
    "for i in range(4):\n",
    "    j = ilus_pred[i]\n",
    "    ax[i, 0].hist(preds_on_8[:, j].numpy(), bins=75)\n",
    "    ax[i, 0].set_xlabel(f\"{subplot_labels[j][0]}\")\n",
    "    ax[i, 0].set_ylabel(f\"{subplot_labels[j][1]}\")\n",
    "    ax[i, 0].set_title(f\"{preds_visualize_names[j]} on 8\")\n",
    "    ax[i, 1].hist(preds_on_7[:, j].numpy(), bins=75)\n",
    "    ax[i, 1].set_title(f\"{preds_visualize_names[j]} on 7\")\n",
    "    ax[i, 1].set_xlabel(f\"{subplot_labels[j][0]}\")\n",
    "    ax[i, 1].set_ylabel(f\"{subplot_labels[j][1]}\")\n",
    "\n",
    "plt.savefig(\"./predicates.jpg\")"
   ]
  },
  {
   "cell_type": "markdown",
   "id": "aeb6502a-87f1-4ee4-9f9f-305492d88ef9",
   "metadata": {},
   "source": [
    "# Training a LUSI Model"
   ]
  },
  {
   "cell_type": "markdown",
   "id": "ed7af894-a491-4f75-9c74-6cd14c0eaceb",
   "metadata": {},
   "source": [
    "The following cells contain a demonstration of the usage of the _LusiModel_ class.\n",
    "\n",
    "The complete dataset is used for the purpose of this demonstration"
   ]
  },
  {
   "cell_type": "code",
   "execution_count": 136,
   "id": "248c9dc4-5e3e-4ee8-8790-6367b5a0f23e",
   "metadata": {},
   "outputs": [
    {
     "name": "stdout",
     "output_type": "stream",
     "text": [
      "Training data shape: ((12116, 28, 28), (12116,))\n",
      "Training data predicate evaluations shape: (12116, 11)\n",
      "Model: \"sequential_9\"\n",
      "_________________________________________________________________\n",
      " Layer (type)                Output Shape              Param #   \n",
      "=================================================================\n",
      " flatten_9 (Flatten)         (None, 784)               0         \n",
      "                                                                 \n",
      " hidden_layer_1 (Dense)      (None, 500)               392500    \n",
      "                                                                 \n",
      " hidden_layer_2 (Dense)      (None, 200)               100200    \n",
      "                                                                 \n",
      " hidden_layer_3 (Dense)      (None, 50)                10050     \n",
      "                                                                 \n",
      " output_layer (Dense)        (None, 1)                 51        \n",
      "                                                                 \n",
      "=================================================================\n",
      "Total params: 502,801\n",
      "Trainable params: 502,801\n",
      "Non-trainable params: 0\n",
      "_________________________________________________________________\n"
     ]
    }
   ],
   "source": [
    "print(f\"Training data shape: {(full_data.train_data_x.shape, full_data.train_data_y.shape)}\")\n",
    "print(f\"Training data predicate evaluations shape: {full_data.phi_eval_train.shape}\")\n",
    "\n",
    "# Generating batch datasets for training (and testing which won't be used in this implementation)\n",
    "train_batch, test_batch = full_data.generate_batch_data(64,64)\n",
    "\n",
    "# defining the weight matrix 'W' from paper. We need to know # of predicates for this step\n",
    "# for now, use identity matrix\n",
    "w_matrix = tf.Variable(np.diag(np.ones(full_data.phi_eval_train.shape[1])), dtype=tf.float32)\n",
    "\n",
    "\n",
    "underlying_model = keras.Sequential(\n",
    "    [\n",
    "     layers.Flatten(input_shape=(28,28)),\n",
    "     layers.Dense(500, activation=\"relu\", name=\"hidden_layer_1\"),\n",
    "     layers.Dense(200, activation=\"relu\", name=\"hidden_layer_2\"),\n",
    "     layers.Dense(50, activation=\"relu\", name=\"hidden_layer_3\"), \n",
    "     # interpret output as prob. for class 1\n",
    "     layers.Dense(1, activation=\"sigmoid\", name=\"output_layer\")\n",
    "    ])\n",
    "underlying_model.summary()"
   ]
  },
  {
   "cell_type": "code",
   "execution_count": 137,
   "id": "b9501382-6f8f-409b-abe1-ecf88e04e7d4",
   "metadata": {},
   "outputs": [],
   "source": [
    "# Define eval metrics\n",
    "eval_metrics = [\n",
    "    keras.metrics.BinaryAccuracy(),\n",
    "    keras.metrics.Precision(),\n",
    "    keras.metrics.Recall(),\n",
    "    keras.metrics.FalsePositives(),\n",
    "    keras.metrics.FalseNegatives()]"
   ]
  },
  {
   "cell_type": "code",
   "execution_count": 138,
   "id": "31bcab8f-0518-49e8-88f8-f2e6caca0bec",
   "metadata": {},
   "outputs": [
    {
     "data": {
      "text/plain": [
       "[('binary_accuracy', <tf.Tensor: shape=(), dtype=float32, numpy=0.47502497>),\n",
       " ('precision_1', <tf.Tensor: shape=(), dtype=float32, numpy=0.47583178>),\n",
       " ('recall_1', <tf.Tensor: shape=(), dtype=float32, numpy=0.77823406>),\n",
       " ('false_positives_1', <tf.Tensor: shape=(), dtype=float32, numpy=835.0>),\n",
       " ('false_negatives_1', <tf.Tensor: shape=(), dtype=float32, numpy=216.0>)]"
      ]
     },
     "execution_count": 138,
     "metadata": {},
     "output_type": "execute_result"
    }
   ],
   "source": [
    "# Instantiation of model\n",
    "lusi_model = lal.LusiModel(w_matrix, model=underlying_model)\n",
    "\n",
    "# Add optimizer\n",
    "lusi_model.add_optimizer(tf.keras.optimizers.SGD())\n",
    "\n",
    "# Evaluate model on test data before training to see untrained performance\n",
    "lusi_model.evaluate(full_data.test_data, eval_metrics)"
   ]
  },
  {
   "cell_type": "code",
   "execution_count": 141,
   "id": "8e4da8c4-1ab6-4b50-a479-daa329bdbd2b",
   "metadata": {},
   "outputs": [
    {
     "name": "stdout",
     "output_type": "stream",
     "text": [
      "\n",
      "Start of epoch 0\n",
      "\n",
      "Start of epoch 1\n",
      "\n",
      "Start of epoch 2\n",
      "\n",
      "Start of epoch 3\n",
      "\n",
      "Start of epoch 4\n"
     ]
    },
    {
     "data": {
      "text/plain": [
       "[('binary_accuracy', <tf.Tensor: shape=(), dtype=float32, numpy=0.96503496>),\n",
       " ('precision_1', <tf.Tensor: shape=(), dtype=float32, numpy=0.9679089>),\n",
       " ('recall_1', <tf.Tensor: shape=(), dtype=float32, numpy=0.9599589>),\n",
       " ('false_positives_1', <tf.Tensor: shape=(), dtype=float32, numpy=31.0>),\n",
       " ('false_negatives_1', <tf.Tensor: shape=(), dtype=float32, numpy=39.0>)]"
      ]
     },
     "execution_count": 141,
     "metadata": {},
     "output_type": "execute_result"
    }
   ],
   "source": [
    "# Train model on training data and evaluate afterwards on test data\n",
    "lusi_model.train(train_batch, epochs=5)\n",
    "lusi_model.evaluate(full_data.test_data, eval_metrics)"
   ]
  },
  {
   "cell_type": "markdown",
   "id": "cf95d82f-588a-4906-a2c9-4090cd17c2df",
   "metadata": {},
   "source": [
    "### Short Summary:\n",
    "Training a model in the LUSI framework is easy. The demonstration above consists of the following steps:\n",
    "1. Preparing the data with the Periphery class and generating batched data.\n",
    "2. Depending on the number of predicates, create a matrix of the appropriate dimensions.\n",
    "3. Specify a model architecture in with the keras.Sequential API.\n",
    "4. Define some evaluation metrics.\n",
    "5. Instantiate LusiModel object with model architecture and matrix.\n",
    "6. Call the train method on the batched data, specifying the number of epochs to train.\n"
   ]
  },
  {
   "cell_type": "markdown",
   "id": "8c772b34-05f8-448a-8f8a-9e7168aa97db",
   "metadata": {},
   "source": [
    "# Training an ERM-LUSI Model"
   ]
  },
  {
   "cell_type": "markdown",
   "id": "49d9c4ba-ac2d-49ee-ae37-1271ccdc58d5",
   "metadata": {},
   "source": [
    "The following cells contain a demonstration of the usage of the _LusiErm_ class.\n",
    "\n",
    "The complete dataset is used for the purpose of this demonstration. Essentially, we are following the steps of the demonstration for the _LusiModel_ class"
   ]
  },
  {
   "cell_type": "code",
   "execution_count": 143,
   "id": "56e43ae2-9cac-4159-8ad7-b4189d312c14",
   "metadata": {},
   "outputs": [
    {
     "name": "stdout",
     "output_type": "stream",
     "text": [
      "Training data shape: ((12116, 28, 28), (12116,))\n",
      "Training data predicate evaluations shape: (12116, 11)\n",
      "Model: \"sequential_11\"\n",
      "_________________________________________________________________\n",
      " Layer (type)                Output Shape              Param #   \n",
      "=================================================================\n",
      " flatten_11 (Flatten)        (None, 784)               0         \n",
      "                                                                 \n",
      " hidden_layer_1 (Dense)      (None, 500)               392500    \n",
      "                                                                 \n",
      " hidden_layer_2 (Dense)      (None, 200)               100200    \n",
      "                                                                 \n",
      " hidden_layer_3 (Dense)      (None, 50)                10050     \n",
      "                                                                 \n",
      " output_layer (Dense)        (None, 1)                 51        \n",
      "                                                                 \n",
      "=================================================================\n",
      "Total params: 502,801\n",
      "Trainable params: 502,801\n",
      "Non-trainable params: 0\n",
      "_________________________________________________________________\n"
     ]
    }
   ],
   "source": [
    "# These steps remain unchanged - same as with LusiModel class\n",
    "\n",
    "print(f\"Training data shape: {(full_data.train_data_x.shape, full_data.train_data_y.shape)}\")\n",
    "print(f\"Training data predicate evaluations shape: {full_data.phi_eval_train.shape}\")\n",
    "\n",
    "# Generating batch datasets for training (and testing which won't be used in this implementation)\n",
    "train_batch, test_batch = full_data.generate_batch_data(64,64)\n",
    "\n",
    "# defining the weight matrix 'W' from paper. We need to know # of predicates for this step\n",
    "# for now, use identity matrix\n",
    "w_matrix = tf.Variable(np.diag(np.ones(full_data.phi_eval_train.shape[1])), dtype=tf.float32)\n",
    "\n",
    "\n",
    "underlying_model = keras.Sequential(\n",
    "    [\n",
    "     layers.Flatten(input_shape=(28,28)),\n",
    "     layers.Dense(500, activation=\"relu\", name=\"hidden_layer_1\"),\n",
    "     layers.Dense(200, activation=\"relu\", name=\"hidden_layer_2\"),\n",
    "     layers.Dense(50, activation=\"relu\", name=\"hidden_layer_3\"), \n",
    "     # interpret output as prob. for class 1\n",
    "     layers.Dense(1, activation=\"sigmoid\", name=\"output_layer\")\n",
    "    ])\n",
    "underlying_model.summary()"
   ]
  },
  {
   "cell_type": "code",
   "execution_count": 145,
   "id": "8fa66e2a-9fbb-488a-b97b-65e483905fd7",
   "metadata": {},
   "outputs": [
    {
     "data": {
      "text/plain": [
       "[('binary_accuracy', <tf.Tensor: shape=(), dtype=float32, numpy=0.47152847>),\n",
       " ('precision_1', <tf.Tensor: shape=(), dtype=float32, numpy=0.4783058>),\n",
       " ('recall_1', <tf.Tensor: shape=(), dtype=float32, numpy=0.9507187>),\n",
       " ('false_positives_1', <tf.Tensor: shape=(), dtype=float32, numpy=1010.0>),\n",
       " ('false_negatives_1', <tf.Tensor: shape=(), dtype=float32, numpy=48.0>)]"
      ]
     },
     "execution_count": 145,
     "metadata": {},
     "output_type": "execute_result"
    }
   ],
   "source": [
    "# Instatiating LusiErm object\n",
    "# alpha determines weight of 'Lusi loss' (and hence also weight of ERM loss)\n",
    "\n",
    "lusi_erm = lal.LusiErm(w_matrix, alpha=0.8)\n",
    "\n",
    "# Adding optimizer and loss\n",
    "lusi_erm.add_optimizer(tf.keras.optimizers.SGD())\n",
    "lusi_erm.add_loss(keras.losses.BinaryCrossentropy())    \n",
    "    \n",
    "# Evaluating model on test data pre training to see untrained performance\n",
    "lusi_erm.evaluate(full_data.test_data, eval_metrics)"
   ]
  },
  {
   "cell_type": "code",
   "execution_count": 146,
   "id": "5b22d180-be75-4d95-97bd-7a57b88db8cb",
   "metadata": {},
   "outputs": [
    {
     "name": "stdout",
     "output_type": "stream",
     "text": [
      "\n",
      "Start of epoch 0\n",
      "\n",
      "Start of epoch 1\n",
      "\n",
      "Start of epoch 2\n",
      "\n",
      "Start of epoch 3\n",
      "\n",
      "Start of epoch 4\n",
      "\n",
      "Start of epoch 5\n",
      "\n",
      "Start of epoch 6\n",
      "\n",
      "Start of epoch 7\n",
      "\n",
      "Start of epoch 8\n",
      "\n",
      "Start of epoch 9\n"
     ]
    }
   ],
   "source": [
    "# Train model using Lusi-erm training procedure and evaluate on test data\n",
    "lusi_erm.train(train_batch, epochs=10)\n",
    "lusi_erm.evaluate(full_data.test_data, eval_metrics)"
   ]
  },
  {
   "cell_type": "markdown",
   "id": "846ba223-850f-4e41-b369-f14900eb6ea8",
   "metadata": {},
   "source": [
    "## Short Summary\n",
    "Training the model in the LUSI-ERM framework is as easy as training it in LUSI framework. The same steps apply.\n",
    "The only differences lie in the provision of the parameter _alpha_ and the setting of the ERM-loss-function (here: binary cross entropy)."
   ]
  },
  {
   "cell_type": "code",
   "execution_count": null,
   "id": "a314d654-c6ed-4236-8b0f-3d732364e51f",
   "metadata": {},
   "outputs": [],
   "source": []
  },
  {
   "cell_type": "markdown",
   "id": "2e29ee68-ff67-4471-b461-5eedcf4bc71e",
   "metadata": {},
   "source": [
    "# Performance Tests"
   ]
  },
  {
   "cell_type": "markdown",
   "id": "396c45d7-49b8-4997-b676-a1db421e256a",
   "metadata": {},
   "source": [
    "In what follows, we compare the performance of models trained in either of the 3 frameworks: ERM, LUSI, ERM-LUSI.\n",
    "\n",
    "For each of the following test cases, we will repetitively complete __10__ runs."
   ]
  },
  {
   "cell_type": "markdown",
   "id": "93d635ba-3b82-4a79-849d-103efbaddd64",
   "metadata": {},
   "source": [
    "**Test Cases:**\n",
    "- 3 models: Lusi, ERM, ERM-Lusi\n",
    "\n",
    "- 3 architectures: hidden layer sizes 20, 100, 500 for neural nets\n",
    "\n",
    "- variation in total amount of data: large (half dataset ˜ ca. 6000 samples), medium (ca. 1000 training data), small (ca. 100 samples), extra small (ca. 50 samples)\n",
    "\n",
    "- variation in batch sizes: (64, 64), (64, 32), (32, 64), (8, 8)\n",
    "\n",
    "- variation in number of predicates: 3, 8, 11\n",
    "\n",
    "$\\sum $ test cases = 3 * 3 * 4 * 4 * 3 = 27 * 16 = 144 cases\n",
    "\n",
    "\n",
    "\n",
    "\n",
    "**Naming Of Variables:**\n",
    "\n",
    "- for models: lusi_ | erm_ | erm_lusi_ + 20|100|500 + 3 | 8 | 11\n",
    "    \n",
    "    e.g. lusi_20_3 for lusi model with hidden layer of size 20 and weight matrix for 3 predicates\n",
    "    \n",
    "- for data: l_ | m_ | s_ | xs_ (large, medium, small, extra small) + 64_64_ | 64_32_ | 32_64_ | 8_8_ (batch sizes) + 3 | 8 | 11 (# predicates)\n",
    "    \n",
    "\n",
    "    e.g. m_64_32_8 for medium dataset with batch sizes (64,32) and 8 predicates\n",
    "    \n",
    "\n"
   ]
  },
  {
   "cell_type": "code",
   "execution_count": 13,
   "id": "bd403983-5282-486a-9071-ff7b6520409f",
   "metadata": {},
   "outputs": [],
   "source": [
    "# TODO: define phi_3, phi_8, phi_11 in lusi_Andreas_Loehr.py\n",
    "# defining list of phis (predicates on X space)\n",
    "phi = lusi.phi\n"
   ]
  },
  {
   "cell_type": "code",
   "execution_count": 42,
   "id": "381e736e-2a3c-44f0-b10a-78485cea2696",
   "metadata": {},
   "outputs": [],
   "source": [
    "eval_metrics = lal.eval_metrics"
   ]
  },
  {
   "cell_type": "code",
   "execution_count": 40,
   "id": "251f7e2d-ec96-4ac0-a1e8-11f00bec59b5",
   "metadata": {},
   "outputs": [
    {
     "name": "stderr",
     "output_type": "stream",
     "text": [
      "/Users/Andy/Code/LUSI_bt/lusi_periphery.py:137: VisibleDeprecationWarning: Creating an ndarray from ragged nested sequences (which is a list-or-tuple of lists-or-tuples-or ndarrays with different lengths or shapes) is deprecated. If you meant to do this, you must specify 'dtype=object' when creating the ndarray.\n",
      "  \n",
      "/Users/Andy/Code/LUSI_bt/lusi_periphery.py:144: VisibleDeprecationWarning: Creating an ndarray from ragged nested sequences (which is a list-or-tuple of lists-or-tuples-or ndarrays with different lengths or shapes) is deprecated. If you meant to do this, you must specify 'dtype=object' when creating the ndarray.\n",
      "  else:\n"
     ]
    }
   ],
   "source": [
    "# TODO: define l, m, s, x_s datasets\n",
    "data_complete = lusi_periphery.Periphery((x_train, y_train), (x_test, y_test), phi)\n",
    "train_batch_complete_64_32, test_batch_complete_64_32 = data_complete.generate_batch_data(64,32)\n",
    "train_batch_complete_64_64, test_batch_complete_64_64 = data_complete.generate_batch_data(64,64)\n",
    "train_batch_complete_8_8, test_batch_complete_8_8 = data_complete.generate_batch_data(8,8)"
   ]
  },
  {
   "cell_type": "code",
   "execution_count": 23,
   "id": "0aa7d576-0c27-4388-9089-8606113937a4",
   "metadata": {},
   "outputs": [
    {
     "name": "stdout",
     "output_type": "stream",
     "text": [
      "Train data shape: ((12116, 28, 28), (12116,))\n",
      "Test data shape: ((2002, 28, 28), (2002,))\n"
     ]
    }
   ],
   "source": [
    "# Shape validation of complete data\n",
    "print(f\"Train data shape: {data_complete.train_data[0].shape, data_complete.train_data[1].shape}\")\n",
    "print(f\"Test data shape: {data_complete.test_data[0].shape, data_complete.test_data[1].shape}\")"
   ]
  },
  {
   "cell_type": "code",
   "execution_count": 22,
   "id": "a58eacb2-98fb-469a-8068-25ec7735ada6",
   "metadata": {},
   "outputs": [
    {
     "name": "stdout",
     "output_type": "stream",
     "text": [
      "Iteration 0 - 1st batch shape: (TensorShape([54, 11]), TensorShape([54, 28, 28]), TensorShape([54]))\n",
      "Iteration 0 - 2nd batch shape: (TensorShape([32, 11]), TensorShape([32, 28, 28]), TensorShape([32]))\n",
      "Iteration 1 - 1st batch shape: (TensorShape([54, 11]), TensorShape([54, 28, 28]), TensorShape([54]))\n",
      "Iteration 1 - 2nd batch shape: (TensorShape([32, 11]), TensorShape([32, 28, 28]), TensorShape([32]))\n"
     ]
    }
   ],
   "source": [
    "# Shape of batches\n",
    "for i, bs in enumerate(train_batch_complete_54_32):\n",
    "    if i < 2:\n",
    "        print(f\"Iteration {i} - 1st batch shape: {bs[0][0].shape, bs[0][1].shape, bs[0][2].shape}\")\n",
    "        print(f\"Iteration {i} - 2nd batch shape: {bs[1][0].shape, bs[1][1].shape, bs[1][2].shape}\")\n",
    "    "
   ]
  },
  {
   "cell_type": "code",
   "execution_count": null,
   "id": "fc7304b2-284f-42de-8596-caf2cde1cc20",
   "metadata": {},
   "outputs": [],
   "source": []
  },
  {
   "cell_type": "code",
   "execution_count": null,
   "id": "2bac01a8-1ad7-44d7-824e-57b5c63f9ef1",
   "metadata": {},
   "outputs": [],
   "source": []
  },
  {
   "cell_type": "code",
   "execution_count": null,
   "id": "ba52456e-f0ff-46c3-b4b5-9a32650b13ec",
   "metadata": {},
   "outputs": [],
   "source": []
  },
  {
   "cell_type": "code",
   "execution_count": 29,
   "id": "4cd43696-7a41-4749-b987-c0ec47abf2a3",
   "metadata": {},
   "outputs": [],
   "source": [
    "# as matrix W, use identity matrix of appropriate size - Here, try LUSI with 3, 8, 11 predicates\n",
    "w_matrix_3 = tf.Variable(np.diag(np.ones(3)), dtype=tf.float32)\n",
    "w_matrix_8 = tf.Variable(np.diag(np.ones(8)), dtype=tf.float32)\n",
    "w_matrix_11 = tf.Variable(np.diag(np.ones(11)), dtype=tf.float32)"
   ]
  },
  {
   "cell_type": "code",
   "execution_count": 32,
   "id": "98c42ff1-a362-4f92-a518-2cb3fe94edb9",
   "metadata": {},
   "outputs": [],
   "source": [
    "# create model\n",
    "lusi_100_3 = lal.LusiModel(w_matrix_3)\n",
    "lusi_100_3.add_optimizer(tf.keras.optimizers.SGD())\n",
    "\n",
    "lusi_100_8 = lal.LusiModel(w_matrix_8)\n",
    "lusi_100_8.add_optimizer(tf.keras.optimizers.SGD())\n",
    "\n",
    "lusi_100_11 = lal.LusiModel(w_matrix_11)\n",
    "lusi_100_11.add_optimizer(tf.keras.optimizers.SGD())"
   ]
  },
  {
   "cell_type": "code",
   "execution_count": 36,
   "id": "d748a44a-135b-4cac-afb0-786539fdfbc0",
   "metadata": {},
   "outputs": [],
   "source": [
    "weights_100 = lusi_100_11.model.get_weights()"
   ]
  },
  {
   "cell_type": "code",
   "execution_count": 37,
   "id": "afed3f61-66db-424c-adac-1236b78a9f97",
   "metadata": {},
   "outputs": [],
   "source": [
    "lusi_100_8.model.set_weights(weights_100)"
   ]
  },
  {
   "cell_type": "code",
   "execution_count": 39,
   "id": "3b81e416-5b79-410f-8094-6563475176d0",
   "metadata": {},
   "outputs": [
    {
     "name": "stdout",
     "output_type": "stream",
     "text": [
      "True\n",
      "True\n",
      "True\n",
      "True\n"
     ]
    }
   ],
   "source": [
    "for i in range(len(weights_100)):\n",
    "    print((weights_100[i] == lusi_100_8.get_weights()[i]).all())"
   ]
  },
  {
   "cell_type": "code",
   "execution_count": 45,
   "id": "9d8c00d2-f97a-4871-943a-fd77b8f49f04",
   "metadata": {},
   "outputs": [
    {
     "data": {
      "text/plain": [
       "[('Binary Accuracy', <tf.Tensor: shape=(), dtype=float32, numpy=0.499001>),\n",
       " ('False Positives', <tf.Tensor: shape=(), dtype=float32, numpy=980.0>),\n",
       " ('False Negatives', <tf.Tensor: shape=(), dtype=float32, numpy=23.0>),\n",
       " ('Precision', <tf.Tensor: shape=(), dtype=float32, numpy=0.49249095>),\n",
       " ('Recall', <tf.Tensor: shape=(), dtype=float32, numpy=0.976386>)]"
      ]
     },
     "execution_count": 45,
     "metadata": {},
     "output_type": "execute_result"
    }
   ],
   "source": [
    "lusi_100_11.evaluate(data_complete.test_data, eval_metrics)"
   ]
  },
  {
   "cell_type": "code",
   "execution_count": 55,
   "id": "f359f77d-c61d-4ec6-ac81-eed011c387e5",
   "metadata": {},
   "outputs": [
    {
     "data": {
      "text/plain": [
       "[('Binary Accuracy', <tf.Tensor: shape=(), dtype=float32, numpy=0.6928072>),\n",
       " ('False Positives', <tf.Tensor: shape=(), dtype=float32, numpy=7.0>),\n",
       " ('False Negatives', <tf.Tensor: shape=(), dtype=float32, numpy=608.0>),\n",
       " ('Precision', <tf.Tensor: shape=(), dtype=float32, numpy=0.98123324>),\n",
       " ('Recall', <tf.Tensor: shape=(), dtype=float32, numpy=0.37577003>)]"
      ]
     },
     "execution_count": 55,
     "metadata": {},
     "output_type": "execute_result"
    }
   ],
   "source": [
    "lusi_100_11.evaluate(data_complete.test_data, eval_metrics)"
   ]
  },
  {
   "cell_type": "code",
   "execution_count": null,
   "id": "5d3846b1-7651-4e75-bc5b-6ebf47a7bcfa",
   "metadata": {},
   "outputs": [],
   "source": []
  }
 ],
 "metadata": {
  "kernelspec": {
   "display_name": "lusi",
   "language": "python",
   "name": "lusi"
  },
  "language_info": {
   "codemirror_mode": {
    "name": "ipython",
    "version": 3
   },
   "file_extension": ".py",
   "mimetype": "text/x-python",
   "name": "python",
   "nbconvert_exporter": "python",
   "pygments_lexer": "ipython3",
   "version": "3.10.4"
  }
 },
 "nbformat": 4,
 "nbformat_minor": 5
}
