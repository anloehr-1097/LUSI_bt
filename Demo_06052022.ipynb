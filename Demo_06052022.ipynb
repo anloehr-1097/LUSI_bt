{
 "cells": [
  {
   "cell_type": "markdown",
   "id": "b0b2b655-7de3-446f-8784-c894435d97b1",
   "metadata": {},
   "source": [
    "# Demo version 06.05.2022"
   ]
  },
  {
   "cell_type": "code",
   "execution_count": 1,
   "id": "03aae76f-f48d-4e21-bf7b-200623da9bc4",
   "metadata": {},
   "outputs": [],
   "source": [
    "%load_ext autoreload\n",
    "%autoreload 2"
   ]
  },
  {
   "cell_type": "markdown",
   "id": "052ba554-3321-4077-b745-49eee6dece62",
   "metadata": {},
   "source": [
    "## Imports"
   ]
  },
  {
   "cell_type": "code",
   "execution_count": 2,
   "id": "d2b6ceea-b147-4310-a1b7-db6ab2e0572f",
   "metadata": {},
   "outputs": [],
   "source": [
    "import os\n",
    "import tensorflow as tf\n",
    "from tensorflow.keras.datasets import mnist\n",
    "from tensorflow import keras\n",
    "from tensorflow.keras import layers\n",
    "import matplotlib.pyplot as plt\n",
    "import numpy as np\n",
    "import pandas as pd\n",
    "\n",
    "import lusi_Andreas_Loehr as lal"
   ]
  },
  {
   "cell_type": "code",
   "execution_count": 3,
   "id": "e87d952d-1014-4b2a-996f-afff0ca9cb9b",
   "metadata": {},
   "outputs": [],
   "source": [
    "# Load functinos into global namespace\n",
    "modify_metric = lal.modify_metric"
   ]
  },
  {
   "cell_type": "markdown",
   "id": "dbc4150b-bf8f-4e2d-aadc-6ab6c840153f",
   "metadata": {
    "tags": []
   },
   "source": [
    "## Load Data"
   ]
  },
  {
   "cell_type": "code",
   "execution_count": 4,
   "id": "7b8e1d67-3966-488a-88d9-fa6058e3befe",
   "metadata": {},
   "outputs": [],
   "source": [
    "# Load dataset, set batch size.\n",
    "batch_size = 64\n",
    "(x_train, y_train), (x_test, y_test) = keras.datasets.mnist.load_data()"
   ]
  },
  {
   "cell_type": "code",
   "execution_count": 5,
   "id": "bede0435-77c5-464e-85df-063fe307c5a9",
   "metadata": {},
   "outputs": [],
   "source": [
    "# Prep train dataset.\n",
    "eights = x_train[y_train == 8]/255\n",
    "sevens = x_train[y_train == 7]/255\n",
    "\n",
    "y_eights = np.ones(eights.shape[0])\n",
    "y_sevens = np.zeros(sevens.shape[0])\n",
    "\n",
    "# not needed as \n",
    "# eights_flat = np.reshape(eights, (-1, 784))\n",
    "# sevens_flat = np.reshape(sevens, (-1, 784))\n",
    "# x_train = np.concatenate([eights_flat, sevens_flat])\n",
    "\n",
    "x_train_2d = np.concatenate([eights, sevens])\n",
    "y_train = np.concatenate([y_eights, y_sevens])"
   ]
  },
  {
   "cell_type": "code",
   "execution_count": 6,
   "id": "f31b6406-d3d6-4274-beff-25aadb8cd2e7",
   "metadata": {},
   "outputs": [
    {
     "name": "stdout",
     "output_type": "stream",
     "text": [
      "Shape of 'eights' data: (5851, 28, 28)\n",
      "Shape of 'sevens' data: (6265, 28, 28)\n",
      "Shape of entire training dataset: (12116, 28, 28)\n",
      "Shape of training dataset labels: (12116,)\n"
     ]
    }
   ],
   "source": [
    "# Dim checks.\n",
    "print(f\"Shape of 'eights' data: {eights.shape}\")\n",
    "print(f\"Shape of 'sevens' data: {sevens.shape}\")\n",
    "print(f\"Shape of entire training dataset: {x_train_2d.shape}\")\n",
    "print(f\"Shape of training dataset labels: {y_train.shape}\")"
   ]
  },
  {
   "cell_type": "code",
   "execution_count": 7,
   "id": "483fe52f-e102-4646-8f9f-bca39dffd778",
   "metadata": {},
   "outputs": [],
   "source": [
    "# Prep test dataset.\n",
    "eights_test = x_test[y_test == 8]/255\n",
    "sevens_test = x_test[y_test == 7]/255\n",
    "\n",
    "y_eights_test = np.ones(eights_test.shape[0])\n",
    "y_sevens_test = np.zeros(sevens_test.shape[0])\n",
    "\n",
    "x_test = np.concatenate([eights_test, sevens_test])\n",
    "y_test = np.concatenate([y_eights_test, y_sevens_test])"
   ]
  },
  {
   "cell_type": "code",
   "execution_count": 8,
   "id": "e41debeb-3d32-4070-a804-5088afdb262e",
   "metadata": {},
   "outputs": [
    {
     "name": "stdout",
     "output_type": "stream",
     "text": [
      "Shape of 'eights' test data: (974, 28, 28)\n",
      "Shape of 'sevens' test data: (1028, 28, 28)\n",
      "Shape of entire test dataset: (2002, 28, 28)\n",
      "Shape of entire test dataset labels: (2002,)\n"
     ]
    }
   ],
   "source": [
    "# Dim checks.\n",
    "print(f\"Shape of 'eights' test data: {eights_test.shape}\")\n",
    "print(f\"Shape of 'sevens' test data: {sevens_test.shape}\")\n",
    "print(f\"Shape of entire test dataset: {x_test.shape}\")\n",
    "print(f\"Shape of entire test dataset labels: {y_test.shape}\")"
   ]
  },
  {
   "cell_type": "code",
   "execution_count": 9,
   "id": "cfb82304-2b07-42da-88ec-a851fedf76ab",
   "metadata": {},
   "outputs": [
    {
     "data": {
      "text/plain": [
       "array([<function avg_pixel_intensity at 0x1a0ba4790>,\n",
       "       <function weighted_pixel_intesity at 0x1a0ba4940>,\n",
       "       functools.partial(<function local_pixel_intensity_single at 0x1a0ba49d0>, patch=((10, 20), (10, 20)))],\n",
       "      dtype=object)"
      ]
     },
     "execution_count": 9,
     "metadata": {},
     "output_type": "execute_result"
    }
   ],
   "source": [
    "# Load numpy array of predicate functions\n",
    "preds = lal.phi\n",
    "preds"
   ]
  },
  {
   "cell_type": "code",
   "execution_count": 10,
   "id": "48ffb064-6892-49ea-8eab-a710cc8c2e90",
   "metadata": {},
   "outputs": [
    {
     "name": "stderr",
     "output_type": "stream",
     "text": [
      "2022-05-07 11:31:36.387081: I tensorflow/core/platform/cpu_feature_guard.cc:151] This TensorFlow binary is optimized with oneAPI Deep Neural Network Library (oneDNN) to use the following CPU instructions in performance-critical operations:  SSE4.1 SSE4.2 AVX AVX2 FMA\n",
      "To enable them in other operations, rebuild TensorFlow with the appropriate compiler flags.\n"
     ]
    }
   ],
   "source": [
    "# Evaluate predicates on training data\n",
    "pred_eval = lal.apply_predicates_on_data(preds, x_train_2d)\n",
    "pred_eval_test = lal.apply_predicates_on_data(preds, x_test)"
   ]
  },
  {
   "cell_type": "code",
   "execution_count": 11,
   "id": "3bc58c7a-9bff-4965-9543-439282feb34d",
   "metadata": {},
   "outputs": [
    {
     "name": "stdout",
     "output_type": "stream",
     "text": [
      "Type of pred_eval is: <class 'tensorflow.python.framework.ops.EagerTensor'>\n",
      "\n",
      "Shape of pred_eval is: (12116, 3). This is the result of applying 3 predicates on the training data.\n",
      "\n",
      "Shape of pred_eval_test is: (2002, 3). This is the result of applying 3 predicates on the test data.\n",
      "\n",
      "Shape of train dataset is: (12116, 28, 28)\n",
      "Shape of training labels is: (12116,)\n"
     ]
    }
   ],
   "source": [
    "# Dim checks.\n",
    "print(f\"Type of pred_eval is: {type(pred_eval)}\\n\")\n",
    "print(f\"Shape of pred_eval is: {pred_eval.shape}. This is the result of applying {preds.shape[0]} predicates on the training data.\\n\")\n",
    "print(f\"Shape of pred_eval_test is: {pred_eval_test.shape}. This is the result of applying {preds.shape[0]} predicates on the test data.\\n\")\n",
    "print(f\"Shape of train dataset is: {x_train_2d.shape}\")\n",
    "print(f\"Shape of training labels is: {y_train.shape}\")"
   ]
  },
  {
   "cell_type": "code",
   "execution_count": 15,
   "id": "c2cf02d6-ddfe-44c5-b3fd-b8844e415bce",
   "metadata": {},
   "outputs": [],
   "source": [
    "# Batch training dataset and prepare for training with custom lusi loss.\n",
    "# Important: Set reminder to true, else B in custom training loop might greater than batch_size of last batch.\n",
    "train_dataset = tf.data.Dataset.from_tensor_slices((pred_eval, x_train_2d, y_train))\n",
    "train_dataset = train_dataset.shuffle(buffer_size=1024).batch(batch_size, drop_remainder=True)"
   ]
  },
  {
   "cell_type": "markdown",
   "id": "cf92c134-b80f-4358-ba44-b41ca30f493a",
   "metadata": {},
   "source": [
    "### Zipped train datasets"
   ]
  },
  {
   "cell_type": "code",
   "execution_count": 12,
   "id": "4dd49ff4-8402-4502-aa2b-96191873b49c",
   "metadata": {},
   "outputs": [],
   "source": [
    "train_dataset = tf.data.Dataset.from_tensor_slices((pred_eval, x_train_2d, y_train))\n",
    "\n",
    "\n",
    "train_dataset_b = train_dataset.shuffle(buffer_size=1024).batch(64, drop_remainder=True)\n",
    "train_dataset_b_prime = train_dataset.shuffle(buffer_size=1024).batch(54, drop_remainder=True)"
   ]
  },
  {
   "cell_type": "code",
   "execution_count": 633,
   "id": "6b276429-6a5a-4a29-b96c-b909dd007b5e",
   "metadata": {},
   "outputs": [],
   "source": [
    "class Periphery:\n",
    "    def __init__(self, train_data=None, test_data=None, n_train=None, n_test=None, \n",
    "                 model=None, phi=None, batch_size_1=32, batch_size_2=32) -> None:\n",
    "        \n",
    "        \"\"\"Bind all data and objetcs for Lusi method.\n",
    "        \n",
    "        Parameters:\n",
    "        train_data :: tuple of np.ndarrays - (x_train, y_train) | None\n",
    "            Training data.\n",
    "        \n",
    "        test_data :: tuple of np.ndarrays - (x_test, y_test) | None\n",
    "            Test data.\n",
    "        \n",
    "        n_train :: int | None \n",
    "            Number of samples to be used for training.\n",
    "            If None, use entire train_data.\n",
    "            \n",
    "        n_test :: int | None\n",
    "            Number of samples to be used for testing.\n",
    "            If None, use entire test_data.\n",
    "        \n",
    "        model :: tensorflow model | None\n",
    "            Either compiled tf model or LusiModel instance.\n",
    "            \n",
    "        phi :: np.ndarray[list[function]]\n",
    "            A numpy array of list of functions to be applied on x_data.\n",
    "        \n",
    "        batch_size_1 :: int\n",
    "            Batch size B from paper. This batch size is used in training.\n",
    "            Default value: 32.\n",
    "            \n",
    "        batch_size_2 :: int\n",
    "            Batch size B' from paper. This batch size is used in training.\n",
    "            Default value: 32.        \n",
    "        \"\"\"\n",
    "        \n",
    "        self.train_data = train_data\n",
    "        self.test_data = test_data\n",
    "        self.n_train = n_train\n",
    "        self.n_test = n_test\n",
    "        self.phi = phi\n",
    "        self.batch_size_1 = batch_size_1\n",
    "        self.batch_size_2 = batch_size_2\n",
    "       \n",
    "        if self.train_data:\n",
    "            self.generate_batched_data(train=True)\n",
    "        \n",
    "        if self.test_data:\n",
    "            self.generate_batched_data(train=False)\n",
    "            \n",
    "        if self.n_train:\n",
    "            pass\n",
    "            \n",
    "    \n",
    "    \n",
    "    def generate_batched_data(self, train=True):\n",
    "        if train:\n",
    "            self.train_data_batched_p = self.batch_train(include_phi=True)\n",
    "            self.train_data_batched_nop = self.batch_train(include_phi=False)\n",
    "        else:\n",
    "            # test data\n",
    "            self.test_data_batched_p = self.batch_test(include_phi=True)\n",
    "            self.test_data_batched_nop = self.batch_test(include_phi=False)\n",
    "        return None\n",
    "    \n",
    "    \n",
    "    def shrink_data(self, train=True):\n",
    "        # Not like this. Cannot shrink it here if already shrunk in batch_train or batch_test method\n",
    "        pass\n",
    "    \n",
    "    \n",
    "    def batch_train(self, include_phi=True):\n",
    "        \n",
    "        data = self.train_data\n",
    "        n = self.n_train\n",
    "        \n",
    "        if not data:\n",
    "            raise ValueError(\"No data provided.\")\n",
    "        \n",
    "        if not n:\n",
    "            x = data[0]\n",
    "            y = data[1]\n",
    "                \n",
    "        else:\n",
    "            # Do not use entire dataset.\n",
    "            indices = np.random.randint(0, data[0].shape[0], size=n)\n",
    "            x = data[0][indices]\n",
    "            y = data[1][indices]\n",
    "            \n",
    "            self.class_balance = {0 : y[y==0].shape, 1 : y[y==1].shape}\n",
    "\n",
    "        if include_phi:\n",
    "            # also implies training with two batches desired, i.e. Lusi training\n",
    "            phi_x = self.apply_phi(x)\n",
    "            dataset = tf.data.Dataset.from_tensor_slices((phi_x, x, y))   \n",
    "\n",
    "            batch_dataset_1 = dataset.shuffle(buffer_size=1024).batch(self.batch_size_1, drop_remainder=True)\n",
    "            batch_dataset_2 = dataset.shuffle(buffer_size=1024).batch(self.batch_size_2, drop_remainder=True)\n",
    "\n",
    "            return tf.data.Dataset.zip((batch_dataset_1, batch_dataset_2))            \n",
    "\n",
    "        else:\n",
    "        # return basic batch dataset for regular keras model\n",
    "            dataset = tf.data.Dataset.from_tensor_slices((x, y))\n",
    "            return dataset.shuffle(buffer_size=1024).batch(self.batch_size_1, drop_remainder=False)\n",
    "\n",
    "    \n",
    "    def batch_test(self, include_phi=True):\n",
    "        \n",
    "        data = self.test_data\n",
    "        n = self.n_test\n",
    "        \n",
    "        if not data:\n",
    "            raise ValueError(\"No data provided.\")\n",
    "        \n",
    "            if not n:\n",
    "                x = data[0]\n",
    "                y = data[1]\n",
    "                \n",
    "            else:\n",
    "                # Do not use entire dataset.\n",
    "                indices = np.random.randint(0, data[0].shape[0], size=n)\n",
    "                x = data[0][indices]\n",
    "                y = data[1][indices]\n",
    "                \n",
    "            if include_phi:\n",
    "                # also implies training with two batches desired, i.e. Lusi training\n",
    "                phi_x = self.apply_phi(x)\n",
    "                dataset = tf.data.Dataset.from_tensor_slices((phi_x, x, y))   \n",
    "\n",
    "                batch_dataset_1 = dataset.shuffle(buffer_size=1024).batch(self.batch_size_1, drop_remainder=True)\n",
    "                batch_dataset_2 = dataset.shuffle(buffer_size=1024).batch(self.batch_size_2, drop_remainder=True)\n",
    "\n",
    "                return tf.data.Dataset.zip((batch_dataset_1, batch_dataset_2))            \n",
    "\n",
    "            else:\n",
    "            # return basic batch dataset for regular keras model\n",
    "                dataset = tf.data.Dataset.from_tensor_slices((x, y))\n",
    "                return dataset.shuffle(buffer_size=1024).batch(self.batch_size_1, drop_remainder=False)\n",
    "\n",
    "            \n",
    "    def apply_phi(self, x) -> None:\n",
    "            \"\"\" Evaluate predicates on x and store values.\n",
    "\n",
    "            Parameters: \n",
    "            x :: np.ndarray\n",
    "                Data to apply predicates to of dimensinos (n, d0, ..., dN).\n",
    "                For MNIST, dims = (n, 28, 28)\n",
    "\n",
    "            Returns:\n",
    "            Tensor of dimensions (n, d).\n",
    "            \"\"\"\n",
    "\n",
    "            phi_x = np.asarray([self.phi[i](x[j]) for j in range(x.shape[0]) for i in range(self.phi.shape[0])])\n",
    "            phi_x = phi_x.reshape(x.shape[0], self.phi.shape[0])\n",
    "            phi_x = tf.convert_to_tensor(phi_x, dtype=tf.float32)\n",
    "\n",
    "            return phi_x\n",
    "    \n",
    "    \n",
    "    def set_batch_sizes(self, batch_sizes : tuple) -> None:\n",
    "        self.batch_size_1 = batch_sizes[0]\n",
    "        self.batch_size_2 = batch_sizes[1]\n",
    "\n",
    "        return None\n",
    "    \n",
    "        \n",
    "    def set_phi(self, phi : list) -> None:\n",
    "        self.phi = phi\n",
    "    \n",
    "        return None\n",
    "    \n",
    "    def set_total_train_size(self, n_train) -> None:\n",
    "        self.n_train = n_train\n",
    "        \n",
    "        return None\n",
    "\n",
    "    \n",
    "    def set_total_test_size(self, n_test) -> None:\n",
    "        self.n_test = n_test\n",
    "        \n",
    "        return None\n",
    "    \n",
    "    def set_train_data(self, train_data):\n",
    "        self.train_data = train_data\n",
    "        self.generate_batched_data(train=True)\n",
    "\n",
    "        return None\n",
    "    \n",
    "    def set_test_data(self, test_data):\n",
    "        self.test_data = test_data\n",
    "        self.generate_batched_data(train=False)\n",
    "\n",
    "        return None"
   ]
  },
  {
   "cell_type": "code",
   "execution_count": null,
   "id": "eb8b2ea5-7ee6-449c-b1ab-c9bdfac75163",
   "metadata": {},
   "outputs": [],
   "source": []
  },
  {
   "cell_type": "code",
   "execution_count": 587,
   "id": "b66942f9-3a32-48d0-8327-6bf6559a12cf",
   "metadata": {},
   "outputs": [],
   "source": [
    "size_s = Periphery((x_train_2d, y_train), (x_test, y_test), n_train=600, phi=lal.phi, batch_size_1=64, batch_size_2=64)\n",
    "size_m = Periphery((x_train_2d, y_train), (x_test, y_test), n_train=2000, phi=lal.phi, batch_size_1=64, batch_size_2=64)\n",
    "size_l = Periphery((x_train_2d, y_train), (x_test, y_test), phi=lal.phi, batch_size_1=64, batch_size_2=64)"
   ]
  },
  {
   "cell_type": "code",
   "execution_count": 588,
   "id": "2a177fa0-c2c2-4db1-ba98-f0649e48ef17",
   "metadata": {},
   "outputs": [
    {
     "data": {
      "text/plain": [
       "<ZipDataset shapes: (((64, 3), (64, 28, 28), (64,)), ((64, 3), (64, 28, 28), (64,))), types: ((tf.float32, tf.float64, tf.float64), (tf.float32, tf.float64, tf.float64))>"
      ]
     },
     "execution_count": 588,
     "metadata": {},
     "output_type": "execute_result"
    }
   ],
   "source": [
    "size_s.class_balance\n",
    "size_l.train_data_batched_p"
   ]
  },
  {
   "cell_type": "code",
   "execution_count": 402,
   "id": "6d2145db-455b-4478-987a-eb337466b867",
   "metadata": {},
   "outputs": [],
   "source": [
    "class LusiPeriphery:\n",
    "    def __init__(self, train_data=None, test_data=None, n_train=None, n_test=None, \n",
    "                 model=None, phi=None, batch_size_1=32, batch_size_2=32) -> None:\n",
    "        \"\"\"\n",
    "        Bind all data and objetcs for Lusi method.\n",
    "        \n",
    "        Parameters:\n",
    "        train_data :: tuple of np.ndarrays - (x_train, y_train) | None\n",
    "            Training data.\n",
    "        \n",
    "        test_data :: tuple of np.ndarrays - (x_test, y_test) | None\n",
    "            Test data.\n",
    "        \n",
    "        n_train :: int | None \n",
    "            Number of samples to be used for training.\n",
    "            If None, use entire train_data.\n",
    "            \n",
    "        n_test :: int | None\n",
    "            Number of samples to be used for testing.\n",
    "            If None, use entire test_data.\n",
    "        \n",
    "        model :: tensorflow model | None\n",
    "            Either compiled tf model or LusiModel instance.\n",
    "            \n",
    "        phi :: np.ndarray[list[function]]\n",
    "            A numpy array of list of functions to be applied on x_data.\n",
    "        \n",
    "        batch_size_1 :: int\n",
    "            Batch size B from paper. This batch size is used in training.\n",
    "            Default value: 32.\n",
    "            \n",
    "        batch_size_2 :: int\n",
    "            Batch size B' from paper. This batch size is used in training.\n",
    "            Default value: 32.        \n",
    "        \"\"\"\n",
    "        \n",
    "        self.train_data = train_data\n",
    "        self.test_data = test_data\n",
    "        self.n_train = n_train\n",
    "        self.n_test = n_test\n",
    "        self.model = model\n",
    "        self.phi = phi\n",
    "        self.batch_size_1 = batch_size_1\n",
    "        self.batch_size_2 = batch_size_2\n",
    "    \n",
    "    \n",
    "    def batch_data(self)\n",
    "            \n",
    "    def generate_batch_data(self, train=True, include_phi=True):\n",
    "        \"\"\"Create batch data set for training.\"\"\"\n",
    "        \n",
    "        if train:\n",
    "            data = self.train_data\n",
    "            n = self.n_train\n",
    " \n",
    "            if not data:\n",
    "                raise ValueError(\"No data provided.\")\n",
    "        \n",
    "            if not n:\n",
    "                x = data[0]\n",
    "                y = data[1]\n",
    "                \n",
    "            else:\n",
    "                # Do not use entire dataset.\n",
    "                indices = np.random.randint(0, data[0].shape[0], size=n)\n",
    "                x = data[0][indices]\n",
    "                y = data[1][indices]    \n",
    "\n",
    "            if include_phi:\n",
    "                # also implies training with two batches desired, i.e. Lusi training\n",
    "                phi_x = self.apply_phi(x)\n",
    "                dataset = tf.data.Dataset.from_tensor_slices((phi_x, x, y))   \n",
    "\n",
    "                batch_dataset_1 = dataset.shuffle(buffer_size=1024).batch(self.batch_size_1, drop_remainder=True)\n",
    "                batch_dataset_2 = dataset.shuffle(buffer_size=1024).batch(self.batch_size_2, drop_remainder=True)\n",
    "\n",
    "                self.train_batch = tf.data.Dataset.zip((batch_dataset_1, batch_dataset_2))            \n",
    "\n",
    "            else:\n",
    "            # return basic batch dataset for regular keras model\n",
    "                dataset = tf.data.Dataset.from_tensor_slices((x, y))\n",
    "                self.train_batch =  dataset.shuffle(buffer_size=1024).batch(self.batch_size_1, drop_remainder=False)\n",
    "\n",
    "        else:\n",
    "            # test data to be batched\n",
    "            data = self.test_data\n",
    "            n = self.n_test\n",
    "            if not data:\n",
    "                raise ValueError(\"No data provided.\")\n",
    "        \n",
    "            if not n:\n",
    "                x = data[0]\n",
    "                y = data[1]\n",
    "                \n",
    "            else:\n",
    "                # Do not use entire dataset.\n",
    "                indices = np.random.randint(0, data[0].shape[0], size=n)\n",
    "                x = data[0][indices]\n",
    "                y = data[1][indices]    \n",
    "\n",
    "            if include_phi:\n",
    "                # also implies training with two batches desired, i.e. Lusi training\n",
    "                phi_x = self.apply_phi(x)\n",
    "                dataset = tf.data.Dataset.from_tensor_slices((phi_x, x, y))   \n",
    "\n",
    "                batch_dataset_1 = dataset.shuffle(buffer_size=1024).batch(self.batch_size_1, drop_remainder=True)\n",
    "                batch_dataset_2 = dataset.shuffle(buffer_size=1024).batch(self.batch_size_2, drop_remainder=True)\n",
    "\n",
    "                self.train_batch = tf.data.Dataset.zip((batch_dataset_1, batch_dataset_2))            \n",
    "\n",
    "            else:\n",
    "            # return basic batch dataset for regular keras model\n",
    "                dataset = tf.data.Dataset.from_tensor_slices((x, y))\n",
    "                self.train_batch =  dataset.shuffle(buffer_size=1024).batch(self.batch_size_1, drop_remainder=False)\n",
    "    \n",
    "    def apply_phi(self, x) -> None:\n",
    "        \"\"\" Evaluate predicates on x and store values.\n",
    "        \n",
    "        Parameters: \n",
    "        x :: np.ndarray\n",
    "            Data to apply predicates to of dimensinos (n, d0, ..., dN).\n",
    "            For MNIST, dims = (n, 28, 28)\n",
    "\n",
    "        Returns:\n",
    "        Tensor of dimensions (n, d).\n",
    "        \"\"\"\n",
    "    \n",
    "        phi_x = np.asarray([self.phi[i](x[j]) for j in range(x.shape[0]) for i in range(self.phi.shape[0])])\n",
    "        phi_x = phi_x.reshape(x.shape[0], self.phi.shape[0])\n",
    "        phi_x = tf.convert_to_tensor(phi_x, dtype=tf.float32)\n",
    "    \n",
    "        return phi_x \n",
    "    \n",
    "    \n",
    "    def set_model(self, model) -> None:\n",
    "        self.model = model\n",
    "        \n",
    "        return None\n",
    "    \n",
    "    \n",
    "    def set_batch_sizes(self, batch_sizes : tuple) -> None:\n",
    "        self.batch_size_1 = batch_sizes[0]\n",
    "        self.batch_size_2 = batch_sizes[1]\n",
    "\n",
    "        return None\n",
    "        \n",
    "    def set_phi(self, phi : list) -> None:\n",
    "        self.phi = phi\n",
    "    \n",
    "        return None\n",
    "    \n",
    "    \n",
    "    def set_total_train_size(self, n_train) -> None:\n",
    "        self.n_train = n_train\n",
    "        \n",
    "        return None\n",
    "\n",
    "    \n",
    "    def set_total_test_size(self, n_test) -> None:\n",
    "        self.n_test = n_test\n",
    "        \n",
    "        return None\n",
    "\n",
    "    "
   ]
  },
  {
   "cell_type": "code",
   "execution_count": 403,
   "id": "6a5a5661-0c30-4f4d-b1e7-125911cac5de",
   "metadata": {},
   "outputs": [],
   "source": [
    "lp = LusiPeriphery(train_data=(x_train_2d, y_train))\n",
    "lp.set_phi(lal.phi)"
   ]
  },
  {
   "cell_type": "code",
   "execution_count": 404,
   "id": "b7af99a1-8828-4a93-a4a7-ea4cfa3b388c",
   "metadata": {},
   "outputs": [],
   "source": [
    "ds = lp.generate_batch_data()"
   ]
  },
  {
   "cell_type": "code",
   "execution_count": 13,
   "id": "d99ba949-63f6-4ec2-8c67-8e8de68d7d91",
   "metadata": {},
   "outputs": [],
   "source": [
    "train_batch = tf.data.Dataset.zip((train_dataset_b, train_dataset_b_prime))"
   ]
  },
  {
   "cell_type": "code",
   "execution_count": 405,
   "id": "1f7ad462-f2e2-4bd5-9605-e203a735473c",
   "metadata": {},
   "outputs": [
    {
     "name": "stdout",
     "output_type": "stream",
     "text": [
      "Train batch 1 dimensions for batch number 0: (TensorShape([32, 3]), TensorShape([32, 28, 28]), TensorShape([32]))\n",
      "Train batch 2 dimensions for batch number 0: (TensorShape([32, 3]), TensorShape([32, 28, 28]), TensorShape([32]))\n",
      "Train batch 1 dimensions for batch number 1: (TensorShape([32, 3]), TensorShape([32, 28, 28]), TensorShape([32]))\n",
      "Train batch 2 dimensions for batch number 1: (TensorShape([32, 3]), TensorShape([32, 28, 28]), TensorShape([32]))\n"
     ]
    }
   ],
   "source": [
    "# Dim checks.\n",
    "i = 0\n",
    "for b, b_ in ds:\n",
    "    if i < 2:\n",
    "        print(f\"Train batch 1 dimensions for batch number {i}: {b[0].shape, b[1].shape, b[2].shape}\")\n",
    "        print(f\"Train batch 2 dimensions for batch number {i}: {b_[0].shape, b_[1].shape, b_[2].shape}\")\n",
    "        i+=1"
   ]
  },
  {
   "cell_type": "code",
   "execution_count": 15,
   "id": "6dbf8101-e76c-4064-afcd-0272892eef85",
   "metadata": {},
   "outputs": [
    {
     "data": {
      "text/plain": [
       "<tf.Tensor: shape=(6, 3), dtype=float64, numpy=\n",
       "array([[1., 1., 1.],\n",
       "       [1., 1., 1.],\n",
       "       [2., 2., 2.],\n",
       "       [2., 2., 2.],\n",
       "       [2., 2., 2.],\n",
       "       [2., 2., 2.]])>"
      ]
     },
     "execution_count": 15,
     "metadata": {},
     "output_type": "execute_result"
    }
   ],
   "source": [
    "a = tf.Variable(np.ones(shape=(2,3)))\n",
    "b = tf.Variable(2 * np.ones(shape=(4,3)))\n",
    "c = tf.concat([a,b], axis=0)\n",
    "c"
   ]
  },
  {
   "cell_type": "code",
   "execution_count": 16,
   "id": "7e03f726-af18-46cb-afaa-ad236f6ed140",
   "metadata": {},
   "outputs": [
    {
     "name": "stdout",
     "output_type": "stream",
     "text": [
      "\n",
      "Shapes for batches of step 0:\n",
      "Predicates batch 1 have shape (64, 3)\n",
      "Predicates batch 2 have shape (54, 3)\n",
      "x values batch 1 have shape (64, 28, 28)\n",
      "x values batch 2 have shape (54, 28, 28)\n",
      "y values batch 1 have shape (64,)\n",
      "y values batch 2 have shape (54,)\n",
      "\n",
      "Shapes for batches of step 1:\n",
      "Predicates batch 1 have shape (64, 3)\n",
      "Predicates batch 2 have shape (54, 3)\n",
      "x values batch 1 have shape (64, 28, 28)\n",
      "x values batch 2 have shape (54, 28, 28)\n",
      "y values batch 1 have shape (64,)\n",
      "y values batch 2 have shape (54,)\n"
     ]
    }
   ],
   "source": [
    "for step, ((pred_batch_1, x_batch_train_1, y_batch_train_1), (pred_batch_2, x_batch_train_2, y_batch_train_2))  in enumerate(train_batch):\n",
    "    if step <= 1:\n",
    "        print(f\"\\nShapes for batches of step {step}:\")\n",
    "        print(f\"Predicates batch 1 have shape {pred_batch_1.shape}\")\n",
    "        print(f\"Predicates batch 2 have shape {pred_batch_2.shape}\")\n",
    "        print(f\"x values batch 1 have shape {x_batch_train_1.shape}\")\n",
    "        print(f\"x values batch 2 have shape {x_batch_train_2.shape}\")\n",
    "        print(f\"y values batch 1 have shape {y_batch_train_1.shape}\")\n",
    "        print(f\"y values batch 2 have shape {y_batch_train_2.shape}\")"
   ]
  },
  {
   "cell_type": "code",
   "execution_count": 361,
   "id": "8c1f30c4-2445-4e23-8687-00f13d21aeb4",
   "metadata": {},
   "outputs": [],
   "source": [
    "# Batch test dataset and prepare for evaluation with custom lusi loss.\n",
    "# Important: Set reminder to true, else B in custom training loop might greater than batch_size of last batch.\n",
    "test_dataset = tf.data.Dataset.from_tensor_slices((pred_eval_test, x_test, y_test))\n",
    "# test_dataset = tf.data.Dataset.from_tensor_slices((x_test, y_test))\n",
    "test_dataset = test_dataset.shuffle(buffer_size=1024).batch(batch_size, drop_remainder=True)"
   ]
  },
  {
   "cell_type": "code",
   "execution_count": 362,
   "id": "88246712-6dad-4bac-b2cf-d23192a3a068",
   "metadata": {},
   "outputs": [
    {
     "name": "stdout",
     "output_type": "stream",
     "text": [
      "Train batch dimensions for batch number 0: (TensorShape([3]), TensorShape([28, 28]), TensorShape([]))\n",
      "Test batch dimensions for batch number 0: (TensorShape([64, 3]), TensorShape([64, 28, 28]), TensorShape([64]))\n",
      "Train batch dimensions for batch number 1: (TensorShape([3]), TensorShape([28, 28]), TensorShape([]))\n",
      "Test batch dimensions for batch number 1: (TensorShape([64, 3]), TensorShape([64, 28, 28]), TensorShape([64]))\n"
     ]
    }
   ],
   "source": [
    "# Dim checks.\n",
    "i = 0\n",
    "for b, b_ in zip(train_dataset, test_dataset):\n",
    "    if i < 2:\n",
    "        print(f\"Train batch dimensions for batch number {i}: {b[0].shape, b[1].shape, b[2].shape}\")\n",
    "        print(f\"Test batch dimensions for batch number {i}: {b_[0].shape, b_[1].shape, b_[2].shape}\")\n",
    "        i+=1\n",
    "    "
   ]
  },
  {
   "cell_type": "code",
   "execution_count": 19,
   "id": "977046a9-d7b3-4b28-adae-059e5cd0e9cb",
   "metadata": {},
   "outputs": [],
   "source": [
    "# train and testset for baseline model\n",
    "train_dataset_baseline = tf.data.Dataset.from_tensor_slices((x_train_2d, y_train))\n",
    "train_dataset_baseline = train_dataset_baseline.shuffle(buffer_size=1024).batch(batch_size, drop_remainder=True)\n",
    "\n",
    "test_dataset_baseline = tf.data.Dataset.from_tensor_slices((x_test, y_test))\n",
    "test_dataset_baseline = test_dataset_baseline.shuffle(buffer_size=1024).batch(batch_size, drop_remainder=False)"
   ]
  },
  {
   "cell_type": "code",
   "execution_count": 20,
   "id": "20b39cde-d74d-4c82-94a6-740389082662",
   "metadata": {},
   "outputs": [
    {
     "name": "stdout",
     "output_type": "stream",
     "text": [
      "Train batch dimensions for batch number 0: (TensorShape([64, 28, 28]), TensorShape([64]))\n",
      "Test batch dimensions for batch number 0: (TensorShape([64, 28, 28]), TensorShape([64]))\n",
      "Train batch dimensions for batch number 1: (TensorShape([64, 28, 28]), TensorShape([64]))\n",
      "Test batch dimensions for batch number 1: (TensorShape([64, 28, 28]), TensorShape([64]))\n"
     ]
    }
   ],
   "source": [
    "# Dim checks.\n",
    "i = 0\n",
    "for b, b_ in zip(train_dataset_baseline, test_dataset_baseline):\n",
    "    if i < 2:\n",
    "        print(f\"Train batch dimensions for batch number {i}: {b[0].shape, b[1].shape}\")\n",
    "        print(f\"Test batch dimensions for batch number {i}: {b_[0].shape, b_[1].shape}\")\n",
    "        i+=1\n",
    "    "
   ]
  },
  {
   "cell_type": "markdown",
   "id": "099c7152-148d-4f09-919b-7223530e3d1b",
   "metadata": {},
   "source": [
    "## Models"
   ]
  },
  {
   "cell_type": "markdown",
   "id": "f47ed40f-8c58-490c-900f-db84d7517514",
   "metadata": {},
   "source": [
    "### Baseline model - standard neural net"
   ]
  },
  {
   "cell_type": "code",
   "execution_count": 569,
   "id": "5937f999-a1b1-4a34-b5c4-9930fbe452a1",
   "metadata": {},
   "outputs": [],
   "source": [
    "# Baseline model\n",
    "baseline_bin_class = keras.Sequential(\n",
    "[\n",
    "    layers.Flatten(input_shape=(28,28)),\n",
    "    layers.Dense(100, activation=\"relu\", name=\"hidden_layer_1\"),\n",
    "    # layers.Dense(500, activation=\"relu\", name=\"hidden_layer_2\"),\n",
    "    layers.Dense(1, activation=\"sigmoid\", name=\"output_layer\") # interpret output as prob. for class 1\n",
    "    # layers.Dense(1, name=\"output_layer\", activation=\"relu\")\n",
    "])"
   ]
  },
  {
   "cell_type": "code",
   "execution_count": 570,
   "id": "84aeb4ac-3c84-4820-b9e6-68ea3fb5c369",
   "metadata": {},
   "outputs": [],
   "source": [
    "baseline_bin_class.compile(\n",
    "    optimizer=keras.optimizers.SGD(),\n",
    "    # loss=keras.losses.SparseCategoricalCrossentropy(),\n",
    "    # loss=keras.losses.binary_crossentropy(),\n",
    "    loss = keras.losses.BinaryCrossentropy(),\n",
    "    metrics=[keras.metrics.BinaryAccuracy(), \"accuracy\"],\n",
    ")"
   ]
  },
  {
   "cell_type": "code",
   "execution_count": 571,
   "id": "3aa98851-3b47-4886-98b0-dbe71d67924d",
   "metadata": {},
   "outputs": [
    {
     "name": "stdout",
     "output_type": "stream",
     "text": [
      "Model: \"sequential_18\"\n",
      "_________________________________________________________________\n",
      " Layer (type)                Output Shape              Param #   \n",
      "=================================================================\n",
      " flatten_18 (Flatten)        (None, 784)               0         \n",
      "                                                                 \n",
      " hidden_layer_1 (Dense)      (None, 100)               78500     \n",
      "                                                                 \n",
      " output_layer (Dense)        (None, 1)                 101       \n",
      "                                                                 \n",
      "=================================================================\n",
      "Total params: 78,601\n",
      "Trainable params: 78,601\n",
      "Non-trainable params: 0\n",
      "_________________________________________________________________\n"
     ]
    }
   ],
   "source": [
    "# Model summary\n",
    "baseline_bin_class.summary()"
   ]
  },
  {
   "cell_type": "code",
   "execution_count": 575,
   "id": "daa2ee3f-830b-4904-8e43-bf98585aaa21",
   "metadata": {},
   "outputs": [
    {
     "name": "stdout",
     "output_type": "stream",
     "text": [
      "1/1 [==============================] - 0s 21ms/step - loss: 0.0530 - binary_accuracy: 0.9795 - accuracy: 0.9795\n"
     ]
    },
    {
     "data": {
      "text/plain": [
       "[0.05300832539796829, 0.9795204997062683, 0.9795204997062683]"
      ]
     },
     "execution_count": 575,
     "metadata": {},
     "output_type": "execute_result"
    }
   ],
   "source": [
    "# Evaluate baseline model on test set with no training.\n",
    "# baseline_bin_class.evaluate(x_test, y_test, batch_size=x_test.shape[0])\n",
    "baseline_bin_class.evaluate(size_m.test_data[0], size_m.test_data[1], batch_size=size_m.test_data[0].shape[0])"
   ]
  },
  {
   "cell_type": "code",
   "execution_count": 26,
   "id": "184e8d3b-80cc-42e9-b2cb-83f5940d81eb",
   "metadata": {},
   "outputs": [],
   "source": [
    "# temp = np.mean(np.round(baseline_bin_class(x_test)[0]) == y_test)\n",
    "temp = np.mean(tf.round(baseline_bin_class(x_test)[:, 0]) == y_test)"
   ]
  },
  {
   "cell_type": "code",
   "execution_count": 28,
   "id": "133b8a6c-accf-4feb-9dfa-4d73605b9152",
   "metadata": {},
   "outputs": [
    {
     "data": {
      "text/plain": [
       "0.6398601398601399"
      ]
     },
     "execution_count": 28,
     "metadata": {},
     "output_type": "execute_result"
    }
   ],
   "source": [
    "temp"
   ]
  },
  {
   "cell_type": "code",
   "execution_count": 574,
   "id": "bf022a01-2542-454e-9a18-c20005070158",
   "metadata": {},
   "outputs": [
    {
     "name": "stdout",
     "output_type": "stream",
     "text": [
      "Epoch 1/10\n",
      "190/190 [==============================] - 0s 964us/step - loss: 0.2655 - binary_accuracy: 0.9520 - accuracy: 0.9520\n",
      "Epoch 2/10\n",
      "190/190 [==============================] - 0s 998us/step - loss: 0.1045 - binary_accuracy: 0.9787 - accuracy: 0.9787\n",
      "Epoch 3/10\n",
      "190/190 [==============================] - 0s 1ms/step - loss: 0.0760 - binary_accuracy: 0.9817 - accuracy: 0.9817\n",
      "Epoch 4/10\n",
      "190/190 [==============================] - 0s 1ms/step - loss: 0.0629 - binary_accuracy: 0.9844 - accuracy: 0.9844\n",
      "Epoch 5/10\n",
      "190/190 [==============================] - 0s 1ms/step - loss: 0.0550 - binary_accuracy: 0.9859 - accuracy: 0.9859\n",
      "Epoch 6/10\n",
      "190/190 [==============================] - 0s 1ms/step - loss: 0.0496 - binary_accuracy: 0.9866 - accuracy: 0.9866\n",
      "Epoch 7/10\n",
      "190/190 [==============================] - 0s 1ms/step - loss: 0.0456 - binary_accuracy: 0.9873 - accuracy: 0.9873\n",
      "Epoch 8/10\n",
      "190/190 [==============================] - 0s 1ms/step - loss: 0.0424 - binary_accuracy: 0.9877 - accuracy: 0.9877\n",
      "Epoch 9/10\n",
      "190/190 [==============================] - 0s 1ms/step - loss: 0.0399 - binary_accuracy: 0.9883 - accuracy: 0.9883\n",
      "Epoch 10/10\n",
      "190/190 [==============================] - 0s 1ms/step - loss: 0.0378 - binary_accuracy: 0.9892 - accuracy: 0.9892\n"
     ]
    },
    {
     "data": {
      "text/plain": [
       "<keras.callbacks.History at 0x1ab524220>"
      ]
     },
     "execution_count": 574,
     "metadata": {},
     "output_type": "execute_result"
    }
   ],
   "source": [
    "# Train baseline model for 10 epochs.\n",
    "baseline_bin_class.fit(x_train_2d, y_train, batch_size=64, epochs=10)"
   ]
  },
  {
   "cell_type": "code",
   "execution_count": 30,
   "id": "b3f5dbb2-451d-4fad-ba03-b7e94ea17f89",
   "metadata": {},
   "outputs": [
    {
     "name": "stdout",
     "output_type": "stream",
     "text": [
      "1/1 [==============================] - 0s 20ms/step - loss: 0.0530 - binary_accuracy: 0.9800 - accuracy: 0.9800\n"
     ]
    },
    {
     "data": {
      "text/plain": [
       "[0.053045302629470825, 0.9800199866294861, 0.9800199866294861]"
      ]
     },
     "execution_count": 30,
     "metadata": {},
     "output_type": "execute_result"
    }
   ],
   "source": [
    "# Evaluate trained baseline model on test set.\n",
    "baseline_bin_class.evaluate(x_test, y_test, batch_size=x_test.shape[0])"
   ]
  },
  {
   "cell_type": "markdown",
   "id": "fa595e00-15da-4fba-99fd-b4305b1abe36",
   "metadata": {},
   "source": [
    "#### Remarks:\n",
    "One can recognize an improvement during training as well in the pre training evaluation score and the post training eval score."
   ]
  },
  {
   "cell_type": "markdown",
   "id": "4a71df26-7325-4758-85da-0a98ef608f62",
   "metadata": {},
   "source": [
    "### Custom model - standard neural net with custom LUSI training loss"
   ]
  },
  {
   "cell_type": "code",
   "execution_count": 576,
   "id": "10337808-0571-461c-9482-df81c1ccf421",
   "metadata": {},
   "outputs": [],
   "source": [
    "weight_matrix = tf.cast(tf.linalg.diag(np.ones(len(preds))), dtype=tf.float32)"
   ]
  },
  {
   "cell_type": "code",
   "execution_count": 577,
   "id": "c3e506f8-3c1e-437f-b242-dd18e5d9ab5d",
   "metadata": {},
   "outputs": [
    {
     "data": {
      "text/plain": [
       "<tf.Tensor: shape=(3, 3), dtype=float32, numpy=\n",
       "array([[1., 0., 0.],\n",
       "       [0., 1., 0.],\n",
       "       [0., 0., 1.]], dtype=float32)>"
      ]
     },
     "execution_count": 577,
     "metadata": {},
     "output_type": "execute_result"
    }
   ],
   "source": [
    "weight_matrix"
   ]
  },
  {
   "cell_type": "code",
   "execution_count": 589,
   "id": "d215167b-ca4f-4fde-a6c4-c001b7b8518c",
   "metadata": {},
   "outputs": [],
   "source": [
    "# Note: The predicat evaluations are part of the dataset, thus predicates=None\n",
    "lusi_net = lal.LusiModel(m_inner_prod=weight_matrix)\n",
    "lusi_net.add_optimizer(tf.keras.optimizers.SGD())"
   ]
  },
  {
   "cell_type": "code",
   "execution_count": 590,
   "id": "84a88f79-9632-423e-93c4-c88361622e5b",
   "metadata": {},
   "outputs": [
    {
     "name": "stdout",
     "output_type": "stream",
     "text": [
      "Model: \"sequential_20\"\n",
      "_________________________________________________________________\n",
      " Layer (type)                Output Shape              Param #   \n",
      "=================================================================\n",
      " flatten_20 (Flatten)        (None, 784)               0         \n",
      "                                                                 \n",
      " hidden_layer_01 (Dense)     (None, 100)               78500     \n",
      "                                                                 \n",
      " output_layer (Dense)        (None, 1)                 101       \n",
      "                                                                 \n",
      "=================================================================\n",
      "Total params: 78,601\n",
      "Trainable params: 78,601\n",
      "Non-trainable params: 0\n",
      "_________________________________________________________________\n"
     ]
    }
   ],
   "source": [
    "lusi_net.summary()"
   ]
  },
  {
   "cell_type": "code",
   "execution_count": 614,
   "id": "22df208f-040b-45f9-ba66-5f28abecd8f4",
   "metadata": {},
   "outputs": [],
   "source": [
    "# Specify some evaluation metrics for custom model\n",
    "eval_metrics = [modify_metric(tf.keras.metrics.BinaryAccuracy(name=\"Binary Accuracy\"), \"pred_and_true\"), \n",
    "                modify_metric(tf.keras.metrics.FalsePositives(name=\"False Positives\"), \"pred_and_true\"), \n",
    "                modify_metric(tf.keras.metrics.FalseNegatives(name=\"False Negatives\"), \"pred_and_true\"), \n",
    "                modify_metric(tf.keras.metrics.Precision(name=\"Precision\"), \"pred_and_true\"), \n",
    "                modify_metric(tf.keras.metrics.Recall(name=\"Recall\"), \"pred_and_true\"),\n",
    "                # modify_metric(tf.keras.metrics.Mean(name=\"Mean\"), \"loss\"),\n",
    "                # modify_metric(tf.keras.metrics.Accuracy(), \"pred_and_true\")\n",
    "               ]"
   ]
  },
  {
   "cell_type": "code",
   "execution_count": 624,
   "id": "ecf37966-71eb-4aa0-b381-ed03fdc2f584",
   "metadata": {},
   "outputs": [
    {
     "name": "stdout",
     "output_type": "stream",
     "text": [
      "tf.Tensor(0.0, shape=(), dtype=float32)\n",
      "tf.Tensor(0.0, shape=(), dtype=float32)\n",
      "tf.Tensor(0.0, shape=(), dtype=float32)\n",
      "tf.Tensor(0.0, shape=(), dtype=float32)\n",
      "tf.Tensor(0.0, shape=(), dtype=float32)\n"
     ]
    }
   ],
   "source": [
    "for eval_metric in eval_metrics:\n",
    "    eval_metric.reset_state()\n",
    "    print(eval_metric.result())"
   ]
  },
  {
   "cell_type": "code",
   "execution_count": 625,
   "id": "2266b0ab-bb88-4703-8070-d321b57a4195",
   "metadata": {},
   "outputs": [
    {
     "data": {
      "text/plain": [
       "[('Binary Accuracy', <tf.Tensor: shape=(), dtype=float32, numpy=0.964036>),\n",
       " ('False Positives', <tf.Tensor: shape=(), dtype=float32, numpy=41.0>),\n",
       " ('False Negatives', <tf.Tensor: shape=(), dtype=float32, numpy=31.0>),\n",
       " ('Precision', <tf.Tensor: shape=(), dtype=float32, numpy=0.9583333>),\n",
       " ('Recall', <tf.Tensor: shape=(), dtype=float32, numpy=0.9681725>)]"
      ]
     },
     "execution_count": 625,
     "metadata": {},
     "output_type": "execute_result"
    }
   ],
   "source": [
    "lusi_net.evaluate(size_s.test_data, eval_metrics)"
   ]
  },
  {
   "cell_type": "code",
   "execution_count": 627,
   "id": "43747dd4-3d1c-4349-8002-e35589305541",
   "metadata": {},
   "outputs": [
    {
     "data": {
      "text/plain": [
       "((2002, 28, 28), (2002,))"
      ]
     },
     "execution_count": 627,
     "metadata": {},
     "output_type": "execute_result"
    }
   ],
   "source": [
    "size_s.test_data[0].shape, size_s.test_data[1].shape "
   ]
  },
  {
   "cell_type": "code",
   "execution_count": 598,
   "id": "5752e274-bb3d-4167-8608-ff3b4992d668",
   "metadata": {},
   "outputs": [
    {
     "name": "stdout",
     "output_type": "stream",
     "text": [
      "\n",
      "Start of epoch 0\n",
      "Training loss (for one batch) at step 0: -1.1592\n",
      "Seen so far: 64 samples\n",
      "Training loss (for one batch) at step 100: 0.8662\n",
      "Seen so far: 6464 samples\n",
      "\n",
      "Start of epoch 1\n",
      "Training loss (for one batch) at step 0: -0.7866\n",
      "Seen so far: 64 samples\n",
      "Training loss (for one batch) at step 100: 0.3673\n",
      "Seen so far: 6464 samples\n",
      "\n",
      "Start of epoch 2\n",
      "Training loss (for one batch) at step 0: -1.1022\n",
      "Seen so far: 64 samples\n",
      "Training loss (for one batch) at step 100: 0.2539\n",
      "Seen so far: 6464 samples\n",
      "\n",
      "Start of epoch 3\n",
      "Training loss (for one batch) at step 0: -0.8287\n",
      "Seen so far: 64 samples\n",
      "Training loss (for one batch) at step 100: 0.1920\n",
      "Seen so far: 6464 samples\n",
      "\n",
      "Start of epoch 4\n",
      "Training loss (for one batch) at step 0: -0.6916\n",
      "Seen so far: 64 samples\n",
      "Training loss (for one batch) at step 100: 0.1425\n",
      "Seen so far: 6464 samples\n",
      "\n",
      "Start of epoch 5\n",
      "Training loss (for one batch) at step 0: -0.4747\n",
      "Seen so far: 64 samples\n",
      "Training loss (for one batch) at step 100: 0.1145\n",
      "Seen so far: 6464 samples\n",
      "\n",
      "Start of epoch 6\n",
      "Training loss (for one batch) at step 0: -0.4020\n",
      "Seen so far: 64 samples\n",
      "Training loss (for one batch) at step 100: 0.1015\n",
      "Seen so far: 6464 samples\n",
      "\n",
      "Start of epoch 7\n",
      "Training loss (for one batch) at step 0: -0.3852\n",
      "Seen so far: 64 samples\n",
      "Training loss (for one batch) at step 100: 0.0393\n",
      "Seen so far: 6464 samples\n",
      "\n",
      "Start of epoch 8\n",
      "Training loss (for one batch) at step 0: -0.2666\n",
      "Seen so far: 64 samples\n",
      "Training loss (for one batch) at step 100: 0.0659\n",
      "Seen so far: 6464 samples\n",
      "\n",
      "Start of epoch 9\n",
      "Training loss (for one batch) at step 0: -0.3054\n",
      "Seen so far: 64 samples\n",
      "Training loss (for one batch) at step 100: 0.0554\n",
      "Seen so far: 6464 samples\n"
     ]
    }
   ],
   "source": [
    "lusi_net.train_correct(size_l.train_data_batched_p, num_epochs=10, train_metrics=eval_metrics)\n",
    "# lusi_net.train_correct(train_batch, num_epochs=10, train_metrics=eval_metrics)"
   ]
  },
  {
   "cell_type": "code",
   "execution_count": 621,
   "id": "52a5621b-5551-4b78-89eb-077bfdbc82ca",
   "metadata": {},
   "outputs": [
    {
     "data": {
      "text/plain": [
       "[('Binary Accuracy', <tf.Tensor: shape=(), dtype=float32, numpy=0.964036>),\n",
       " ('False Positives', <tf.Tensor: shape=(), dtype=float32, numpy=41.0>),\n",
       " ('False Negatives', <tf.Tensor: shape=(), dtype=float32, numpy=31.0>),\n",
       " ('Precision', <tf.Tensor: shape=(), dtype=float32, numpy=0.9583333>),\n",
       " ('Recall', <tf.Tensor: shape=(), dtype=float32, numpy=0.9681725>)]"
      ]
     },
     "execution_count": 621,
     "metadata": {},
     "output_type": "execute_result"
    }
   ],
   "source": [
    "lusi_net.evaluate(size_s.test_data, eval_metrics)\n",
    "#lusi_net.evaluate((x_test, y_test), eval_metrics)"
   ]
  },
  {
   "cell_type": "code",
   "execution_count": 617,
   "id": "3e82e571-a5f3-46a7-befe-069cbaa82990",
   "metadata": {},
   "outputs": [
    {
     "data": {
      "text/plain": [
       "((2002, 28, 28), (2002,))"
      ]
     },
     "execution_count": 617,
     "metadata": {},
     "output_type": "execute_result"
    }
   ],
   "source": [
    "size_l.test_data[0].shape, size_l.test_data[1].shape"
   ]
  },
  {
   "cell_type": "code",
   "execution_count": 610,
   "id": "d2b2539a-0dd4-49b3-ab27-e60e9388f06c",
   "metadata": {},
   "outputs": [],
   "source": [
    "# lusi_net.evaluate_testset(x_test, y_test, eval_metrics)"
   ]
  },
  {
   "cell_type": "code",
   "execution_count": 611,
   "id": "4591449d-f2c2-4335-b253-c0dc8f1eca16",
   "metadata": {},
   "outputs": [
    {
     "data": {
      "text/plain": [
       "[('Binary Accuracy', <tf.Tensor: shape=(), dtype=float32, numpy=0.9642137>),\n",
       " ('False Positives', <tf.Tensor: shape=(), dtype=float32, numpy=41.0>),\n",
       " ('False Negatives', <tf.Tensor: shape=(), dtype=float32, numpy=30.0>),\n",
       " ('Precision', <tf.Tensor: shape=(), dtype=float32, numpy=0.9580777>),\n",
       " ('Recall', <tf.Tensor: shape=(), dtype=float32, numpy=0.9689762>)]"
      ]
     },
     "execution_count": 611,
     "metadata": {},
     "output_type": "execute_result"
    }
   ],
   "source": [
    "lusi_net.evaluate(test_dataset, eval_metrics)"
   ]
  },
  {
   "cell_type": "code",
   "execution_count": 356,
   "id": "2604d878-7123-4ad8-9c11-6cfc85d55f1e",
   "metadata": {},
   "outputs": [
    {
     "data": {
      "text/plain": [
       "0.4020979020979021"
      ]
     },
     "execution_count": 356,
     "metadata": {},
     "output_type": "execute_result"
    }
   ],
   "source": [
    " 1- (902 + 295)/2002"
   ]
  },
  {
   "cell_type": "code",
   "execution_count": 373,
   "id": "63601413-c2c8-47d7-b53a-2be515bc6779",
   "metadata": {},
   "outputs": [
    {
     "data": {
      "text/plain": [
       "[('Binary Accuracy', <tf.Tensor: shape=(), dtype=float32, numpy=0.2998992>),\n",
       " ('False Positives', <tf.Tensor: shape=(), dtype=float32, numpy=562.0>),\n",
       " ('False Negatives', <tf.Tensor: shape=(), dtype=float32, numpy=827.0>),\n",
       " ('Precision', <tf.Tensor: shape=(), dtype=float32, numpy=0.1994302>),\n",
       " ('Recall', <tf.Tensor: shape=(), dtype=float32, numpy=0.14477766>),\n",
       " ('accuracy', <tf.Tensor: shape=(), dtype=float32, numpy=0.2998992>)]"
      ]
     },
     "execution_count": 373,
     "metadata": {},
     "output_type": "execute_result"
    }
   ],
   "source": [
    "# Pre training evaluation on test dataset (Calculate scores for each batch and average over batches)\n",
    "# Caution: Evaluation for 'Mean' metric not yet implemented.\n",
    "lusi_net.evaluate(test_dataset, eval_metrics)"
   ]
  },
  {
   "cell_type": "code",
   "execution_count": 358,
   "id": "07e32cd2-371e-44ee-9e91-3131d318c6cd",
   "metadata": {},
   "outputs": [
    {
     "data": {
      "text/plain": [
       "<BatchDataset shapes: ((64, 3), (64, 28, 28), (64,)), types: (tf.float32, tf.float64, tf.float64)>"
      ]
     },
     "execution_count": 358,
     "metadata": {},
     "output_type": "execute_result"
    }
   ],
   "source": [
    "test_dataset"
   ]
  },
  {
   "cell_type": "code",
   "execution_count": 370,
   "id": "b6a39b2f-f205-422c-9538-9802f612de8a",
   "metadata": {},
   "outputs": [
    {
     "data": {
      "text/plain": [
       "0.3006993006993007"
      ]
     },
     "execution_count": 370,
     "metadata": {},
     "output_type": "execute_result"
    }
   ],
   "source": [
    "y_pred_test_temp = lusi_net.predict(x_test)\n",
    "y_pred_test_temp = np.asarray([j[0] for j in y_pred_test_temp])\n",
    "y_pred_test_temp\n",
    "np.mean(np.round(y_pred_test_temp) ==  y_test )"
   ]
  },
  {
   "cell_type": "code",
   "execution_count": 380,
   "id": "92046e91-c76e-4b34-af09-9982880fd0ac",
   "metadata": {},
   "outputs": [
    {
     "name": "stdout",
     "output_type": "stream",
     "text": [
      "\n",
      "Start of epoch 0\n",
      "Training loss (for one batch) at step 0: -1.1331\n",
      "Seen so far: 64 samples\n",
      "Training loss (for one batch) at step 100: 0.9742\n",
      "Seen so far: 6464 samples\n",
      "\n",
      "Start of epoch 1\n",
      "Training loss (for one batch) at step 0: -0.8624\n",
      "Seen so far: 64 samples\n",
      "Training loss (for one batch) at step 100: 0.5927\n",
      "Seen so far: 6464 samples\n",
      "\n",
      "Start of epoch 2\n",
      "Training loss (for one batch) at step 0: -1.0895\n",
      "Seen so far: 64 samples\n",
      "Training loss (for one batch) at step 100: 0.1699\n",
      "Seen so far: 6464 samples\n",
      "\n",
      "Start of epoch 3\n",
      "Training loss (for one batch) at step 0: -0.6861\n",
      "Seen so far: 64 samples\n",
      "Training loss (for one batch) at step 100: 0.0951\n",
      "Seen so far: 6464 samples\n",
      "\n",
      "Start of epoch 4\n",
      "Training loss (for one batch) at step 0: -0.8297\n",
      "Seen so far: 64 samples\n",
      "Training loss (for one batch) at step 100: 0.1503\n",
      "Seen so far: 6464 samples\n"
     ]
    }
   ],
   "source": [
    "lusi_net.train_correct(train_batch, 5, train_metrics=eval_metrics)"
   ]
  },
  {
   "cell_type": "code",
   "execution_count": 381,
   "id": "ec3e8706-1d66-4f46-ace7-c736c44b3ecc",
   "metadata": {},
   "outputs": [
    {
     "data": {
      "text/plain": [
       "[('Binary Accuracy', <tf.Tensor: shape=(), dtype=float32, numpy=0.95254743>),\n",
       " ('False Positives', <tf.Tensor: shape=(), dtype=float32, numpy=46.0>),\n",
       " ('False Negatives', <tf.Tensor: shape=(), dtype=float32, numpy=49.0>),\n",
       " ('Precision', <tf.Tensor: shape=(), dtype=float32, numpy=0.95262617>),\n",
       " ('Recall', <tf.Tensor: shape=(), dtype=float32, numpy=0.949692>),\n",
       " ('accuracy', <tf.Tensor: shape=(), dtype=float32, numpy=0.95254743>)]"
      ]
     },
     "execution_count": 381,
     "metadata": {},
     "output_type": "execute_result"
    }
   ],
   "source": [
    "lusi_net.evaluate((x_test, y_test), eval_metrics)"
   ]
  },
  {
   "cell_type": "code",
   "execution_count": 382,
   "id": "65041f78-dc73-4a58-9830-b0825661f66a",
   "metadata": {},
   "outputs": [
    {
     "data": {
      "text/plain": [
       "0.9525474525474525"
      ]
     },
     "execution_count": 382,
     "metadata": {},
     "output_type": "execute_result"
    }
   ],
   "source": [
    "y_pred_test_temp = lusi_net.predict(x_test)\n",
    "y_pred_test_temp = np.asarray([j[0] for j in y_pred_test_temp])\n",
    "y_pred_test_temp\n",
    "np.mean(np.round(y_pred_test_temp) ==  y_test )"
   ]
  },
  {
   "cell_type": "code",
   "execution_count": 291,
   "id": "8b3b716e-5b6e-43f0-88c4-70f562887325",
   "metadata": {},
   "outputs": [
    {
     "data": {
      "text/plain": [
       "0.8896103896103896"
      ]
     },
     "execution_count": 291,
     "metadata": {},
     "output_type": "execute_result"
    }
   ],
   "source": [
    "1 - 221/2002"
   ]
  },
  {
   "cell_type": "code",
   "execution_count": 383,
   "id": "676d1b4b-e09d-43fb-a3ff-5ead78d12482",
   "metadata": {},
   "outputs": [
    {
     "data": {
      "text/plain": [
       "[('Binary Accuracy', <tf.Tensor: shape=(), dtype=float32, numpy=0.952621>),\n",
       " ('False Positives', <tf.Tensor: shape=(), dtype=float32, numpy=45.0>),\n",
       " ('False Negatives', <tf.Tensor: shape=(), dtype=float32, numpy=49.0>),\n",
       " ('Precision', <tf.Tensor: shape=(), dtype=float32, numpy=0.95327103>),\n",
       " ('Recall', <tf.Tensor: shape=(), dtype=float32, numpy=0.9493278>),\n",
       " ('accuracy', <tf.Tensor: shape=(), dtype=float32, numpy=0.952621>)]"
      ]
     },
     "execution_count": 383,
     "metadata": {},
     "output_type": "execute_result"
    }
   ],
   "source": [
    "lusi_net.evaluate(test_dataset, eval_metrics)"
   ]
  },
  {
   "cell_type": "code",
   "execution_count": 385,
   "id": "22731bd7-b8a1-48a8-97fc-bea1b0789d8a",
   "metadata": {},
   "outputs": [
    {
     "data": {
      "text/plain": [
       "0.9525474525474525"
      ]
     },
     "execution_count": 385,
     "metadata": {},
     "output_type": "execute_result"
    }
   ],
   "source": [
    "1 - (46+49)/2002"
   ]
  },
  {
   "cell_type": "code",
   "execution_count": 56,
   "id": "8c0551b2-ede3-42ae-ba76-b1c52ac16c33",
   "metadata": {},
   "outputs": [],
   "source": [
    "# Train custom model for 10 epochs\n",
    "# lusi_net.train(train_dataset, 10, train_metrics=eval_metrics,  batch_1_size=32)"
   ]
  },
  {
   "cell_type": "code",
   "execution_count": 295,
   "id": "b6914d15-b608-4092-a723-0e5137119977",
   "metadata": {},
   "outputs": [
    {
     "data": {
      "text/plain": [
       "tensorflow.python.data.ops.dataset_ops.TensorSliceDataset"
      ]
     },
     "execution_count": 295,
     "metadata": {},
     "output_type": "execute_result"
    }
   ],
   "source": [
    "type(train_dataset)"
   ]
  },
  {
   "cell_type": "code",
   "execution_count": 299,
   "id": "fc76088a-f546-4ca4-bf6e-69a21997050b",
   "metadata": {},
   "outputs": [
    {
     "ename": "AttributeError",
     "evalue": "'TensorSliceDataset' object has no attribute 'dtype'",
     "output_type": "error",
     "traceback": [
      "\u001b[0;31m---------------------------------------------------------------------------\u001b[0m",
      "\u001b[0;31mAttributeError\u001b[0m                            Traceback (most recent call last)",
      "Input \u001b[0;32mIn [299]\u001b[0m, in \u001b[0;36m<cell line: 1>\u001b[0;34m()\u001b[0m\n\u001b[0;32m----> 1\u001b[0m \u001b[43mtrain_dataset\u001b[49m\u001b[38;5;241;43m.\u001b[39;49m\u001b[43mdtype\u001b[49m\n",
      "\u001b[0;31mAttributeError\u001b[0m: 'TensorSliceDataset' object has no attribute 'dtype'"
     ]
    }
   ],
   "source": [
    "train_dataset.dtype"
   ]
  },
  {
   "cell_type": "code",
   "execution_count": 307,
   "id": "649598ce-5eaf-40e4-98e2-fb9d08a28827",
   "metadata": {},
   "outputs": [
    {
     "data": {
      "text/plain": [
       "True"
      ]
     },
     "execution_count": 307,
     "metadata": {},
     "output_type": "execute_result"
    }
   ],
   "source": [
    "isinstance(train_dataset, tf.data.Dataset)\n",
    "isinstance(x_test, np.ndarray)"
   ]
  },
  {
   "cell_type": "code",
   "execution_count": 386,
   "id": "082fa42b-508e-4adf-8bb0-622ccd1a1a39",
   "metadata": {},
   "outputs": [
    {
     "name": "stdout",
     "output_type": "stream",
     "text": [
      "----- Epoch -1 -----\n",
      "Binary Accuracy: 0.29449981451034546\n",
      "False Positives: 562.0\n",
      "False Negatives: 930.0\n",
      "Precision: 0.2161785215139389\n",
      "Recall: 0.1428571492433548\n",
      "accuracy: 0.29019981622695923\n",
      "----- Epoch 0 -----\n",
      "Binary Accuracy: 0.7587069272994995\n",
      "False Positives: 3986.0\n",
      "False Negatives: 1106.0\n",
      "Precision: 0.7435006499290466\n",
      "Recall: 0.912638247013092\n",
      "accuracy: 0.7903319001197815\n",
      "----- Epoch 1 -----\n",
      "Binary Accuracy: 0.9079453945159912\n",
      "False Positives: 1608.0\n",
      "False Negatives: 445.0\n",
      "Precision: 0.8749416470527649\n",
      "Recall: 0.9619495272636414\n",
      "accuracy: 0.907945454120636\n",
      "----- Epoch 2 -----\n",
      "Binary Accuracy: 0.9568645358085632\n",
      "False Positives: 822.0\n",
      "False Negatives: 140.0\n",
      "Precision: 0.9336133003234863\n",
      "Recall: 0.988034188747406\n",
      "accuracy: 0.9568648338317871\n",
      "----- Epoch 3 -----\n",
      "Binary Accuracy: 0.9620657563209534\n",
      "False Positives: 729.0\n",
      "False Negatives: 117.0\n",
      "Precision: 0.9407846927642822\n",
      "Recall: 0.9899991154670715\n",
      "accuracy: 0.9620661735534668\n",
      "----- Epoch 4 -----\n",
      "Binary Accuracy: 0.9634556174278259\n",
      "False Positives: 688.0\n",
      "False Negatives: 127.0\n",
      "Precision: 0.9438779950141907\n",
      "Recall: 0.989143431186676\n",
      "accuracy: 0.9634562134742737\n"
     ]
    }
   ],
   "source": [
    "# Inspection of training progress\n",
    "# Epoch -1 is evaluation before first gradient update in epoch 0\n",
    "for j,e in enumerate(lusi_net.epoch_train_metrics_results):\n",
    "    print(f\"----- Epoch {j-1} -----\")\n",
    "    for i in e:\n",
    "        print(f\"{i[0]}: {i[1]}\")"
   ]
  },
  {
   "cell_type": "code",
   "execution_count": 387,
   "id": "ef45af87-534c-49e7-95d9-b4b2272a98f0",
   "metadata": {},
   "outputs": [
    {
     "data": {
      "text/plain": [
       "[('Binary Accuracy', <tf.Tensor: shape=(), dtype=float32, numpy=0.9521169>),\n",
       " ('False Positives', <tf.Tensor: shape=(), dtype=float32, numpy=46.0>),\n",
       " ('False Negatives', <tf.Tensor: shape=(), dtype=float32, numpy=49.0>),\n",
       " ('Precision', <tf.Tensor: shape=(), dtype=float32, numpy=0.9522326>),\n",
       " ('Recall', <tf.Tensor: shape=(), dtype=float32, numpy=0.9492754>),\n",
       " ('accuracy', <tf.Tensor: shape=(), dtype=float32, numpy=0.9521169>)]"
      ]
     },
     "execution_count": 387,
     "metadata": {},
     "output_type": "execute_result"
    }
   ],
   "source": [
    "lusi_net.evaluate(test_dataset, eval_metrics)"
   ]
  },
  {
   "cell_type": "code",
   "execution_count": 375,
   "id": "21408e22-7ff1-499e-93fd-c64910a08a90",
   "metadata": {},
   "outputs": [],
   "source": [
    "lusi_net_test_pred = np.round(lusi_net.predict(x_test))\n",
    "preds_y_test = np.asarray([j[0] for j in lusi_net_test_pred])"
   ]
  },
  {
   "cell_type": "code",
   "execution_count": 376,
   "id": "0aeaa416-2b6c-462f-81c1-07271f8b8c06",
   "metadata": {},
   "outputs": [
    {
     "data": {
      "text/plain": [
       "0.6748251748251748"
      ]
     },
     "execution_count": 376,
     "metadata": {},
     "output_type": "execute_result"
    }
   ],
   "source": [
    "1- (22 + 629)/2002"
   ]
  },
  {
   "cell_type": "code",
   "execution_count": 377,
   "id": "86ad6a34-2308-40f2-8abc-8510fe7e58c7",
   "metadata": {},
   "outputs": [
    {
     "data": {
      "text/plain": [
       "(2002,)"
      ]
     },
     "execution_count": 377,
     "metadata": {},
     "output_type": "execute_result"
    }
   ],
   "source": [
    "preds_y_test.shape"
   ]
  },
  {
   "cell_type": "code",
   "execution_count": 378,
   "id": "e1608cc3-3b89-486c-acef-dcd7462dc38a",
   "metadata": {},
   "outputs": [
    {
     "data": {
      "text/plain": [
       "0.3006993006993007"
      ]
     },
     "execution_count": 378,
     "metadata": {},
     "output_type": "execute_result"
    }
   ],
   "source": [
    "np.mean(preds_y_test == y_test)"
   ]
  },
  {
   "cell_type": "markdown",
   "id": "abf9f961-6373-4755-8114-bf0c37d38bed",
   "metadata": {},
   "source": [
    "#### Visual validation"
   ]
  },
  {
   "cell_type": "code",
   "execution_count": 379,
   "id": "fef05ff4-7e6f-4941-ad26-1e691af959ba",
   "metadata": {},
   "outputs": [
    {
     "data": {
      "image/png": "[encoded data removed]",
      "text/plain": [
       "<Figure size 720x720 with 20 Axes>"
      ]
     },
     "metadata": {
      "needs_background": "light"
     },
     "output_type": "display_data"
    }
   ],
   "source": [
    "random_indices = np.random.randint(0, high=x_test.shape[0], size=20).reshape(5,4)\n",
    "fig, ax = plt.subplots(nrows=5, ncols=4, figsize=(10,10))\n",
    "fig.figsize=(10,10)\n",
    "\n",
    "for i in range(5):\n",
    "    for j in range(4):\n",
    "        ax[i,j].imshow(x_test[random_indices[i,j]])\n",
    "        ax[i,j].set_title(f\"pred: {lusi_net_test_pred[random_indices[i,j]][0]}, true: {y_test[random_indices[i,j]]}\")\n",
    "        ax[i,j].axis(\"off\")"
   ]
  },
  {
   "cell_type": "code",
   "execution_count": 207,
   "id": "ad510c06-63e7-4513-80fe-4f240a1dc6c9",
   "metadata": {},
   "outputs": [
    {
     "data": {
      "text/plain": [
       "(<tf.Variable 'hidden_layer_01/kernel:0' shape=(784, 100) dtype=float32, numpy=\n",
       " array([[ 0.01029615,  0.07308923,  0.0528736 , ...,  0.01764344,\n",
       "          0.03428844,  0.06806841],\n",
       "        [ 0.04321082, -0.03620856, -0.07285321, ...,  0.00256582,\n",
       "          0.01069878,  0.01379132],\n",
       "        [-0.01839224, -0.00344887, -0.04425785, ..., -0.03740519,\n",
       "          0.0312849 , -0.04990429],\n",
       "        ...,\n",
       "        [-0.06186682,  0.0360487 ,  0.07773726, ..., -0.03847785,\n",
       "         -0.07957546, -0.02448065],\n",
       "        [ 0.05378409, -0.07762517,  0.04541375, ...,  0.03921954,\n",
       "          0.07320769,  0.00610677],\n",
       "        [ 0.05557923, -0.00094198, -0.05384734, ..., -0.02304952,\n",
       "          0.0453769 , -0.02132869]], dtype=float32)>,\n",
       " <tf.Variable 'hidden_layer_01/bias:0' shape=(100,) dtype=float32, numpy=\n",
       " array([ 2.26809527e-04,  3.96134565e-03, -4.38527612e-04, -5.05398260e-04,\n",
       "         4.54691658e-03, -2.63975060e-04, -2.56159110e-04, -3.66585399e-03,\n",
       "        -8.84142704e-03,  2.18607159e-03, -4.28816769e-03,  1.76143716e-04,\n",
       "        -5.57816471e-04,  1.36483917e-02, -2.47226958e-03, -1.71850005e-03,\n",
       "         2.52297614e-03,  2.22494127e-03, -8.80592153e-04,  1.33114445e-04,\n",
       "         1.41630108e-02, -8.70910997e-04, -1.53928029e-03, -4.77380725e-03,\n",
       "         3.65213817e-03,  2.15177480e-02, -5.71892085e-03,  6.18357025e-03,\n",
       "        -6.06950256e-04, -5.06683951e-04,  1.69775949e-03, -4.95205459e-04,\n",
       "         8.21010035e-04, -1.08476041e-03,  5.62768430e-04, -1.39365136e-03,\n",
       "         1.41739380e-03,  9.17178520e-04, -3.93974260e-05,  4.04950231e-03,\n",
       "         4.11294075e-03, -3.17837740e-03, -2.10375572e-03,  6.43259007e-03,\n",
       "        -1.21001285e-05,  5.98589366e-04,  1.64643154e-02, -1.87751127e-03,\n",
       "        -1.63302396e-03,  5.18971262e-03,  1.35330921e-02,  2.92126671e-04,\n",
       "        -9.06071276e-04, -2.06274053e-04,  3.36102606e-03, -5.01740607e-04,\n",
       "        -3.01522948e-03, -6.06079912e-03,  2.09781546e-02, -1.14404783e-03,\n",
       "        -5.58817293e-03, -2.30286340e-03, -7.16997718e-04, -5.08583151e-03,\n",
       "         8.02360754e-03, -1.15097570e-03,  8.72854237e-03, -6.05636509e-04,\n",
       "         1.77481398e-03, -1.33668625e-04,  3.48352653e-04, -3.97695258e-04,\n",
       "        -4.24364535e-03, -1.15601555e-03, -4.16563504e-04,  4.14360431e-04,\n",
       "        -7.40939938e-03, -1.18069362e-03,  1.54637572e-04,  1.74802188e-02,\n",
       "        -3.29329330e-03,  6.20836799e-04,  2.54564662e-03,  5.64347161e-03,\n",
       "        -1.63309902e-04, -2.58819479e-03,  1.96071453e-02,  5.23259165e-04,\n",
       "         5.87213319e-04, -8.53157311e-04,  6.93565793e-03, -2.83122621e-03,\n",
       "        -4.70332615e-03, -3.29470588e-03, -1.00467249e-03,  1.20383564e-04,\n",
       "        -5.64512593e-05,  1.23781606e-03, -8.12349608e-04, -3.27170826e-03],\n",
       "       dtype=float32)>,\n",
       " <tf.Variable 'output_layer/kernel:0' shape=(100, 1) dtype=float32, numpy=\n",
       " array([[ 0.11114368],\n",
       "        [-0.2036928 ],\n",
       "        [-0.09194616],\n",
       "        [ 0.03443073],\n",
       "        [ 0.21001953],\n",
       "        [-0.09168968],\n",
       "        [ 0.13674422],\n",
       "        [ 0.17293061],\n",
       "        [ 0.17219798],\n",
       "        [ 0.19200025],\n",
       "        [-0.15656388],\n",
       "        [ 0.04083515],\n",
       "        [-0.0168728 ],\n",
       "        [-0.24002966],\n",
       "        [ 0.02326028],\n",
       "        [-0.07635178],\n",
       "        [-0.06430998],\n",
       "        [ 0.17660926],\n",
       "        [ 0.03497497],\n",
       "        [-0.15011287],\n",
       "        [-0.22275603],\n",
       "        [ 0.30111793],\n",
       "        [ 0.12796466],\n",
       "        [ 0.20043823],\n",
       "        [-0.09060262],\n",
       "        [-0.26549476],\n",
       "        [ 0.1879256 ],\n",
       "        [ 0.2169814 ],\n",
       "        [ 0.00280541],\n",
       "        [ 0.00553943],\n",
       "        [ 0.25241753],\n",
       "        [ 0.00722321],\n",
       "        [-0.11566548],\n",
       "        [-0.13172092],\n",
       "        [-0.03703616],\n",
       "        [ 0.11718238],\n",
       "        [-0.05979731],\n",
       "        [ 0.11927122],\n",
       "        [ 0.23473883],\n",
       "        [ 0.12576611],\n",
       "        [ 0.09027097],\n",
       "        [ 0.08634842],\n",
       "        [ 0.0420751 ],\n",
       "        [-0.2367859 ],\n",
       "        [-0.1090173 ],\n",
       "        [ 0.04510849],\n",
       "        [-0.23268801],\n",
       "        [ 0.12269735],\n",
       "        [ 0.03582183],\n",
       "        [-0.24701343],\n",
       "        [-0.24492319],\n",
       "        [ 0.143189  ],\n",
       "        [ 0.14147264],\n",
       "        [-0.07677127],\n",
       "        [ 0.17240363],\n",
       "        [-0.00275729],\n",
       "        [ 0.23690161],\n",
       "        [ 0.08683027],\n",
       "        [-0.29086998],\n",
       "        [-0.16757733],\n",
       "        [ 0.21848556],\n",
       "        [ 0.13875453],\n",
       "        [-0.06372794],\n",
       "        [ 0.23294646],\n",
       "        [-0.20074776],\n",
       "        [ 0.019244  ],\n",
       "        [-0.16055378],\n",
       "        [ 0.0957694 ],\n",
       "        [-0.11775611],\n",
       "        [ 0.01437548],\n",
       "        [ 0.0470678 ],\n",
       "        [ 0.00532391],\n",
       "        [ 0.24100648],\n",
       "        [ 0.20964393],\n",
       "        [ 0.1010114 ],\n",
       "        [-0.02088319],\n",
       "        [ 0.22716816],\n",
       "        [ 0.09422396],\n",
       "        [-0.11323582],\n",
       "        [-0.2605425 ],\n",
       "        [ 0.05846438],\n",
       "        [-0.1546749 ],\n",
       "        [-0.04887423],\n",
       "        [-0.12644652],\n",
       "        [-0.02363356],\n",
       "        [-0.06631897],\n",
       "        [-0.2827494 ],\n",
       "        [-0.02738449],\n",
       "        [ 0.03367053],\n",
       "        [ 0.03189033],\n",
       "        [-0.13869171],\n",
       "        [ 0.2338955 ],\n",
       "        [-0.15246318],\n",
       "        [ 0.0699367 ],\n",
       "        [ 0.00265309],\n",
       "        [ 0.02052687],\n",
       "        [-0.00625603],\n",
       "        [-0.02872088],\n",
       "        [ 0.0209651 ],\n",
       "        [ 0.09216578]], dtype=float32)>,\n",
       " <tf.Variable 'output_layer/bias:0' shape=(1,) dtype=float32, numpy=array([-0.04689331], dtype=float32)>,\n",
       " <tf.Variable 'Variable:0' shape=() dtype=float32, numpy=2.0>)"
      ]
     },
     "execution_count": 207,
     "metadata": {},
     "output_type": "execute_result"
    }
   ],
   "source": [
    "lusi_net.watches_vars"
   ]
  },
  {
   "cell_type": "code",
   "execution_count": 240,
   "id": "7ad8f282-b639-400a-bc0e-cb42127d1cc0",
   "metadata": {},
   "outputs": [],
   "source": [
    "temp = (lusi_net.model_weight_list[4][1][0] - lusi_net.model_weight_list[15][1][0])"
   ]
  },
  {
   "cell_type": "code",
   "execution_count": 245,
   "id": "9f728335-c28f-4250-8159-48d55f5ee10f",
   "metadata": {},
   "outputs": [
    {
     "name": "stdout",
     "output_type": "stream",
     "text": [
      "0.0033567557\n",
      "-0.004465893\n"
     ]
    }
   ],
   "source": [
    "print(np.max(temp[temp != 0]))\n",
    "print(np.min(temp[temp != 0]))\n"
   ]
  },
  {
   "cell_type": "code",
   "execution_count": 230,
   "id": "a4019b88-457c-4171-b06d-c94e6edc5e53",
   "metadata": {},
   "outputs": [
    {
     "data": {
      "text/plain": [
       "[array([[ 4.8890710e-05,  3.0188531e-02, -4.0214725e-02, ...,\n",
       "         -1.3065308e-02, -2.8753571e-02, -4.9196303e-02],\n",
       "        [-7.3631488e-02,  4.3032289e-02, -6.9208182e-02, ...,\n",
       "         -7.8303888e-02,  2.5965855e-02,  5.5982769e-02],\n",
       "        [ 4.7780767e-02, -6.9650389e-02, -3.1469338e-02, ...,\n",
       "          1.7053321e-02, -2.0180274e-02,  6.0287729e-02],\n",
       "        ...,\n",
       "        [ 4.6156347e-02, -1.6654171e-02, -1.3102941e-02, ...,\n",
       "          3.8317069e-02,  4.9839109e-02, -4.5718636e-02],\n",
       "        [-5.2456081e-02,  7.4608058e-02, -2.8712895e-02, ...,\n",
       "         -2.5966190e-02, -2.2572141e-02, -4.1668400e-02],\n",
       "        [ 7.1549192e-02,  1.4410384e-02, -4.1738898e-02, ...,\n",
       "         -5.7290137e-02,  4.4993132e-02,  1.8160544e-02]], dtype=float32),\n",
       " array([ 5.7783659e-04, -1.3924793e-03, -5.2779360e-04, -4.4235124e-04,\n",
       "        -1.4338095e-03, -5.7914876e-05,  1.1531371e-02, -2.4699224e-03,\n",
       "         2.2904804e-02,  5.6161243e-05,  3.2234148e-04, -4.1506483e-04,\n",
       "         4.5874060e-04,  1.7970765e-03,  4.4022123e-03, -3.0980368e-06,\n",
       "        -2.0375004e-04,  4.7427402e-03,  6.3437212e-04, -5.5768522e-03,\n",
       "        -1.5085543e-03, -2.9552225e-03,  3.4754831e-04,  3.2967711e-03,\n",
       "        -4.7435886e-03,  1.2063422e-02,  1.8547284e-03,  1.0513941e-02,\n",
       "         3.2484033e-03, -2.0468934e-03,  2.8461393e-03,  1.1244617e-02,\n",
       "         8.5363043e-03, -7.7896955e-04, -1.7941325e-03,  2.5085641e-02,\n",
       "         5.9913431e-04, -7.9686817e-04,  3.1058672e-03,  8.7509362e-04,\n",
       "         4.9461154e-03,  2.9542097e-03,  5.6075925e-05, -4.9906652e-03,\n",
       "        -1.9305777e-03, -2.6764697e-03, -1.1387613e-03,  1.4760866e-04,\n",
       "         3.4878922e-05, -1.7882745e-04, -1.9738158e-04,  6.7975646e-04,\n",
       "         1.4648387e-03, -2.7172966e-04, -3.6959123e-04,  1.7963398e-02,\n",
       "         2.8940805e-04,  3.7509955e-03, -4.0028826e-03, -1.0417402e-03,\n",
       "        -1.7033350e-04,  2.6266321e-03,  1.1889829e-03, -1.4541231e-03,\n",
       "        -1.6932978e-03, -6.5186555e-03,  1.5757494e-02,  3.0340687e-03,\n",
       "         3.5254229e-04,  4.0275245e-03, -1.8161288e-03, -3.3445877e-03,\n",
       "         2.4918213e-03, -8.3336898e-04, -4.4866125e-03,  1.4168575e-03,\n",
       "        -4.0953145e-03,  1.8342107e-04, -2.7800135e-03,  2.5343241e-03,\n",
       "        -2.1112805e-06,  4.8032273e-03, -4.4013276e-03,  4.4369299e-04,\n",
       "         4.7371513e-04,  7.6719152e-04,  1.2135681e-02,  1.0378398e-02,\n",
       "        -4.1813413e-03,  9.2546071e-04,  1.2803325e-02,  3.4975132e-04,\n",
       "        -3.1957042e-03,  3.5371357e-03,  1.7198659e-03, -1.0569824e-03,\n",
       "        -9.2050852e-04,  1.3801064e-03,  8.4746098e-03, -5.1822774e-03],\n",
       "       dtype=float32),\n",
       " array([[-0.20059454],\n",
       "        [ 0.03447524],\n",
       "        [ 0.00881702],\n",
       "        [-0.0113197 ],\n",
       "        [-0.03213465],\n",
       "        [ 0.03818565],\n",
       "        [-0.2387995 ],\n",
       "        [-0.10877749],\n",
       "        [-0.30535737],\n",
       "        [ 0.2031484 ],\n",
       "        [ 0.15825436],\n",
       "        [ 0.00679056],\n",
       "        [-0.03286299],\n",
       "        [ 0.08037402],\n",
       "        [ 0.20356688],\n",
       "        [-0.02885782],\n",
       "        [ 0.00844176],\n",
       "        [-0.11429662],\n",
       "        [ 0.21479481],\n",
       "        [ 0.0396217 ],\n",
       "        [ 0.06942929],\n",
       "        [-0.04426892],\n",
       "        [ 0.15035571],\n",
       "        [-0.23991224],\n",
       "        [-0.2075693 ],\n",
       "        [-0.2132185 ],\n",
       "        [ 0.08874245],\n",
       "        [-0.23193912],\n",
       "        [ 0.0690214 ],\n",
       "        [-0.0965923 ],\n",
       "        [ 0.17115436],\n",
       "        [-0.15875062],\n",
       "        [-0.15434223],\n",
       "        [ 0.0041569 ],\n",
       "        [-0.1961741 ],\n",
       "        [-0.28804097],\n",
       "        [-0.02725314],\n",
       "        [-0.21237892],\n",
       "        [-0.10873495],\n",
       "        [-0.13487828],\n",
       "        [ 0.17008388],\n",
       "        [ 0.17814574],\n",
       "        [ 0.2293996 ],\n",
       "        [-0.19508651],\n",
       "        [ 0.07829114],\n",
       "        [ 0.17102265],\n",
       "        [-0.03923079],\n",
       "        [ 0.05440478],\n",
       "        [-0.00807561],\n",
       "        [-0.01610262],\n",
       "        [ 0.14052862],\n",
       "        [-0.05261081],\n",
       "        [-0.09381764],\n",
       "        [ 0.001239  ],\n",
       "        [ 0.02782851],\n",
       "        [-0.2866566 ],\n",
       "        [-0.2208907 ],\n",
       "        [-0.15664367],\n",
       "        [ 0.12559755],\n",
       "        [ 0.11959109],\n",
       "        [-0.06849486],\n",
       "        [-0.07593989],\n",
       "        [-0.03343773],\n",
       "        [ 0.04632038],\n",
       "        [ 0.13255486],\n",
       "        [-0.22175358],\n",
       "        [-0.30275348],\n",
       "        [-0.05944433],\n",
       "        [ 0.15039371],\n",
       "        [-0.15730223],\n",
       "        [ 0.03108528],\n",
       "        [ 0.08760694],\n",
       "        [ 0.0612407 ],\n",
       "        [ 0.19019397],\n",
       "        [ 0.11720552],\n",
       "        [ 0.10985125],\n",
       "        [ 0.20166878],\n",
       "        [ 0.03487407],\n",
       "        [ 0.17331082],\n",
       "        [-0.09846546],\n",
       "        [ 0.01150913],\n",
       "        [-0.18528467],\n",
       "        [-0.05146036],\n",
       "        [ 0.15840809],\n",
       "        [ 0.15176463],\n",
       "        [ 0.05976834],\n",
       "        [-0.23333915],\n",
       "        [-0.25489405],\n",
       "        [ 0.08205753],\n",
       "        [-0.05855844],\n",
       "        [-0.17998405],\n",
       "        [-0.23211026],\n",
       "        [ 0.10358115],\n",
       "        [ 0.0624211 ],\n",
       "        [-0.05946539],\n",
       "        [ 0.16713949],\n",
       "        [ 0.03025427],\n",
       "        [ 0.18678224],\n",
       "        [-0.1919475 ],\n",
       "        [ 0.09823414]], dtype=float32),\n",
       " array([-0.01813001], dtype=float32)]"
      ]
     },
     "execution_count": 230,
     "metadata": {},
     "output_type": "execute_result"
    }
   ],
   "source": [
    "lusi_net.layers[0].get_weights()"
   ]
  },
  {
   "cell_type": "code",
   "execution_count": 178,
   "id": "147f5b15-83c6-4324-9621-01d27ad77f0c",
   "metadata": {},
   "outputs": [
    {
     "data": {
      "text/plain": [
       "((0, 3),\n",
       " ListWrapper([array([[-0.03290785, -0.0049599 , -0.06872204, ..., -0.02190971,\n",
       "          0.04855919,  0.048613  ],\n",
       "        [-0.04266789, -0.03542301,  0.02982783, ..., -0.06789184,\n",
       "          0.01476679,  0.01816675],\n",
       "        [-0.0708926 ,  0.00394389,  0.0236842 , ...,  0.05096431,\n",
       "         -0.05892266,  0.06849761],\n",
       "        ...,\n",
       "        [ 0.0201686 ,  0.04717921,  0.0217082 , ..., -0.0435766 ,\n",
       "         -0.02208497, -0.08158264],\n",
       "        [-0.00258563,  0.05347441,  0.02945437, ..., -0.05903338,\n",
       "          0.02728259,  0.06087816],\n",
       "        [-0.05981946, -0.0771868 , -0.03381646, ...,  0.03348702,\n",
       "         -0.07569855, -0.07999133]], dtype=float32), array([ 4.5682047e-04,  3.8227742e-03,  5.5619900e-04, -5.8357842e-04,\n",
       "        -1.4825790e-04, -1.0391799e-03, -5.1099993e-04, -1.0579149e-03,\n",
       "         1.1329939e-04,  2.3807606e-03, -1.0065484e-03, -2.8342973e-03,\n",
       "         2.6445771e-03, -1.3772832e-03, -3.7042033e-03,  2.5061311e-04,\n",
       "         3.0714814e-03,  1.5233811e-03,  2.2009217e-04, -1.5971886e-03,\n",
       "         2.6499191e-03, -1.3413057e-03,  6.3573971e-05, -3.6084373e-04,\n",
       "         1.8763730e-04, -5.8248108e-05, -2.9737495e-03,  2.0344094e-05,\n",
       "        -6.7593163e-04, -6.2817743e-04, -2.4301907e-04, -9.9065085e-04,\n",
       "         1.2395054e-04, -3.5566662e-03, -1.2225637e-03, -3.2049608e-03,\n",
       "         3.1158638e-06, -9.0815818e-05, -3.3026370e-03,  1.5621297e-03,\n",
       "         2.6697428e-03, -1.1554683e-03,  1.6209007e-03, -2.8005075e-05,\n",
       "        -1.3574115e-03,  1.9956450e-03,  1.5416593e-04,  5.7654306e-05,\n",
       "        -6.3696440e-05,  6.6652143e-04,  9.0434594e-04, -6.1110692e-04,\n",
       "        -1.6902912e-03, -5.2607933e-04,  9.4639795e-04,  1.9239815e-04,\n",
       "        -1.5185005e-03, -1.1420096e-03,  3.9816817e-04, -2.9051614e-03,\n",
       "        -1.2108909e-03,  2.3878780e-03,  6.8560580e-04,  4.0148690e-04,\n",
       "        -3.3990114e-03, -2.9790349e-04, -1.6653206e-03,  2.2728657e-03,\n",
       "         4.8393640e-04, -1.7675519e-03,  0.0000000e+00, -7.6890159e-05,\n",
       "         9.3643088e-04, -6.3645793e-04,  3.7040850e-03, -2.2764022e-03,\n",
       "         2.0977540e-03, -2.5538611e-03,  2.9466895e-03, -3.0527196e-06,\n",
       "         1.4500902e-04, -6.9511414e-04, -1.6892872e-04,  5.8412936e-04,\n",
       "        -1.0083901e-03, -6.5598200e-04,  2.1348314e-03,  2.5034384e-03,\n",
       "        -1.0127673e-03,  3.2929944e-05, -3.8744940e-05, -2.5575177e-03,\n",
       "        -2.6410664e-03,  3.0294491e-03,  9.0734160e-05, -1.5040788e-04,\n",
       "         9.8735836e-05, -4.0670825e-06,  2.0955824e-03, -2.4323000e-03],\n",
       "       dtype=float32), array([[ 0.13121857],\n",
       "        [ 0.22575504],\n",
       "        [ 0.03253194],\n",
       "        [-0.03734798],\n",
       "        [-0.09556158],\n",
       "        [-0.03669713],\n",
       "        [-0.01853899],\n",
       "        [-0.13052666],\n",
       "        [ 0.01449126],\n",
       "        [ 0.18308409],\n",
       "        [-0.21304041],\n",
       "        [-0.14429992],\n",
       "        [ 0.1378451 ],\n",
       "        [-0.13037382],\n",
       "        [-0.19128424],\n",
       "        [ 0.01938209],\n",
       "        [ 0.2116929 ],\n",
       "        [ 0.09089378],\n",
       "        [ 0.21860892],\n",
       "        [-0.13980922],\n",
       "        [ 0.13103084],\n",
       "        [-0.1284826 ],\n",
       "        [ 0.10161945],\n",
       "        [-0.10440513],\n",
       "        [ 0.03061261],\n",
       "        [-0.07495629],\n",
       "        [-0.13401312],\n",
       "        [ 0.00757228],\n",
       "        [-0.18571427],\n",
       "        [-0.22038533],\n",
       "        [-0.06772581],\n",
       "        [-0.13423885],\n",
       "        [ 0.16838598],\n",
       "        [-0.19536674],\n",
       "        [-0.07153244],\n",
       "        [-0.21073766],\n",
       "        [ 0.00455107],\n",
       "        [-0.04436716],\n",
       "        [-0.18767092],\n",
       "        [ 0.11786806],\n",
       "        [ 0.13973896],\n",
       "        [-0.17796785],\n",
       "        [ 0.12903398],\n",
       "        [-0.06859124],\n",
       "        [-0.10590082],\n",
       "        [ 0.16217037],\n",
       "        [ 0.01282494],\n",
       "        [ 0.0095698 ],\n",
       "        [-0.00178477],\n",
       "        [ 0.12057543],\n",
       "        [ 0.15380225],\n",
       "        [-0.21406811],\n",
       "        [-0.07494263],\n",
       "        [-0.14168626],\n",
       "        [ 0.07269055],\n",
       "        [ 0.0162374 ],\n",
       "        [-0.10605794],\n",
       "        [-0.21374543],\n",
       "        [ 0.11038899],\n",
       "        [-0.2352982 ],\n",
       "        [-0.09953342],\n",
       "        [ 0.1228869 ],\n",
       "        [ 0.16573949],\n",
       "        [ 0.02673722],\n",
       "        [-0.1843465 ],\n",
       "        [-0.04793647],\n",
       "        [-0.22232142],\n",
       "        [ 0.13268729],\n",
       "        [ 0.04633215],\n",
       "        [-0.1356253 ],\n",
       "        [ 0.14802474],\n",
       "        [ 0.0021779 ],\n",
       "        [ 0.0523897 ],\n",
       "        [-0.0393163 ],\n",
       "        [ 0.2458623 ],\n",
       "        [-0.16168801],\n",
       "        [ 0.1926384 ],\n",
       "        [-0.14657512],\n",
       "        [ 0.2144982 ],\n",
       "        [-0.06850232],\n",
       "        [ 0.17877112],\n",
       "        [-0.04411238],\n",
       "        [-0.09258682],\n",
       "        [ 0.16119044],\n",
       "        [-0.14939651],\n",
       "        [-0.15641505],\n",
       "        [ 0.23324245],\n",
       "        [ 0.12222251],\n",
       "        [-0.06815768],\n",
       "        [ 0.05076071],\n",
       "        [-0.1288861 ],\n",
       "        [-0.14812304],\n",
       "        [-0.13350536],\n",
       "        [ 0.17576452],\n",
       "        [ 0.0097711 ],\n",
       "        [-0.23278892],\n",
       "        [ 0.13867813],\n",
       "        [-0.08118197],\n",
       "        [ 0.13521992],\n",
       "        [-0.23608017]], dtype=float32), array([0.02248421], dtype=float32)]))"
      ]
     },
     "execution_count": 178,
     "metadata": {},
     "output_type": "execute_result"
    }
   ],
   "source": [
    "lusi_net.model_weight_list[4]"
   ]
  },
  {
   "cell_type": "code",
   "execution_count": null,
   "id": "d86f2c6f-dc9a-447e-a2d1-44e578ae8c39",
   "metadata": {},
   "outputs": [],
   "source": []
  },
  {
   "cell_type": "code",
   "execution_count": null,
   "id": "f3a8c779-613e-4d73-9778-8e44798d662b",
   "metadata": {},
   "outputs": [],
   "source": []
  },
  {
   "cell_type": "code",
   "execution_count": null,
   "id": "4493c80b-15e6-4ec0-a64d-fd44ae849dee",
   "metadata": {},
   "outputs": [],
   "source": []
  },
  {
   "cell_type": "code",
   "execution_count": null,
   "id": "a57c0827-40a0-4568-b88a-0c11c7980285",
   "metadata": {},
   "outputs": [],
   "source": []
  },
  {
   "cell_type": "code",
   "execution_count": null,
   "id": "0ecaa57d-0dde-4611-93af-5f278f3223ab",
   "metadata": {},
   "outputs": [],
   "source": []
  },
  {
   "cell_type": "markdown",
   "id": "b9fba1d1-f569-49da-8b63-ee10c40520bd",
   "metadata": {},
   "source": [
    "### Temporary Issues - old implementation -> ignore"
   ]
  },
  {
   "cell_type": "markdown",
   "id": "95d92ab4-14f1-4294-9874-93728067cc5b",
   "metadata": {},
   "source": [
    "**Issue no 1.**\n",
    "\n",
    "Während des Trainings kann man einsehen, dass alle Modellparameter des neuronales Netztes vom gradient tape beobachtet werden. Problematisch ist alelrdings, dass man für die erste Matrix von der Dim (784, 100) des ersten Layers immer 0 als Gradienten erhält. Die restlichen Gradienten sind nicht 0.\n",
    "\n",
    "**Geklärt!!!** Ist beim neuen Modell nicht mehr so...\n",
    "\n",
    "Trotzdem gut zur Illustration"
   ]
  },
  {
   "cell_type": "code",
   "execution_count": 174,
   "id": "ab340e39-66d9-4cad-a46c-60f38cfc3205",
   "metadata": {},
   "outputs": [
    {
     "data": {
      "text/plain": [
       "[('Binary Accuracy', <tf.Tensor: shape=(), dtype=float32, numpy=0.8142556>),\n",
       " ('False Positives', <tf.Tensor: shape=(), dtype=float32, numpy=848.0>),\n",
       " ('False Negatives', <tf.Tensor: shape=(), dtype=float32, numpy=274.0>),\n",
       " ('Precision', <tf.Tensor: shape=(), dtype=float32, numpy=0.83850694>),\n",
       " ('Recall', <tf.Tensor: shape=(), dtype=float32, numpy=0.9414154>),\n",
       " ('Mean', <tf.Tensor: shape=(), dtype=float32, numpy=-0.24690153>),\n",
       " ('accuracy', <tf.Tensor: shape=(), dtype=float32, numpy=0.80301964>)]"
      ]
     },
     "execution_count": 174,
     "metadata": {},
     "output_type": "execute_result"
    }
   ],
   "source": [
    "lusi_net = lal.LusiModel(predicates=None, weight_matrix=weight_matrix)\n",
    "lusi_net.add_optimizer(tf.keras.optimizers.SGD())\n",
    "lusi_net.evaluate(test_dataset, eval_metrics)"
   ]
  },
  {
   "cell_type": "code",
   "execution_count": 175,
   "id": "23c54504-cde3-4405-a68b-fbde8d063f4b",
   "metadata": {},
   "outputs": [
    {
     "name": "stdout",
     "output_type": "stream",
     "text": [
      "\n",
      "Start of epoch 0\n",
      "Training loss (for one batch) at step 0: -1.1264\n",
      "Seen so far: 64 samples\n",
      "Training loss (for one batch) at step 100: 1.2990\n",
      "Seen so far: 6464 samples\n",
      "\n",
      "Start of epoch 1\n",
      "Training loss (for one batch) at step 0: -0.6952\n",
      "Seen so far: 64 samples\n",
      "Training loss (for one batch) at step 100: 0.3608\n",
      "Seen so far: 6464 samples\n",
      "\n",
      "Start of epoch 2\n",
      "Training loss (for one batch) at step 0: -1.1882\n",
      "Seen so far: 64 samples\n",
      "Training loss (for one batch) at step 100: 0.1167\n",
      "Seen so far: 6464 samples\n",
      "\n",
      "Start of epoch 3\n",
      "Training loss (for one batch) at step 0: -0.8993\n",
      "Seen so far: 64 samples\n",
      "Training loss (for one batch) at step 100: 0.2571\n",
      "Seen so far: 6464 samples\n",
      "\n",
      "Start of epoch 4\n",
      "Training loss (for one batch) at step 0: -0.6263\n",
      "Seen so far: 64 samples\n",
      "Training loss (for one batch) at step 100: 0.1625\n",
      "Seen so far: 6464 samples\n"
     ]
    }
   ],
   "source": [
    "# Train custom model for 10 epochs\n",
    "lusi_net.train_debug(train_dataset, 5, train_metrics=eval_metrics,  batch_1_size=32)"
   ]
  },
  {
   "cell_type": "code",
   "execution_count": 186,
   "id": "2b12abf2-f0a8-4f45-92df-8052c84cbfe9",
   "metadata": {},
   "outputs": [
    {
     "data": {
      "text/plain": [
       "(-1,\n",
       " ListWrapper([<tf.Variable 'hidden_layer_01/kernel:0' shape=(784, 100) dtype=float32, numpy=\n",
       " array([[-0.0370429 ,  0.01856136,  0.01109488, ..., -0.00165075,\n",
       "         -0.04981851, -0.03788538],\n",
       "        [-0.08224574, -0.0169937 , -0.06788497, ..., -0.04744552,\n",
       "         -0.07561758, -0.00373816],\n",
       "        [-0.03309216, -0.0767751 ,  0.02286159, ...,  0.04550548,\n",
       "          0.01688451, -0.04940302],\n",
       "        ...,\n",
       "        [-0.01363045,  0.0018331 ,  0.00059545, ..., -0.05137364,\n",
       "          0.01653846,  0.01442146],\n",
       "        [-0.06955153,  0.06206992, -0.02738059, ...,  0.05478401,\n",
       "          0.02380726,  0.07367747],\n",
       "        [-0.0182959 , -0.0309881 , -0.06341801, ..., -0.08149514,\n",
       "          0.062833  , -0.03134453]], dtype=float32)>, <tf.Variable 'hidden_layer_01/bias:0' shape=(100,) dtype=float32, numpy=\n",
       " array([ 1.1756525e-02,  1.1458894e-02,  5.1763508e-04,  1.1784678e-03,\n",
       "         2.3810772e-04, -7.2968501e-04,  1.9484211e-02,  6.7639253e-03,\n",
       "        -3.4178586e-03, -2.4401019e-03,  2.8623510e-04,  7.4204719e-03,\n",
       "         1.5536326e-03, -2.0258385e-03,  3.3529053e-04,  2.5974491e-03,\n",
       "        -1.4969126e-03,  1.6573455e-02, -4.5323982e-03,  2.9716271e-03,\n",
       "         4.8708572e-04,  5.5930507e-03, -3.5983135e-03, -1.0562759e-04,\n",
       "         1.9609993e-03,  1.8349327e-03, -2.5730746e-04, -1.4591473e-04,\n",
       "         1.3427201e-03,  5.0848392e-03,  4.2973898e-04, -3.5794675e-03,\n",
       "         3.5118675e-03, -6.2043848e-03, -2.5945613e-03,  5.1732082e-03,\n",
       "         1.7343981e-02,  1.1191043e-02, -2.6499380e-03,  2.8703185e-03,\n",
       "         8.5614342e-03,  3.5229509e-03,  2.6441544e-02, -3.6543347e-03,\n",
       "         2.4459134e-03, -8.7837095e-04,  8.4171846e-04,  6.0139145e-03,\n",
       "         1.0337580e-02, -9.7581424e-04, -1.7199465e-03,  1.4564581e-03,\n",
       "         2.7591756e-03, -7.7038730e-04, -1.1508797e-03,  6.5986286e-03,\n",
       "         6.7398086e-04, -2.2561791e-04, -1.7394340e-03, -1.3837367e-03,\n",
       "        -3.6953874e-03,  1.0374462e-02,  5.9525589e-03, -3.6646444e-03,\n",
       "        -5.0662941e-04, -5.6964490e-03,  2.4167445e-02,  1.4985907e-02,\n",
       "         5.2511133e-03,  4.2648148e-03, -4.6728351e-03,  4.0885637e-04,\n",
       "        -1.6384141e-03, -1.1912041e-03,  1.9252652e-03,  2.4418889e-03,\n",
       "         3.6490342e-04,  1.7552108e-02,  7.9137003e-03, -2.3449191e-03,\n",
       "         1.2359735e-04,  5.5874739e-04,  9.8368176e-04,  5.7364637e-03,\n",
       "        -3.2033779e-05, -1.2231348e-04, -5.5752171e-04,  4.1010650e-03,\n",
       "        -5.0808541e-03, -5.0244424e-03,  6.9714463e-03,  1.3205332e-03,\n",
       "         1.6519537e-02,  1.7806020e-03, -1.2588786e-04,  6.9039705e-04,\n",
       "        -2.7893786e-04,  1.4429733e-04,  2.6917439e-03,  2.9174674e-02],\n",
       "       dtype=float32)>, <tf.Variable 'output_layer/kernel:0' shape=(100, 1) dtype=float32, numpy=\n",
       " array([[-0.1443524 ],\n",
       "        [-0.22699061],\n",
       "        [ 0.21970055],\n",
       "        [ 0.14409913],\n",
       "        [-0.08568639],\n",
       "        [-0.05900043],\n",
       "        [-0.2391376 ],\n",
       "        [-0.09532768],\n",
       "        [ 0.1217924 ],\n",
       "        [ 0.14715287],\n",
       "        [ 0.18344085],\n",
       "        [-0.12719965],\n",
       "        [-0.08246374],\n",
       "        [ 0.19800913],\n",
       "        [-0.06979214],\n",
       "        [-0.14385992],\n",
       "        [ 0.05580479],\n",
       "        [-0.262104  ],\n",
       "        [ 0.05544109],\n",
       "        [-0.12371285],\n",
       "        [-0.02445921],\n",
       "        [-0.14215496],\n",
       "        [-0.23209569],\n",
       "        [ 0.10250475],\n",
       "        [-0.06761727],\n",
       "        [ 0.24072246],\n",
       "        [ 0.08288372],\n",
       "        [ 0.02470307],\n",
       "        [-0.1061181 ],\n",
       "        [-0.07267886],\n",
       "        [-0.01288329],\n",
       "        [ 0.06145913],\n",
       "        [-0.08510733],\n",
       "        [ 0.2036936 ],\n",
       "        [ 0.04893029],\n",
       "        [-0.1572463 ],\n",
       "        [-0.24819267],\n",
       "        [-0.16527952],\n",
       "        [-0.15228795],\n",
       "        [-0.15823072],\n",
       "        [-0.23234215],\n",
       "        [ 0.17411757],\n",
       "        [-0.3858018 ],\n",
       "        [ 0.23873602],\n",
       "        [-0.19189593],\n",
       "        [ 0.12776905],\n",
       "        [ 0.2904773 ],\n",
       "        [-0.14846587],\n",
       "        [ 0.18643467],\n",
       "        [ 0.18803091],\n",
       "        [ 0.05906401],\n",
       "        [ 0.2643301 ],\n",
       "        [-0.08028479],\n",
       "        [-0.03403502],\n",
       "        [ 0.17903088],\n",
       "        [ 0.20483057],\n",
       "        [-0.21663392],\n",
       "        [ 0.01739656],\n",
       "        [ 0.00869279],\n",
       "        [-0.03731922],\n",
       "        [ 0.20134187],\n",
       "        [-0.2613973 ],\n",
       "        [ 0.24559656],\n",
       "        [ 0.09046605],\n",
       "        [ 0.11585969],\n",
       "        [ 0.09013831],\n",
       "        [-0.31660527],\n",
       "        [-0.27972597],\n",
       "        [-0.10855892],\n",
       "        [-0.14872704],\n",
       "        [ 0.20137936],\n",
       "        [-0.04332716],\n",
       "        [-0.23831093],\n",
       "        [-0.17837265],\n",
       "        [ 0.18459024],\n",
       "        [ 0.30811912],\n",
       "        [-0.22187622],\n",
       "        [-0.1850531 ],\n",
       "        [-0.15652187],\n",
       "        [ 0.05161695],\n",
       "        [-0.02602001],\n",
       "        [ 0.11888383],\n",
       "        [ 0.10305119],\n",
       "        [ 0.1579868 ],\n",
       "        [ 0.01431876],\n",
       "        [-0.07761158],\n",
       "        [ 0.04689528],\n",
       "        [-0.07021749],\n",
       "        [ 0.20745775],\n",
       "        [ 0.11787716],\n",
       "        [ 0.19249137],\n",
       "        [ 0.08848771],\n",
       "        [-0.25766093],\n",
       "        [-0.09980828],\n",
       "        [ 0.2037708 ],\n",
       "        [ 0.2557336 ],\n",
       "        [-0.00174172],\n",
       "        [-0.0116796 ],\n",
       "        [ 0.11109   ],\n",
       "        [-0.34923473]], dtype=float32)>, <tf.Variable 'output_layer/bias:0' shape=(1,) dtype=float32, numpy=array([-0.05122198], dtype=float32)>]))"
      ]
     },
     "execution_count": 186,
     "metadata": {},
     "output_type": "execute_result"
    }
   ],
   "source": [
    "lusi_net.model_weight_list[0]"
   ]
  },
  {
   "cell_type": "code",
   "execution_count": 179,
   "id": "3e24ae78-d1cb-4f4c-b227-8bdfcdd9eb7a",
   "metadata": {},
   "outputs": [],
   "source": [
    "diff_grad = (lusi_net.gradient_list[0][1][0] - lusi_net.gradient_list[50][1][0]).numpy()"
   ]
  },
  {
   "cell_type": "code",
   "execution_count": 181,
   "id": "9ebe9e7f-838b-4eeb-b450-4c248207aca1",
   "metadata": {},
   "outputs": [
    {
     "data": {
      "text/plain": [
       "0.086509906"
      ]
     },
     "execution_count": 181,
     "metadata": {},
     "output_type": "execute_result"
    }
   ],
   "source": [
    "np.max(diff_grad)"
   ]
  },
  {
   "cell_type": "code",
   "execution_count": 182,
   "id": "64905252-f6c9-4a53-bf5c-9b4c06464018",
   "metadata": {},
   "outputs": [
    {
     "data": {
      "text/plain": [
       "-0.080651"
      ]
     },
     "execution_count": 182,
     "metadata": {},
     "output_type": "execute_result"
    }
   ],
   "source": [
    "np.min(diff_grad)"
   ]
  },
  {
   "cell_type": "code",
   "execution_count": 100,
   "id": "b0d0a4a4-0bee-44ce-b4b8-899e646a42ed",
   "metadata": {},
   "outputs": [
    {
     "data": {
      "text/plain": [
       "(37018,)"
      ]
     },
     "execution_count": 100,
     "metadata": {},
     "output_type": "execute_result"
    }
   ],
   "source": [
    "diff_grad[diff_grad != 0].shape"
   ]
  },
  {
   "cell_type": "code",
   "execution_count": 102,
   "id": "44fe4fb3-9a78-4eff-ba3f-051e5a1ae108",
   "metadata": {},
   "outputs": [
    {
     "data": {
      "text/plain": [
       "(784, 100)"
      ]
     },
     "execution_count": 102,
     "metadata": {},
     "output_type": "execute_result"
    }
   ],
   "source": [
    "(lusi_net.gradient_list[0][1][0]).numpy().shape"
   ]
  },
  {
   "cell_type": "markdown",
   "id": "c11ef4ef-03b5-41a6-aee1-435e511ccd6f",
   "metadata": {},
   "source": [
    "**Issue no 2.**\n",
    "\n",
    "Der Optimizer führt die Gradientenupdates nicht durch. Das Modell scheint aber ja, wie man sieht, dennoch angepasst zu werden.\n",
    "\n"
   ]
  },
  {
   "cell_type": "code",
   "execution_count": 187,
   "id": "66a279d6-5dbd-48b7-aae9-be64a4cc82b9",
   "metadata": {},
   "outputs": [
    {
     "name": "stdout",
     "output_type": "stream",
     "text": [
      "Weights for epoch 0 step 0: \n"
     ]
    },
    {
     "data": {
      "text/plain": [
       "<tf.Variable 'hidden_layer_01/kernel:0' shape=(784, 100) dtype=float32, numpy=\n",
       "array([[-0.0370429 ,  0.01856136,  0.01109488, ..., -0.00165075,\n",
       "        -0.04981851, -0.03788538],\n",
       "       [-0.08224574, -0.0169937 , -0.06788497, ..., -0.04744552,\n",
       "        -0.07561758, -0.00373816],\n",
       "       [-0.03309216, -0.0767751 ,  0.02286159, ...,  0.04550548,\n",
       "         0.01688451, -0.04940302],\n",
       "       ...,\n",
       "       [-0.01363045,  0.0018331 ,  0.00059545, ..., -0.05137364,\n",
       "         0.01653846,  0.01442146],\n",
       "       [-0.06955153,  0.06206992, -0.02738059, ...,  0.05478401,\n",
       "         0.02380726,  0.07367747],\n",
       "       [-0.0182959 , -0.0309881 , -0.06341801, ..., -0.08149514,\n",
       "         0.062833  , -0.03134453]], dtype=float32)>"
      ]
     },
     "execution_count": 187,
     "metadata": {},
     "output_type": "execute_result"
    }
   ],
   "source": [
    "print(f\"Weights for epoch {lusi_net.model_weight_list[1][0][0]} step {lusi_net.model_weight_list[1][0][1]}: \")\n",
    "lusi_net.model_weight_list[0][1][0]"
   ]
  },
  {
   "cell_type": "code",
   "execution_count": 190,
   "id": "61e8f855-439e-445a-b4a2-30de30184bb8",
   "metadata": {},
   "outputs": [
    {
     "name": "stdout",
     "output_type": "stream",
     "text": [
      "Weights for epoch 2 step 39: \n"
     ]
    },
    {
     "data": {
      "text/plain": [
       "array([[-0.0370429 ,  0.01856136,  0.01109488, ..., -0.00165075,\n",
       "        -0.04981851, -0.03788538],\n",
       "       [-0.08224574, -0.0169937 , -0.06788497, ..., -0.04744552,\n",
       "        -0.07561758, -0.00373816],\n",
       "       [-0.03309216, -0.0767751 ,  0.02286159, ...,  0.04550548,\n",
       "         0.01688451, -0.04940302],\n",
       "       ...,\n",
       "       [-0.01363045,  0.0018331 ,  0.00059545, ..., -0.05137364,\n",
       "         0.01653846,  0.01442146],\n",
       "       [-0.06955153,  0.06206992, -0.02738059, ...,  0.05478401,\n",
       "         0.02380726,  0.07367747],\n",
       "       [-0.0182959 , -0.0309881 , -0.06341801, ..., -0.08149514,\n",
       "         0.062833  , -0.03134453]], dtype=float32)"
      ]
     },
     "execution_count": 190,
     "metadata": {},
     "output_type": "execute_result"
    }
   ],
   "source": [
    "print(f\"Weights for epoch {lusi_net.model_weight_list[400][0][0]} step {lusi_net.model_weight_list[40][0][1]}: \")\n",
    "lusi_net.model_weight_list[1][1][0]"
   ]
  },
  {
   "cell_type": "markdown",
   "id": "fbd479e1-b57a-4306-af5d-31cfa0cd90b5",
   "metadata": {},
   "source": [
    "### Remarks and ToDos 07.05."
   ]
  },
  {
   "cell_type": "markdown",
   "id": "2475bf65-f664-4cb4-84ab-a0c993355304",
   "metadata": {},
   "source": [
    "- in Periphery, do not take n_train, n_test as args. Expected to pass train and test set of desired size already\n",
    "- params should be: bs_1, bs_2, preds,  "
   ]
  },
  {
   "cell_type": "code",
   "execution_count": null,
   "id": "6f814a3d-02d6-4cb1-9e1c-3b1c93798429",
   "metadata": {},
   "outputs": [],
   "source": []
  }
 ],
 "metadata": {
  "kernelspec": {
   "display_name": "lusi",
   "language": "python",
   "name": "lusi"
  },
  "language_info": {
   "codemirror_mode": {
    "name": "ipython",
    "version": 3
   },
   "file_extension": ".py",
   "mimetype": "text/x-python",
   "name": "python",
   "nbconvert_exporter": "python",
   "pygments_lexer": "ipython3",
   "version": "3.10.4"
  }
 },
 "nbformat": 4,
 "nbformat_minor": 5
}
